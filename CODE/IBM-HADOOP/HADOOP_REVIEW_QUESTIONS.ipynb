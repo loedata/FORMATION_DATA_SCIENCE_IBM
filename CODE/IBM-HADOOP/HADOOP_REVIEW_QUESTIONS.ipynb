{
 "cells": [
  {
   "cell_type": "markdown",
   "metadata": {},
   "source": [
    "# HADOOP - REVIEW QUESTIONS"
   ]
  },
  {
   "cell_type": "markdown",
   "metadata": {},
   "source": [
    "# Module 1: Introduction to Hadoop"
   ]
  },
  {
   "cell_type": "code",
   "execution_count": null,
   "metadata": {},
   "outputs": [],
   "source": [
    "# Q1 - False\n",
    "\n",
    "# Hadoop is designed for Online Transactional Processing. True or False?\n",
    "# True\n",
    "# False---------------- OK --------------------- "
   ]
  },
  {
   "cell_type": "code",
   "execution_count": null,
   "metadata": {},
   "outputs": [],
   "source": [
    "#  Q2 - When work can be parallelized\n",
    "\n",
    "# When is Hadoop useful for an application?\n",
    "# When all of the application data is unstructured\n",
    "# When work can be parallelized-------------------- OK ----------------\n",
    "# When the application requires low latency data access\n",
    "# When random data access is required"
   ]
  },
  {
   "cell_type": "code",
   "execution_count": null,
   "metadata": {
    "scrolled": false
   },
   "outputs": [],
   "source": [
    "#  Q3 - True\n",
    "\n",
    "# With the help of InfoSphere Streams, Hadoop can be used with data-at-rest as well as data-in-motion. True or false?\n",
    "# True------------------------- OK -------------------------\n",
    "# False"
   ]
  },
  {
   "cell_type": "markdown",
   "metadata": {},
   "source": [
    "# Module 2: Hadoop Architecture & HDFS"
   ]
  },
  {
   "cell_type": "code",
   "execution_count": null,
   "metadata": {},
   "outputs": [],
   "source": [
    "#  Q1 - True\n",
    "\n",
    "# Network bandwidth between any two nodes in the same rack is greater than \n",
    "# bandwidth between two nodes on different racks. True or False?\n",
    "# True--------------- OK -----------------------\n",
    "# False"
   ]
  },
  {
   "cell_type": "code",
   "execution_count": null,
   "metadata": {},
   "outputs": [],
   "source": [
    "# Q2 - True\n",
    "\n",
    "# Hadoop works best on a large data set. True or False?\n",
    "# True-------------- OK --------------------------\n",
    "# False"
   ]
  },
  {
   "cell_type": "code",
   "execution_count": null,
   "metadata": {},
   "outputs": [],
   "source": [
    "#  Q3 - False\n",
    "\n",
    "# HDFS is a fully POSIX compliant file system. True or False?\n",
    "# True\n",
    "# False---------------- OK ---------------------"
   ]
  },
  {
   "cell_type": "markdown",
   "metadata": {},
   "source": [
    "# Module 3: Hadoop Administration"
   ]
  },
  {
   "cell_type": "code",
   "execution_count": null,
   "metadata": {},
   "outputs": [],
   "source": [
    "#  Q1 - True\n",
    "\n",
    "# You can add or remove nodes from the open source Apache Ambari console. \n",
    "# True or False?\n",
    "# True--------------- OK -------------------\n",
    "# False"
   ]
  },
  {
   "cell_type": "code",
   "execution_count": null,
   "metadata": {},
   "outputs": [],
   "source": [
    "#  Q2 - False\n",
    "\n",
    "# It is recommended that you start all of the services in Ambari in order to \n",
    "# speed up communications. True or False?\n",
    "# True\n",
    "# False-------------------- OK ------------------------"
   ]
  },
  {
   "cell_type": "code",
   "execution_count": null,
   "metadata": {},
   "outputs": [],
   "source": [
    "#  Q3 - True\n",
    "\n",
    "# To remove a node using Ambari, you must first remove all of the services \n",
    "# using that node. True or False?\n",
    "# True----------------------- OK -----------------------\n",
    "# False"
   ]
  },
  {
   "cell_type": "markdown",
   "metadata": {},
   "source": [
    "# Module 4: Hadoop Components"
   ]
  },
  {
   "cell_type": "code",
   "execution_count": null,
   "metadata": {},
   "outputs": [],
   "source": [
    "#  Q1 - False\n",
    "\n",
    "# The output of the shuffle operation goes into the mapper before going into \n",
    "# the reducer. True or False?\n",
    "# True\n",
    "# False------------------ OK ------------------------"
   ]
  },
  {
   "cell_type": "code",
   "execution_count": null,
   "metadata": {},
   "outputs": [],
   "source": [
    "#  Q2 - Fewer lines of code are required compared to a Java program\n",
    "\n",
    "# What is true about Pig and Hive in relation to the Hadoop ecosystem?\n",
    "# HiveQL requires that you create the data flow\n",
    "# PigLatin requires that the data have a schema\n",
    "# Fewer lines of code are required compared to a Java program---- OK -------\n",
    "# All of the above\n",
    "# unanswered"
   ]
  },
  {
   "cell_type": "code",
   "execution_count": null,
   "metadata": {},
   "outputs": [],
   "source": [
    "#  Q3 - Sqoop\n",
    "\n",
    "# Which of the following tools is designed to move data to and from a \n",
    "# relational database?\n",
    "# Pig\n",
    "# Flume\n",
    "# Oozie\n",
    "# Sqoop----------------------- OK ----------------------\n",
    "# unanswered"
   ]
  }
 ],
 "metadata": {
  "kernelspec": {
   "display_name": "Python 3",
   "language": "python",
   "name": "python3"
  },
  "language_info": {
   "codemirror_mode": {
    "name": "ipython",
    "version": 3
   },
   "file_extension": ".py",
   "mimetype": "text/x-python",
   "name": "python",
   "nbconvert_exporter": "python",
   "pygments_lexer": "ipython3",
   "version": "3.8.5"
  }
 },
 "nbformat": 4,
 "nbformat_minor": 4
}
