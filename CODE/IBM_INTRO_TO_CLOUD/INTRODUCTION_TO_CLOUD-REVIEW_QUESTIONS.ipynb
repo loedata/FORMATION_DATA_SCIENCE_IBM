{
 "cells": [
  {
   "cell_type": "markdown",
   "metadata": {},
   "source": [
    "# INTRODUCTION TO CLOUD - REVIEW QUESTIONS"
   ]
  },
  {
   "cell_type": "markdown",
   "metadata": {},
   "source": [
    "# Module 1 - Overview of Cloud Computing"
   ]
  },
  {
   "cell_type": "code",
   "execution_count": null,
   "metadata": {},
   "outputs": [],
   "source": [
    "# Q1 - \n",
    "\n",
    "# In the US National Institute of Standards and Technology, NIST, definition \n",
    "# of \"cloud computing\", what does the statement \"shared pool of configurable \n",
    "# computing resources\" include?\n",
    "# Leverage cloud services over the open internet on hardware owned by the  \n",
    "# cloud provider\n",
    "# Data security, associated with loss or unavailability of data causing \n",
    "# business disruption\n",
    "# Five essential characteristics, three deployment models, three service \n",
    "# models\n",
    "# Networks, servers, storage, applications, and services"
   ]
  },
  {
   "cell_type": "code",
   "execution_count": null,
   "metadata": {},
   "outputs": [],
   "source": [
    "# Q2 - \n",
    "\n",
    "# What tasks do hypervisors accomplish? Select two.\n",
    "# Note: Make sure you select all of the correct options!\n",
    "\n",
    "# Enable multiple operating systems to run alongside each other, sharing the \n",
    "same physical computing resources.\n",
    "# Facilitate access to mainframes for multiple users to access the same data \n",
    "# storage layer.\n",
    "# Scale on demand to support fluctuating workloads.\n",
    "# Separates VMs logically and assigns each a share of the underlying computing\n",
    "# power, memory, and storage."
   ]
  },
  {
   "cell_type": "code",
   "execution_count": null,
   "metadata": {},
   "outputs": [],
   "source": [
    "# Q3 - \n",
    "\n",
    "# What are some of the cloud benefits that make it lower risk for enterprises\n",
    "# to adopt cloud? Select two.\n",
    "# Note: Make sure you select all of the correct options!\n",
    "\n",
    "# Data security associated with loss or unavailability of data causing business\n",
    "# disruption\n",
    "# The pay-as-you-go model allows enterprises to experiment with technologies \n",
    "# as opposed to making long-term decisions based on little or no trial.\n",
    "# Diversity of standardization in how the constantly evolving technologies \n",
    "# integrate and interoperate.\n",
    "# The speed with which applications can be up and running on the cloud versus\n",
    "# months on traditional platforms, means enterprises can experiment, fail \n",
    "# fast, learn, and course correct without setting them back significantly."
   ]
  },
  {
   "cell_type": "markdown",
   "metadata": {},
   "source": [
    "# Module 2 - Cloud Adoption and Emerging Technologies"
   ]
  },
  {
   "cell_type": "code",
   "execution_count": null,
   "metadata": {},
   "outputs": [],
   "source": [
    "# Q1 - \n",
    "\n",
    "# An IBM Institute for Business Value study says that more than three-quarters\n",
    "# of enterprises today are using cloud computing to expand into new industries.\n",
    "# What additional benefits do organizations find when adopting the cloud:\n",
    "# Lengthen product lifecycles to ensure higher quality offerings\n",
    "# Avoid having to fail at all\n",
    "# Continue making expensive decisions because it often worked in the past\n",
    "# Improve customer experience and create enhanced products and services"
   ]
  },
  {
   "cell_type": "code",
   "execution_count": null,
   "metadata": {},
   "outputs": [],
   "source": [
    "# Q2 - \n",
    "\n",
    "# What is the three-way symbiotic relationship between IoT, AI, and Cloud?\n",
    "# IoT delivers the data, AI powers the insights, and both emerging technologies\n",
    "# leverage cloud's scalability and processing power\n",
    "# Power, scale, dynamic nature, and economics of the cloud resources\n",
    "# Making sense of the endless streams of data from IoT devices\n",
    "# AI consumes the data produced by IoT devices"
   ]
  },
  {
   "cell_type": "code",
   "execution_count": null,
   "metadata": {},
   "outputs": [],
   "source": [
    "# Q3 - \n",
    "\n",
    "# What is the three-way relationship between blockchain, AI, and the Cloud?\n",
    "# Blockchain provides the trusted, decentralized source of truth, AI powers \n",
    "# the analytics and decisions made from the collected data, and cloud provides\n",
    "# the globally distributed, scalable, and cost-efficient computing resources\n",
    "# to support both technologies.\n",
    "# An immutable network allowing members to view only those transactions that \n",
    "# are relevant to them.\n",
    "# Globally distributed, scalable, and cost-efficient computing resources.\n",
    "# Lends trust and transparency to AI by recording the data and variables that \n",
    "# go into a decision made in an AI algorithm."
   ]
  },
  {
   "cell_type": "markdown",
   "metadata": {},
   "source": [
    "# Module 3 - Cloud Computing Service and Deployment Models"
   ]
  },
  {
   "cell_type": "code",
   "execution_count": null,
   "metadata": {},
   "outputs": [],
   "source": [
    "# Q1 - \n",
    "\n",
    "# Which are some of the key components of cloud infrastructure? Select two.\n",
    "# Note: Make sure you select all of the correct options.\n",
    "\n",
    "# IaaS providers manage the hypervisors and provision virtual instances\n",
    "# IaaS providers deploy the middleware and install required applications on \n",
    "# the virtual machines\n",
    "# IaaS providers manage large data centers that contain the physical machines\n",
    "# required to power the various layers of abstraction on top of them\n",
    "# IaaS providers manage the hypervisors and end-users provision the virtual\n",
    "# instances"
   ]
  },
  {
   "cell_type": "code",
   "execution_count": null,
   "metadata": {},
   "outputs": [],
   "source": [
    "# Q2 - \n",
    "\n",
    "# According to the video, which of these statements are true of Virtual Private\n",
    "# Clouds (VPCs)? Select two.\n",
    "# Note: Make sure you select all of the correct options.\n",
    "\n",
    "# VPCs are provisioned in a logically isolated part of a shared public cloud\n",
    "# The VPC infrastructure is owned, managed, and operated by the public cloud \n",
    "# service provider\n",
    "# VPCs may be provisioned over a cloud service provider’s infrastructure, but\n",
    "# the infrastructure is owned, managed, and operated by the enterprise\n",
    "# VPC allows all users of the shared public cloud to access resources in the\n",
    "# VPC on need basis; it also allows users of the VPC to access resources of the\n",
    "# public cloud"
   ]
  },
  {
   "cell_type": "code",
   "execution_count": null,
   "metadata": {},
   "outputs": [],
   "source": [
    "# Q3 - \n",
    "\n",
    "# If an organization needs to run a highly sensitive and mission critical \n",
    "# application with unpredictable performance and capacity requirements, which \n",
    "# # of the following models would best meet its requirements?\n",
    "# On-premise Data Centers\n",
    "# Hybrid Cloud\n",
    "# Public Cloud\n",
    "# Private Cloud"
   ]
  },
  {
   "cell_type": "markdown",
   "metadata": {},
   "source": [
    "# Module 4 - Components of Cloud Computing"
   ]
  },
  {
   "cell_type": "code",
   "execution_count": null,
   "metadata": {},
   "outputs": [],
   "source": [
    "# Q1 - \n",
    "\n",
    "# Is it possible to run completely different operating systems on Virtual \n",
    "# Machines (VMs) that are on a single host? If yes, what makes this possible?\n",
    "# No, it is not possible—VMs are software-based versions of a single host. \n",
    "# They cannot have different environments from one another.\n",
    "# No, it is not possible—A single host can only work as one single virtual\n",
    "# environment, and can, therefore, have only one environment.\n",
    "# Yes, Containerization makes it possible—to have VMs that are unique physical\n",
    "# entities, so you can have completely different Operating Systems on them.\n",
    "# Yes, Virtualization makes it possible— to have VMs, running different \n",
    "# operating systems, on a single host."
   ]
  },
  {
   "cell_type": "code",
   "execution_count": null,
   "metadata": {},
   "outputs": [],
   "source": [
    "# Q2 - \n",
    "\n",
    "# Which of these scenarios is ideal for the use of bare metal servers, as \n",
    "# opposed to virtual servers? Select two.\n",
    "# Note: Make sure you select all of the correct options!\n",
    "\n",
    "# CPU and I/O intensive workloads\n",
    "# Low cost to use\n",
    "# Huge performance and strict security and compliance requirements\n",
    "# Workloads that require limited throughput and performance"
   ]
  },
  {
   "cell_type": "code",
   "execution_count": null,
   "metadata": {},
   "outputs": [],
   "source": [
    "# Q3 - \n",
    "\n",
    "# Subnets are the main area where security is implemented in the cloud. What \n",
    "# is used to provide security at the virtual instance level in subnets?\n",
    "# Virtual Private Cloud or VPC\n",
    "# Load Balancers\n",
    "# Security Groups or SGs\n",
    "# Access Control Lists or ACLs"
   ]
  },
  {
   "cell_type": "markdown",
   "metadata": {},
   "source": [
    "# Module 5 - Cloud Computing Storage and Content Delivery Networks"
   ]
  },
  {
   "cell_type": "code",
   "execution_count": null,
   "metadata": {},
   "outputs": [],
   "source": [
    "# Q1 - \n",
    "\n",
    "# Which of these are features of Object Storage? Select two.\n",
    "# Note: Make sure you select all of the correct options!\n",
    "\n",
    "# Storage is attached to compute nodes using a fibre network\n",
    "# You can directly use Object Storage without attaching it to a compute node\n",
    "# Object Storage can be mounted on multiple compute nodes via an ethernet \n",
    "# network\n",
    "# Object storage is effectively infinite"
   ]
  },
  {
   "cell_type": "code",
   "execution_count": null,
   "metadata": {},
   "outputs": [],
   "source": [
    "# Q2 - \n",
    "\n",
    "# There are four types of cloud storage available. Which storage type is\n",
    "# ephemeral or non-persistent?\n",
    "# File storage\n",
    "# Object storage\n",
    "# Direct Attached storage\n",
    "# Block storage"
   ]
  },
  {
   "cell_type": "code",
   "execution_count": null,
   "metadata": {},
   "outputs": [],
   "source": [
    "# Q3 - \n",
    "\n",
    "# What is the main benefit of a Content Delivery Network (CDN)?\n",
    "# Distribute tasks, workloads, and network traffic\n",
    "# Enhanced control over network traffic by routing traffic to specified\n",
    "# resources\n",
    "# Speed, it makes your website faster by serving files from a location closer\n",
    "# to the user.\n",
    "# Network topology"
   ]
  },
  {
   "cell_type": "markdown",
   "metadata": {},
   "source": [
    "# Module 6 - Emergent Trends, Cloud Native, DevOps and Application Modernization"
   ]
  },
  {
   "cell_type": "code",
   "execution_count": null,
   "metadata": {},
   "outputs": [],
   "source": [
    "# Q1 - \n",
    "\n",
    "# What are the key elements of a hybrid Multicloud strategy?\n",
    "# For seamless working, it is recommended that if you’re subscribed to the \n",
    "# infrastructure services of a cloud provider, you should subscribe to the\n",
    "# application services provided by the same vendor.\n",
    "# Embraces a mix of cloud models and services as long as they are from the \n",
    "# same cloud service provider\n",
    "# Embraces a mix of cloud models while creating a vendor lock-in with the \n",
    "# cloud provider\n",
    "# Connects an organization’s on-premise private cloud and third-party public \n",
    "# cloud into a single infrastructure"
   ]
  },
  {
   "cell_type": "code",
   "execution_count": null,
   "metadata": {},
   "outputs": [],
   "source": [
    "# Q2 - \n",
    "\n",
    "# What is an attribute that distinguishes serverless computing from other \n",
    "# compute models?\n",
    "# End users pay for resources as long as they are running, even if idle\n",
    "# Serverless computing does not require any underlying servers for executing \n",
    "# workloads\n",
    "# In the serverless computing environment, compute resources cannot be scaled \n",
    "# up or down\n",
    "# The serverless model requires NO provisioning of servers, installation of \n",
    "# application stacks, or operation of the infrastructure BY the \n",
    "# users/developers"
   ]
  },
  {
   "cell_type": "code",
   "execution_count": null,
   "metadata": {},
   "outputs": [],
   "source": [
    "# Q3 - \n",
    "\n",
    "# Cloud adoption is an integral part of application modernization. What are \n",
    "# the other two important components of modernization?\n",
    "# Serverless and Virtual Machines\n",
    "# Microservices and DevOps\n",
    "# VMs and Agile Methodology\n",
    "# Service Oriented Architecture and Waterfall Methodology"
   ]
  },
  {
   "cell_type": "markdown",
   "metadata": {},
   "source": [
    "# [Optional] Bonus Module 7 - Cloud Security, Case Studies and Jobs in Cloud Computing"
   ]
  },
  {
   "cell_type": "code",
   "execution_count": null,
   "metadata": {},
   "outputs": [],
   "source": [
    "# Q1 - \n",
    "\n",
    "# What are some of the monitoring tools that help you to gain insights about \n",
    "# your posture, compliance, and threats? Select two\n",
    "# Note: Make sure you select all of the correct options!\n",
    "\n",
    "# Security events\n",
    "# Hypervisors\n",
    "# Flow logs from the network\n",
    "# Data encryption"
   ]
  },
  {
   "cell_type": "code",
   "execution_count": null,
   "metadata": {},
   "outputs": [],
   "source": [
    "# Q2 - \n",
    "\n",
    "# What is the role SecDevOps plays in cloud security?\n",
    "# Identity and Access Management\n",
    "# Provides policies, technological procedures, services, and solutions to \n",
    "# secure the enterprise against security threats and breaches\n",
    "# Helps maintain visibility of all data exchanges between public, private, and\n",
    "# hybrid cloud environments\n",
    "# Security in the DevOps process helps embed security through the life cycle \n",
    "# of an application"
   ]
  },
  {
   "cell_type": "code",
   "execution_count": null,
   "metadata": {},
   "outputs": [],
   "source": [
    "# Q3 - \n",
    "\n",
    "# The Weather Company migrated their weather web property to a secure, \n",
    "# scalable, and global architecture in the IBM Cloud. What are some of the\n",
    "# benefits they realized as a result of this migration? Select two.\n",
    "# Note: Make sure you select all of the correct options!\n",
    "\n",
    "# Optimize their systems for elasticity in handling extreme spikes in demand \n",
    "# which can mean a difference between life and death for its users\n",
    "# Increase asset availability and overall equipment effectiveness\n",
    "# Harness local data centers to minimize latency for users spread across the \n",
    "# globe\n",
    "# Faster development and release of new apps and digital self-service tools to\n",
    "# customers"
   ]
  }
 ],
 "metadata": {
  "kernelspec": {
   "display_name": "Python 3",
   "language": "python",
   "name": "python3"
  },
  "language_info": {
   "codemirror_mode": {
    "name": "ipython",
    "version": 3
   },
   "file_extension": ".py",
   "mimetype": "text/x-python",
   "name": "python",
   "nbconvert_exporter": "python",
   "pygments_lexer": "ipython3",
   "version": "3.8.5"
  }
 },
 "nbformat": 4,
 "nbformat_minor": 4
}
