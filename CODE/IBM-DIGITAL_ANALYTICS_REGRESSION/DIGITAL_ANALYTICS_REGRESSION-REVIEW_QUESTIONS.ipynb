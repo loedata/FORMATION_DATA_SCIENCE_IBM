{
 "cells": [
  {
   "cell_type": "markdown",
   "metadata": {},
   "source": [
    "# DIGITAL ANALYTICS & REGRESSION - REVIEW QUESTIONS"
   ]
  },
  {
   "cell_type": "markdown",
   "metadata": {},
   "source": [
    "# Module 1: Case Study 'CEO vs. CMO'"
   ]
  },
  {
   "cell_type": "code",
   "execution_count": null,
   "metadata": {},
   "outputs": [],
   "source": [
    "# Q1 - Search Engine Trends Data\n",
    "\n",
    "# You are a newly-hired analyst at a small tech startup in a big \n",
    "# metropolitan city. In your first team meeting, and one week before the \n",
    "# scheduled product launch, the Chief Executive Officer (CEO) and the Chief\n",
    "# Marketing Officer (CMO) have a heated argument about what to call the \n",
    "# product.\n",
    "# The CEO has done a quick search on Google Trends and found that ‘Analytics’ \n",
    "# is, by far, a more popular search term than ‘Data Science’ or ‘Data \n",
    "# Scientist’. \n",
    "# The CMO, who has some experience in SEM from his work at another tech \n",
    "# company, has a gut feeling that 'Data Scientist Workbench' will bring the \n",
    "# right target group to the new product. The two executives ask you to weigh \n",
    "# in.\n",
    "# Based on the Case Study you have read, which of the following is the most \n",
    "# suitable data set to start an analysis to help the executives decide which \n",
    "# term to include in the product name?\n",
    "\n",
    "# Existing Company Adwords Data\n",
    "# Open Data\n",
    "# Search Engine Trends Data--------------------- OK ------------------\n",
    "# Survey Data"
   ]
  },
  {
   "cell_type": "code",
   "execution_count": null,
   "metadata": {},
   "outputs": [],
   "source": [
    "# Q2 - 2\n",
    "\n",
    "# Based on the Case Study you have read, how many domains available for \n",
    "# purchase?\n",
    "# 1\n",
    "# 2--------------------- OK --------------------\n",
    "# 3\n",
    "# 4"
   ]
  },
  {
   "cell_type": "code",
   "execution_count": null,
   "metadata": {},
   "outputs": [],
   "source": [
    "# Q3 - When solving business problems with data, be curious.\n",
    "\n",
    "# Based on the Case Study you have read, what was the 'Expert Tip'?\n",
    "# Don't offer your opinion to senior executives if you are new to a company.\n",
    "# Your first assumption is always the correct one.\n",
    "# If it can't be measured, it doesn't exist.\n",
    "# When solving business problems with data, be curious.----------- OK ------"
   ]
  },
  {
   "cell_type": "markdown",
   "metadata": {},
   "source": [
    "# Module 2: Importing Google Trends data in R"
   ]
  },
  {
   "cell_type": "code",
   "execution_count": null,
   "metadata": {},
   "outputs": [],
   "source": [
    "# Q1 - 6\n",
    "\n",
    "# How many rows does the function head(dataset) return?\n",
    "# Enter your answer below:\n",
    "# 6"
   ]
  },
  {
   "cell_type": "code",
   "execution_count": null,
   "metadata": {},
   "outputs": [],
   "source": [
    "# Q2 - returns the first six items of the WeekID column in case_table\n",
    "\n",
    "# What does head(case_table$WeekID) do?\n",
    "# Enter your answer below:\n",
    "# returns the first six rows of case_table and all of its columns\n",
    "# returns all the data in case_table\n",
    "# returns the first six items of the WeekID column in case_table--- OK --- \n",
    "# returns the entire WeekID column of data in case_table"
   ]
  },
  {
   "cell_type": "code",
   "execution_count": null,
   "metadata": {},
   "outputs": [],
   "source": [
    "# Q3 - True\n",
    "\n",
    "# TRUE or FALSE? The function str() can be used to tell you the number of rows\n",
    "# and columns in a dataframe, and some other characteristics of the data.\n",
    "# True-------------------- OK -------------------------\n",
    "# False"
   ]
  },
  {
   "cell_type": "markdown",
   "metadata": {},
   "source": [
    "# Module 3: Plotting & Correlation"
   ]
  },
  {
   "cell_type": "code",
   "execution_count": null,
   "metadata": {},
   "outputs": [],
   "source": [
    "# Q1 -\n",
    "\n",
    "# Which search term has the most number of searches?\n",
    "# Machine Learning\n",
    "# Data Scientist\n",
    "# Analytics\n",
    "# Data Science\n",
    "# Regression"
   ]
  },
  {
   "cell_type": "code",
   "execution_count": null,
   "metadata": {},
   "outputs": [],
   "source": [
    "# Q2 -\n",
    "\n",
    "# A correlation score of 0.9 between variables X and Y indicate which of the\n",
    "# following?\n",
    "# As X increases, Y decreases.\n",
    "# There is a weak positive correlation between X and Y.\n",
    "# X and Y are opposites of each other.\n",
    "# A strong positive correlation.\n",
    "# X causes Y."
   ]
  },
  {
   "cell_type": "code",
   "execution_count": null,
   "metadata": {},
   "outputs": [],
   "source": [
    "# Q3 - \n",
    "\n",
    "# In the R script file, which command can you use to plot line graphs?\n",
    "# makePlot( )\n",
    "# createGraph( )\n",
    "# plot( )\n",
    "# linegraph( )\n",
    "# graph( )"
   ]
  },
  {
   "cell_type": "markdown",
   "metadata": {},
   "source": [
    "# Module 4: Simple Linear Regression in R"
   ]
  },
  {
   "cell_type": "code",
   "execution_count": null,
   "metadata": {},
   "outputs": [],
   "source": [
    "# Q1 -\n",
    "\n",
    "# What is the correlation between searches for 'data science' and 'data \n",
    "# scientist'? Give the numeric answer to two decimal places."
   ]
  },
  {
   "cell_type": "code",
   "execution_count": null,
   "metadata": {},
   "outputs": [],
   "source": [
    "# Q2 - \n",
    "\n",
    "# Running a linear model in R for a dataset results in the formula: \n",
    "# Y = 5.0 + 3.0X. Which of the following is true?\n",
    "# Y will always be positive.\n",
    "# X is 3 times as large as Y.\n",
    "# There is a negative correlation between X and Y.\n",
    "# As X increases, Y decreases.\n",
    "# When X is equal to 5, the model predicts that Y will equal 20."
   ]
  },
  {
   "cell_type": "code",
   "execution_count": null,
   "metadata": {},
   "outputs": [],
   "source": [
    "# Q3 - \n",
    "\n",
    "# n R, what symbol or character do we use to specify a column in a table?\n",
    "# ?\n",
    "# ==\n",
    "# /\n",
    "# $"
   ]
  }
 ],
 "metadata": {
  "kernelspec": {
   "display_name": "Python 3",
   "language": "python",
   "name": "python3"
  },
  "language_info": {
   "codemirror_mode": {
    "name": "ipython",
    "version": 3
   },
   "file_extension": ".py",
   "mimetype": "text/x-python",
   "name": "python",
   "nbconvert_exporter": "python",
   "pygments_lexer": "ipython3",
   "version": "3.8.5"
  }
 },
 "nbformat": 4,
 "nbformat_minor": 4
}
