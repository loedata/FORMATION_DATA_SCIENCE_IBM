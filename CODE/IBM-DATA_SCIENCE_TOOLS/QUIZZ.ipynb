{
 "cells": [
  {
   "cell_type": "markdown",
   "metadata": {},
   "source": [
    "# MODULE 1 - LANGUAGE OF DATA SCIENCE"
   ]
  },
  {
   "cell_type": "code",
   "execution_count": null,
   "metadata": {},
   "outputs": [],
   "source": [
    "# Q1 - 5 : All of the above\n",
    "\n",
    "# Which of the following statements is true?\n",
    "# 1. Python is the most popular language in data science.\n",
    "# 2. Keras, Scikit-learn, Matplotlib, Pandas, and TensorFlow are all built with Python.\n",
    "# 3. Python is useful for AI, machine learning, web development, and IoT.\n",
    "# 4. 80% of data scientists worldwide use Python.\n",
    "# 5. All of the above"
   ]
  },
  {
   "cell_type": "code",
   "execution_count": null,
   "metadata": {},
   "outputs": [],
   "source": [
    "# Q2 - 2, 3, 4 et 6\n",
    "\n",
    "# Which of the following are SQL databases? (Select all that apply.)\n",
    "# 1. MongoDB\n",
    "# 2. MariaDB    OK\n",
    "# 3. MySQL      OK\n",
    "# 4. PostgreSQL OK\n",
    "# 5. CouchDB\n",
    "# 6. Oracle     OK"
   ]
  },
  {
   "cell_type": "code",
   "execution_count": null,
   "metadata": {},
   "outputs": [],
   "source": [
    "# Q3 - 2 et 3... ne sais pas\n",
    "\n",
    "# Which statements are true about Open Source and Free Software? (Select all \n",
    "# that apply.)\n",
    "# 1. Free Software and Open Source can be used interchangeably.\n",
    "# 2. Free Software can always be run, studied, modified and redistributed with\n",
    "#    or without changes.\n",
    "# 3. Most of Free Software licenses also qualify for Open Source.\n",
    "# 4. Open Source Software can be modified without sharing the modified source\n",
    "#    code depending on the Open Source license."
   ]
  },
  {
   "cell_type": "code",
   "execution_count": null,
   "metadata": {},
   "outputs": [],
   "source": [
    "#  Q4 - 1 : True\n",
    "\n",
    "# Is the following statement true or false: “R integrates well with other \n",
    "# computer languages like C++, Java, C, .Net and Python.”\n",
    "# 1. True\n",
    "# 2. False"
   ]
  },
  {
   "cell_type": "code",
   "execution_count": null,
   "metadata": {},
   "outputs": [],
   "source": [
    "#  Q5 - 7 : All of the above\n",
    "\n",
    "# Which of the following languages can be used for data science?\n",
    "# 1. R\n",
    "# 2. Julia\n",
    "# 3. Scala\n",
    "# 4. SQL\n",
    "# 5. Java\n",
    "# 6. Javascript\n",
    "# 7. All of the above"
   ]
  },
  {
   "cell_type": "code",
   "execution_count": null,
   "metadata": {},
   "outputs": [],
   "source": [
    "# Q6 - 2, 3, 4 et 6\n",
    "\n",
    "# Which of the following is used to make Artificial intelligence and Machine \n",
    "# Learning possible? (Select all that apply.)\n",
    "# 1. Oracle\n",
    "# 2. PyTorch       OK\n",
    "# 3. TensorFlow.js OK\n",
    "# 4. Apache Spark  OK\n",
    "# 5. GNU\n",
    "# 6. Caffe         OK"
   ]
  },
  {
   "cell_type": "markdown",
   "metadata": {},
   "source": [
    "# MODULE 2 - Data Science Tools"
   ]
  },
  {
   "cell_type": "code",
   "execution_count": null,
   "metadata": {},
   "outputs": [],
   "source": [
    "# Q1 - 7 : All of the above\n",
    "\n",
    "# Which of the following are common tasks in data science?\n",
    "# 1. Model Building\n",
    "# 2. Data Integration and Transformation\n",
    "# 3. Model Deployment\n",
    "# 4. Data Visualization\n",
    "# 5. Data Management\n",
    "# 6. Model Monitoring and Assessment\n",
    "# 7. All of the above                      OK"
   ]
  },
  {
   "cell_type": "code",
   "execution_count": null,
   "metadata": {},
   "outputs": [],
   "source": [
    "# Q2 - 2 et 3 : MySQL et PostgreSQL\n",
    "\n",
    "# Which of the following are data management tools? (Select all that apply.)\n",
    "# 1. GitHub\n",
    "# 2. MySQL      OK \n",
    "# 3. PostgreSQL OK \n",
    "# 4. KubeFlow\n",
    "# 5. PixieDust"
   ]
  },
  {
   "cell_type": "code",
   "execution_count": null,
   "metadata": {},
   "outputs": [],
   "source": [
    "# Q3 - 2, 3 et 4 :  Apache Kafka, Apache Nifi et Apache AirFlow\n",
    "\n",
    "# Which of the following are Data Integration and Transformation tools? (Select all that apply.)\n",
    "# 1. Cassandra\n",
    "# 2. Apache Kafka   OK\n",
    "# 3. Apache Nifi    OK\n",
    "# 4. Apache AirFlow OK\n",
    "# 5. Ceph"
   ]
  },
  {
   "cell_type": "code",
   "execution_count": null,
   "metadata": {},
   "outputs": [],
   "source": [
    "# Q4 - 3 : JuypterLab can run R and Python code in addition to other \n",
    "#          programming languages\n",
    "\n",
    "# Which statement about JupyterLab is correct?\n",
    "# 1. JuypterLab can run Python code only.\n",
    "# 2. JuypterLab can run R and Python code only.\n",
    "# 3. JuypterLab can run R and Python code in addition to other programming\n",
    "#    languages OK\n",
    "# 4. JuypterLab can run R code only."
   ]
  },
  {
   "cell_type": "code",
   "execution_count": null,
   "metadata": {},
   "outputs": [],
   "source": [
    "# Q5 - 1 : RStudio is the primary choice for development in the R programming \n",
    "#          language. \n",
    "\n",
    "# Which statement about RStudio is correct?\n",
    "# 1. RStudio is the primary choice for development in the R programming \n",
    "#    language. OK\n",
    "# 2. RStudio is the primary choice for web development.\n",
    "# 3. RStudio is the primary choice for development in the Python programming \n",
    "#    language."
   ]
  },
  {
   "cell_type": "code",
   "execution_count": null,
   "metadata": {},
   "outputs": [],
   "source": [
    "# Q6 - 2 et 3 \n",
    "\n",
    "# Which statements about IBM Watson Studio and OpenScale are correct? (Select\n",
    "# all that apply.)\n",
    "# 1. Watson Studio together with Watson OpenScale is a database management\n",
    "#    system.\n",
    "# 2. Watson Studio together with Watson OpenScale covers the complete \n",
    "#    development life cycle for all data science, machine learning and AI tasks.\n",
    "#    OK\n",
    "# 3. Watson Studio together with Watson OpenScale is available as a Cloud \n",
    "#    offering as well as a package running on top of Kubernetes/RedHat \n",
    "#    OpenShift in a local data center called IBM Cloud Pak for Data.\n",
    "#    OK"
   ]
  },
  {
   "cell_type": "markdown",
   "metadata": {},
   "source": [
    "# MODULE 3 - Packages, APIs, Datasets and Models"
   ]
  },
  {
   "cell_type": "code",
   "execution_count": null,
   "metadata": {},
   "outputs": [],
   "source": [
    "# Q1 - 2 : Pandas\n",
    "\n",
    "# Which scientific computing library provides data structures and data analysis tools for Python?\n",
    "# 1. TensorFlow\n",
    "# 2. Pandas     OK\n",
    "# 3. YumPies\n",
    "# 4. Seahorse"
   ]
  },
  {
   "cell_type": "code",
   "execution_count": null,
   "metadata": {},
   "outputs": [],
   "source": [
    "# Q2 - 2 : Application Programming Interface\n",
    "\n",
    "# What does the acronym API stand for?\n",
    "# 1. Algorithmic Programming Interface\n",
    "# 2. Application Programming Interface  OK\n",
    "# 3. Abstract Programming Interface\n",
    "# 4. Abstract Python Interface"
   ]
  },
  {
   "cell_type": "code",
   "execution_count": null,
   "metadata": {},
   "outputs": [],
   "source": [
    "# Q3 - 2 : False\n",
    "\n",
    "# True or False: Open data is always distributed under a Community Data License Agreement.\n",
    "# 1. True\n",
    "# 2. False OK"
   ]
  },
  {
   "cell_type": "code",
   "execution_count": null,
   "metadata": {},
   "outputs": [],
   "source": [
    "# Q4 - 4 : Supervised teaching\n",
    "\n",
    "# Which of the following is not a type of Machine Learning?\n",
    "# 1. Unsupervised learning\n",
    "# 2. Reinforcement learning\n",
    "# 3. Supervised learning\n",
    "# 4. Supervised teaching     OK"
   ]
  },
  {
   "cell_type": "code",
   "execution_count": null,
   "metadata": {},
   "outputs": [],
   "source": [
    "# Q5 - 4 : Tommy\n",
    "\n",
    "# Which of the following is NOT a deep learning framework?\n",
    "# 1. PyTorch\n",
    "# 2. Keras\n",
    "# 3. TensorFlow\n",
    "# 4. Tommy        OK"
   ]
  },
  {
   "cell_type": "code",
   "execution_count": null,
   "metadata": {},
   "outputs": [],
   "source": [
    "# Q6 - 4 : REST API\n",
    "\n",
    "# Fill in the blank: The MAX model-serving microservices expose a \n",
    "# _________________ that applications use to consume a model.\n",
    "# 1. Python API\n",
    "# 2. Java API\n",
    "# 3. Scala API\n",
    "# 4. REST API    OK"
   ]
  },
  {
   "cell_type": "markdown",
   "metadata": {},
   "source": [
    "# MODULE 4 - GitHub"
   ]
  },
  {
   "cell_type": "code",
   "execution_count": null,
   "metadata": {},
   "outputs": [],
   "source": [
    "# Q1 - 2 et 3\n",
    "\n",
    "# Which of the following statements are true?\n",
    "# 1. Git is an integrated development environment for data science.\n",
    "# 2. Git is a system for version control of source code.\n",
    "#       OK   \n",
    "# 3. Git is very useful for data science as well since data science often \n",
    "#    involves a lot of source code to be written and managed.\n",
    "#       OK"
   ]
  },
  {
   "cell_type": "code",
   "execution_count": null,
   "metadata": {},
   "outputs": [],
   "source": [
    "# Q2 - 2, 3 et 4\n",
    "\n",
    "# Which of the following statements about repositories are correct? (Select all\n",
    "# that apply.)\n",
    "# 1. The remote repository is only accessible by myself.\n",
    "# 2. The local repository is only accessible by myself.       OK\n",
    "# 3. The staging is only accessible by myself.                OK\n",
    "# 4. The remote repository is accessible by all contributors. OK\n",
    "# 5. The local repository is accessible by all contributors."
   ]
  },
  {
   "cell_type": "code",
   "execution_count": null,
   "metadata": {},
   "outputs": [],
   "source": [
    "# Q3 - 2 : Fork the repository, update the fork and create a pull request.\n",
    "\n",
    "# What is the best process contributing a bugfix to a foreign repository?\n",
    "# 1. Send the fix via email to the author.\n",
    "# 2. Fork the repository, update the fork and create a pull request.  OK\n",
    "# 3. Ask the repository owner for write access to the repository."
   ]
  },
  {
   "cell_type": "markdown",
   "metadata": {},
   "source": [
    "# MODULE 5 - Jupyter Notebooks and JupyterLab"
   ]
  },
  {
   "cell_type": "code",
   "execution_count": null,
   "metadata": {},
   "outputs": [],
   "source": [
    "# Q1 - 4 : All of the above correct\n",
    "\n",
    "# Which of the following functions do Jupyter Notebooks unify?\n",
    "# 1. Editing and execution of source code\n",
    "# 2. Visualization of charts\n",
    "# 3. Editing and display of documentation\n",
    "# 4. All of the above correct             OK"
   ]
  },
  {
   "cell_type": "code",
   "execution_count": null,
   "metadata": {},
   "outputs": [],
   "source": [
    "# Q2 - 2 : Jupyter Notebooks are free and open source.\n",
    "\n",
    "# Which statement is true about Jupyter Notebooks?\n",
    "# 1. Jupyter Notebooks are a commercial product of IBM.\n",
    "# 2. Jupyter Notebooks are free and open source.        OK"
   ]
  },
  {
   "cell_type": "code",
   "execution_count": null,
   "metadata": {},
   "outputs": [],
   "source": [
    "# Q3 - 1 : It is a wrapper running on the Jupyter server encapsulating the \n",
    "#          programming language interpreter.\n",
    "\n",
    "# What is a Jupyter Notebook kernel?\n",
    "# 1. It is a wrapper running on the Jupyter server encapsulating the \n",
    "#    programming language interpreter. \n",
    "#       OK\n",
    "# 2. It is part of the operating system the Jupyter server runs on."
   ]
  },
  {
   "cell_type": "markdown",
   "metadata": {},
   "source": [
    "# MODULE 6 - RStudio IDE"
   ]
  },
  {
   "cell_type": "code",
   "execution_count": null,
   "metadata": {},
   "outputs": [],
   "source": [
    "# Q1 - 2, 3, 4 et 5\n",
    "\n",
    "# Which of the following functions does RStudio unify? (Select all that apply.)\n",
    "# 1. Storing of data.\n",
    "# 2. Editing and execution of source code. OK\n",
    "# 3. Display of the R Console.             OK\n",
    "# 4. Visualization of plots.               OK\n",
    "# 5. Visualization of data in table form.  OK"
   ]
  },
  {
   "cell_type": "code",
   "execution_count": null,
   "metadata": {},
   "outputs": [],
   "source": [
    "# Q2 - 2 : RStudio is free and open source.\n",
    "\n",
    "# Which statement is true about the R Studio IDE?\n",
    "# 1. RStudio is a commercial product of IBM.\n",
    "# 2. RStudio is free and open source.         OK"
   ]
  },
  {
   "cell_type": "code",
   "execution_count": null,
   "metadata": {},
   "outputs": [],
   "source": [
    "# Q3 - 1 : R currently supports more than 15,000 packages which can be installed to\n",
    "#          extend R's functionality. correct\n",
    "\n",
    "# Which statement about R packages is correct?\n",
    "# 1. R currently supports more than 15,000 packages which can be installed to\n",
    "#    extend R's functionality. correct\n",
    "#       OK\n",
    "# 2. R doesn't require any packages to be installed since it contains all \n",
    "#    functionality necessary which a data scientists ever requires."
   ]
  },
  {
   "cell_type": "markdown",
   "metadata": {},
   "source": [
    "# MODULE 7 - Watson Studio"
   ]
  },
  {
   "cell_type": "code",
   "execution_count": null,
   "metadata": {},
   "outputs": [],
   "source": [
    "# Q1 - 4 : Project\n",
    "\n",
    "# Fill in the blank: In Watson Studio, a ____________ is how you organize your\n",
    "# resources to achieve a particular goal. Resources can include data, \n",
    "# collaborators, and analytic assets like notebooks and models.\n",
    "# 1. Job\n",
    "# 2. Asset\n",
    "# 3. Notebook\n",
    "# 4. Project  OK"
   ]
  },
  {
   "cell_type": "code",
   "execution_count": null,
   "metadata": {},
   "outputs": [],
   "source": [
    "# Q2 - 4 : Credentials\n",
    "\n",
    "# Fill in the blank: It's a best practice to remove or replace _____________ \n",
    "# before publishing to GitHub.\n",
    "# 1. Markdown text\n",
    "# 2. Code cells\n",
    "# 3. Charts\n",
    "# 4. Credentials   OK"
   ]
  },
  {
   "cell_type": "code",
   "execution_count": null,
   "metadata": {},
   "outputs": [],
   "source": [
    "# Q3 - 1 : Access token\n",
    "\n",
    "# Which of the following do you need to create in order to publish a notebook \n",
    "# to your GitHub repository?\n",
    "# 1. Access token       OK\n",
    "# 2. Profile\n",
    "# 3. Apps\n",
    "# 4. Login credential"
   ]
  },
  {
   "cell_type": "code",
   "execution_count": null,
   "metadata": {},
   "outputs": [],
   "source": [
    "# Q4 - 3 : Job\n",
    "\n",
    "# Fill in the blank: If you'd like to schedule a notebook in Watson Studio to \n",
    "# run at a different time you can create a(n) _____________.\n",
    "# 1. Asset\n",
    "# 2. Markdown cell\n",
    "# 3. Job            OK\n",
    "# 4. API"
   ]
  },
  {
   "cell_type": "code",
   "execution_count": null,
   "metadata": {},
   "outputs": [],
   "source": [
    "# Q5 - 5 : All of the above\n",
    "\n",
    "# Fill in the blank: On the environments tab you can define the\n",
    "# _________________.\n",
    "# 1. Software configuration\n",
    "# 2. Runtime configuration for flow editor\n",
    "# 3. Hardware size                            \n",
    "# 4. Runtime configuration for notebook editor \n",
    "# 5. All of the above                           OK"
   ]
  },
  {
   "cell_type": "code",
   "execution_count": null,
   "metadata": {},
   "outputs": [],
   "source": [
    "# Q6 - 5 : All of the above\n",
    "\n",
    "# Fill in the blank: When sharing a read only version of a notebook, you can \n",
    "# choose to share __________________.\n",
    "# 1. A permalink\n",
    "# 2. All content, excluding sensitive code cells\n",
    "# 3. Only text and output\n",
    "# 4. All content including code\n",
    "# 5. All of the above             OK"
   ]
  },
  {
   "cell_type": "code",
   "execution_count": null,
   "metadata": {},
   "outputs": [],
   "source": [
    "# Q7 - 4 : Save your notebook\n",
    "\n",
    "# Fill in the blank: When working in a Jupyter Notebook, before returning to a \n",
    "# project, it's important to ________________________.\n",
    "# 1. Insert cells\n",
    "# 2. Run cells\n",
    "# 3. Insert to code\n",
    "# 4. Save your notebook"
   ]
  },
  {
   "cell_type": "code",
   "execution_count": null,
   "metadata": {},
   "outputs": [],
   "source": [
    "# Q8 - 1 : Insert a cell at the top of the notebook\n",
    "\n",
    "# Fill in the blank: Before running a notebook, it's a best practice to \n",
    "# ____________ to describe what the notebook does.\n",
    "# 1. Insert a cell at the top of the notebook      OK\n",
    "# 2. Refresh your page\n",
    "# 3. Delete notebook cells\n",
    "# 4. Insert a cell at the bottom of the notebook"
   ]
  },
  {
   "cell_type": "code",
   "execution_count": null,
   "metadata": {},
   "outputs": [],
   "source": [
    "# Q9 - 4 : Environments\n",
    "\n",
    "# Fill in the blank: In the _____________ tab you can define the hardware size \n",
    "# and software configuration for the runtime associated with Watson Studio \n",
    "# tools such as notebooks.\n",
    "# 1. Settings\n",
    "# 2. Assets\n",
    "# 3. Overview\n",
    "# 4. Environments   OK"
   ]
  },
  {
   "cell_type": "code",
   "execution_count": null,
   "metadata": {},
   "outputs": [],
   "source": [
    "# Q10 - 3 : Resource groups\n",
    "\n",
    "# Fill in the blank: IBM Cloud uses ______________ as a way for you to \n",
    "# organize your account resources in customizable groupings so that you can \n",
    "# quickly assign users access to more than one resource at a time.\n",
    "# 1. Services\n",
    "# 2. Catalogs\n",
    "# 3. Resource groups  OK\n",
    "# 4. Projects"
   ]
  }
 ],
 "metadata": {
  "kernelspec": {
   "display_name": "Python 3",
   "language": "python",
   "name": "python3"
  },
  "language_info": {
   "codemirror_mode": {
    "name": "ipython",
    "version": 3
   },
   "file_extension": ".py",
   "mimetype": "text/x-python",
   "name": "python",
   "nbconvert_exporter": "python",
   "pygments_lexer": "ipython3",
   "version": "3.8.5"
  }
 },
 "nbformat": 4,
 "nbformat_minor": 4
}
