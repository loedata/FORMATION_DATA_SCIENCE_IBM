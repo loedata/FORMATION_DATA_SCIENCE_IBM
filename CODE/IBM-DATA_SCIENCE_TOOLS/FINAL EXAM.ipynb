{
 "cells": [
  {
   "cell_type": "markdown",
   "metadata": {},
   "source": [
    "# SCIENCE DATA TOOLS - EXAMEN FINAL"
   ]
  },
  {
   "cell_type": "code",
   "execution_count": null,
   "metadata": {},
   "outputs": [],
   "source": [
    "# Q1 - 2, 4 et 5\n",
    "\n",
    "# Which are the three most used languages for data science? (Select all that\n",
    "# apply.)\n",
    "# 1. Java\n",
    "# 2. R      OK\n",
    "# 3. Scala\n",
    "# 4. Python OK\n",
    "# 5. SQL    OK"
   ]
  },
  {
   "cell_type": "code",
   "execution_count": null,
   "metadata": {},
   "outputs": [],
   "source": [
    "# Q2 - 1\n",
    "\n",
    "# Which of these is a database query language?\n",
    "# 1. SQL      OK\n",
    "# 2. Python\n",
    "# 3. Julia\n",
    "# 4. All of the Above"
   ]
  },
  {
   "cell_type": "code",
   "execution_count": null,
   "metadata": {},
   "outputs": [],
   "source": [
    "# Q3 - 2\n",
    "\n",
    "# Is it possible to use machine learning within a web browser with Javascript?\n",
    "# 1. No\n",
    "# 2. Yes  OK"
   ]
  },
  {
   "cell_type": "code",
   "execution_count": null,
   "metadata": {},
   "outputs": [],
   "source": [
    "# Q4 - 4\n",
    "\n",
    "# Which of these is not a machine learning or deep learning library for Python?\n",
    "# 1. Scikit-learn\n",
    "# 2. PyTorch\n",
    "# 3. Keras\n",
    "# 4. NumPy        OK"
   ]
  },
  {
   "cell_type": "code",
   "execution_count": null,
   "metadata": {},
   "outputs": [],
   "source": [
    "# Q5 - 1\n",
    "\n",
    "# Comma Separated Values (CSV) is a commonly used format to store:\n",
    "# 1. Tabular data                OK\n",
    "# 2. Hierarchical or network data\n",
    "# 3. All of the above"
   ]
  },
  {
   "cell_type": "code",
   "execution_count": null,
   "metadata": {},
   "outputs": [],
   "source": [
    "# Q6 - 4\n",
    "\n",
    "# Classification models can be used to determine whether:\n",
    "# 1. an image contains a dog\n",
    "# 2. a video contains a specific sound\n",
    "# 3. an email is likely spam\n",
    "# 4. All of the above                   OK"
   ]
  },
  {
   "cell_type": "code",
   "execution_count": null,
   "metadata": {},
   "outputs": [],
   "source": [
    "# Q7 - 2\n",
    "\n",
    "# Generally speaking, which type of model is used to predict a numerical value,\n",
    "# such as the potential sales price of a used car?\n",
    "# 1. Classification model\n",
    "# 2. Regression model      OK\n",
    "# 3. Clustering model"
   ]
  },
  {
   "cell_type": "code",
   "execution_count": null,
   "metadata": {},
   "outputs": [],
   "source": [
    "# Q8 - 2\n",
    "\n",
    "# Fill in the blank: ________________ is the heart of every organization.\n",
    "# 1. The cloud\n",
    "# 2. Data        OK\n",
    "# 3. Integration\n",
    "# 4. Open source"
   ]
  },
  {
   "cell_type": "code",
   "execution_count": null,
   "metadata": {},
   "outputs": [],
   "source": [
    "# Q9 - 2\n",
    "\n",
    "# What does the “BI” in BI Tools stand for?\n",
    "# 1. Build Information\n",
    "# 2. Business Intelligence  OK\n",
    "# 3. Build Integration\n",
    "# 4. Business Integration"
   ]
  },
  {
   "cell_type": "code",
   "execution_count": null,
   "metadata": {},
   "outputs": [],
   "source": [
    "# Q10 - 4\n",
    "\n",
    "# Which of the following are true about Data Asset Management?\n",
    "# 1. To be done effectively data must be versioned and annotated with meta \n",
    "#    data.\n",
    "# 2. A crucial part of data science at the enterprise level.\n",
    "# 3. Also known as data governance.\n",
    "# 4. All of the above                                          OK"
   ]
  },
  {
   "cell_type": "code",
   "execution_count": null,
   "metadata": {},
   "outputs": [],
   "source": [
    "# Q11 - 2 et 3\n",
    "\n",
    "# Which are the two most used open source tools for data science? (Select all \n",
    "# that apply.)\n",
    "# 1. Notepad\n",
    "# 2. RStudio                        OK\n",
    "# 3. Jupyter Notebooks / JupyterLab OK\n",
    "# 4. Spyder\n",
    "# 5. VSCode"
   ]
  },
  {
   "cell_type": "code",
   "execution_count": null,
   "metadata": {},
   "outputs": [],
   "source": [
    "# Q12 - 2\n",
    "\n",
    "# What tool do most R developers use?\n",
    "# 1. Jupyter Notebooks / JupyterLab\n",
    "# 2. RStudio                        OK"
   ]
  },
  {
   "cell_type": "code",
   "execution_count": null,
   "metadata": {},
   "outputs": [],
   "source": [
    "# Q13 - 1\n",
    "\n",
    "# What tool do most Python developers use?\n",
    "# 1. Jupyter Notebooks / JupyterLab  OK\n",
    "# 2. RStudio"
   ]
  },
  {
   "cell_type": "code",
   "execution_count": null,
   "metadata": {},
   "outputs": [],
   "source": [
    "# Q14 - 1\n",
    "\n",
    "# True or false? Jupyter Notebooks / JupyterLab support development in R.\n",
    "# 1. True   OK\n",
    "# 2. False"
   ]
  },
  {
   "cell_type": "code",
   "execution_count": null,
   "metadata": {},
   "outputs": [],
   "source": [
    "# Q15 - 3\n",
    "\n",
    "# Which tool unifies documentation, source code and data visualizations into a \n",
    "# single document?\n",
    "# 1. Notepad\n",
    "# 2. VSCode\n",
    "# 3. Jupyter Notebooks / JupyterLab  OK"
   ]
  },
  {
   "cell_type": "code",
   "execution_count": null,
   "metadata": {},
   "outputs": [],
   "source": [
    "# Q16 - 4\n",
    "\n",
    "# Which command is used to install packages in R?\n",
    "# 1. install.package(\"package name\")\n",
    "# 2. install(\"package name\")\n",
    "# 3. package(\"package name\")\n",
    "# 4. install.packages(\"package name\")  OK"
   ]
  },
  {
   "cell_type": "code",
   "execution_count": null,
   "metadata": {},
   "outputs": [],
   "source": [
    "# Q17 - 4\n",
    "\n",
    "# Which of the following functions does RStudio provide?\n",
    "# 1. Documenting R code applications.\n",
    "# 2. Storing data in tables.\n",
    "# 3. Creating relationships between data tables.\n",
    "# 4. Editing and execution of R code.            OK"
   ]
  },
  {
   "cell_type": "code",
   "execution_count": null,
   "metadata": {},
   "outputs": [],
   "source": [
    "# Q18 - 2\n",
    "\n",
    "# True or False: The Jupyter Notebook kernel must be installed on a local \n",
    "# server.\n",
    "# 1. True\n",
    "# 2. False  OK"
   ]
  },
  {
   "cell_type": "code",
   "execution_count": null,
   "metadata": {},
   "outputs": [],
   "source": [
    "# Q19 - 2\n",
    "\n",
    "# Which of the following statements about Jupyter Notebooks is correct?\n",
    "# 1. Jupyter Notebooks are only available if installed locally on your computer.\n",
    "# 2. Jupyter Notebooks support the Visualization of data in charts. OK\n",
    "# 3. Jupyter Notebooks are a commercial product of IBM.\n",
    "# 4. Jupyter Notebooks provide storage of massive quantities of data in data\n",
    "#    lakes."
   ]
  },
  {
   "cell_type": "code",
   "execution_count": null,
   "metadata": {},
   "outputs": [],
   "source": [
    "# Q20 - 1\n",
    "\n",
    "# True or false? R studio supports development in Python.\n",
    "# 1. True   OK\n",
    "# 2. False"
   ]
  },
  {
   "cell_type": "code",
   "execution_count": null,
   "metadata": {},
   "outputs": [],
   "source": [
    "# Q21 - 1\n",
    "\n",
    "# Which feature in Watson Studio helps to keep track of and discover relevant\n",
    "# Machine Learning assets?\n",
    "# 1. Watson Knowledge Catalog  OK\n",
    "# 2. AutoAI\n",
    "# 3. Modeler Flows\n",
    "# 4. OpenScale\n",
    "# 5. All of the above"
   ]
  },
  {
   "cell_type": "code",
   "execution_count": null,
   "metadata": {},
   "outputs": [],
   "source": [
    "# Q22 - 3\n",
    "\n",
    "# Fill in the blank: If you'd like to schedule a notebook in Watson Studio to \n",
    "# run at a different time you can create a(n) ________.\n",
    "# 1. API\n",
    "# 2. markdown cell\n",
    "# 3. job             OK\n",
    "# 4. asset"
   ]
  },
  {
   "cell_type": "code",
   "execution_count": null,
   "metadata": {},
   "outputs": [],
   "source": [
    "# Q23 - 3 \n",
    "\n",
    "# Fill in the blank: In the __________ tab you can define the hardware size \n",
    "# and software configuration for the runtime associated with Watson Studio tools such as Notebook.\n",
    "# 1. settings\n",
    "# 2. assets\n",
    "# 3. environments OK\n",
    "# 4. overview"
   ]
  },
  {
   "cell_type": "code",
   "execution_count": null,
   "metadata": {},
   "outputs": [],
   "source": [
    "# Q24 - 1\n",
    "\n",
    "# Fill in the blank: It's a best practice to remove or replace _____________ \n",
    "# before publishing to GitHub.\n",
    "# 1. credentials    OK\n",
    "# 2. charts\n",
    "# 3. markdown text\n",
    "# 4. code cells"
   ]
  }
 ],
 "metadata": {
  "kernelspec": {
   "display_name": "Python 3",
   "language": "python",
   "name": "python3"
  },
  "language_info": {
   "codemirror_mode": {
    "name": "ipython",
    "version": 3
   },
   "file_extension": ".py",
   "mimetype": "text/x-python",
   "name": "python",
   "nbconvert_exporter": "python",
   "pygments_lexer": "ipython3",
   "version": "3.8.5"
  }
 },
 "nbformat": 4,
 "nbformat_minor": 4
}
