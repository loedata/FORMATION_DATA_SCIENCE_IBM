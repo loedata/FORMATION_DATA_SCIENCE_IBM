{
 "cells": [
  {
   "cell_type": "markdown",
   "metadata": {},
   "source": [
    "# EXAMEN - DATA ANALYSIS WITH PYTHON"
   ]
  },
  {
   "cell_type": "code",
   "execution_count": null,
   "metadata": {},
   "outputs": [],
   "source": [
    "# Q1 - radiobouton=1 : Drop the “not a number” from the column price\n",
    "# What does the following command do:\n",
    "# df.dropna(subset=[\"price\"], axis=0)"
   ]
  },
  {
   "cell_type": "code",
   "execution_count": null,
   "metadata": {},
   "outputs": [],
   "source": [
    "# Q2 - radiobouton=1 : df.describe(include = \"all\")\n",
    "# How would you provide many of the summery statistics for all the columns in \n",
    "# the dataframe \"df\"?"
   ]
  },
  {
   "cell_type": "code",
   "execution_count": null,
   "metadata": {},
   "outputs": [],
   "source": [
    "# Q3 - radiobouton=4 : df.shape\n",
    "# How would you find the shape of the dataframe df?"
   ]
  },
  {
   "cell_type": "code",
   "execution_count": null,
   "metadata": {},
   "outputs": [],
   "source": [
    "# Q4 - radiobouton=3 : Save the dataframe df to a csv file called \"A.csv\" \n",
    "# What task does the following command to df.to_csv(\"A.csv\") perform?"
   ]
  },
  {
   "cell_type": "code",
   "execution_count": null,
   "metadata": {},
   "outputs": [],
   "source": [
    "# Q5 - radiobouton=1 : replace the not a number values with 5 in the column \n",
    "#                     'peak-rpm'\n",
    "# What task does the following line of code perform?\n",
    "# df['peak-rpm'].replace(np.nan, 5,inplace=True)"
   ]
  },
  {
   "cell_type": "code",
   "execution_count": null,
   "metadata": {},
   "outputs": [],
   "source": [
    "# Q6 - radiobouton=1 : replace the not a number values with 5 in the column \n",
    "#                      'peak-rpm'\n",
    "# What task does the following line of code perform ?\n",
    "# df['peak-rpm'].replace(np.nan, 5,inplace=True)"
   ]
  },
  {
   "cell_type": "code",
   "execution_count": null,
   "metadata": {},
   "outputs": [],
   "source": [
    "# Q7 - radiobouton=1 : pd.get_dummies(df[\"fuel-type\"])\n",
    "# How do you \"one hot encode\" the column 'fuel-type' in the dataframe df?"
   ]
  },
  {
   "cell_type": "code",
   "execution_count": null,
   "metadata": {},
   "outputs": [],
   "source": [
    "# Q8 - radiobouton=2 : dependent variable\n",
    "# What does the vertical axis in a scatter plot represent?"
   ]
  },
  {
   "cell_type": "code",
   "execution_count": null,
   "metadata": {},
   "outputs": [],
   "source": [
    "# Q9 - radiobouton=1 : independent variable \n",
    "# What does the horizontal axis in a scatter plot represent?"
   ]
  },
  {
   "cell_type": "code",
   "execution_count": null,
   "metadata": {},
   "outputs": [],
   "source": [
    "# Q10 - radiobouton=2 : 10 x 10\n",
    "# If we have 10 columns and 100 samples how large is the output of df.corr()?"
   ]
  },
  {
   "cell_type": "code",
   "execution_count": null,
   "metadata": {},
   "outputs": [],
   "source": [
    "# Q11 - radiobouton=3 : 1\n",
    "# what is the largest possible element resulting in the following operation \n",
    "# \"df.corr()\"?"
   ]
  },
  {
   "cell_type": "code",
   "execution_count": null,
   "metadata": {},
   "outputs": [],
   "source": [
    "# Q12 - radiobouton=2 : the two variables are not correlated\n",
    "# if the Pearson Correlation of two variables is zero?"
   ]
  },
  {
   "cell_type": "code",
   "execution_count": null,
   "metadata": {},
   "outputs": [],
   "source": [
    "# Q13 - radiobouton=3 : none of the above\n",
    "# if the p value of the Pearson Correlation is 1?"
   ]
  },
  {
   "cell_type": "code",
   "execution_count": null,
   "metadata": {},
   "outputs": [],
   "source": [
    "# Q14 - radiobouton=2 : create a linear regression object\n",
    "# What does the following line of code do: lm = LinearRegression()?"
   ]
  },
  {
   "cell_type": "code",
   "execution_count": null,
   "metadata": {},
   "outputs": [],
   "source": [
    "# Q15 - radiobouton=2 : Multiple Linear Regression\n",
    "# If the predicted function is:\n",
    "# Yhat = a + b1 X1 + b2 X2 + b3 X3 + b4 X4\n",
    "# The method is?"
   ]
  },
  {
   "cell_type": "code",
   "execution_count": null,
   "metadata": {},
   "outputs": [],
   "source": [
    "# Q16 - radiobouton=3 : Standardize the data, then perform a prediction using a\n",
    "# linear regression model using the features Z and targets y\n",
    "# What steps do the following lines of code perform:\n",
    "# Input=[('scale',StandardScaler()),('model',LinearRegression())]\n",
    "# pipe=Pipeline(Input)\n",
    "# pipe.fit(Z,y)\n",
    "# ypipe=pipe.predict(Z)"
   ]
  },
  {
   "cell_type": "code",
   "execution_count": null,
   "metadata": {},
   "outputs": [],
   "source": [
    "# Q17 - radiobouton=2 : 1\n",
    "# What is the maximum value of R^2 that can be obtained?"
   ]
  },
  {
   "cell_type": "code",
   "execution_count": null,
   "metadata": {},
   "outputs": [],
   "source": [
    "# Q18 - radiobouton=3 : 2\n",
    "# We create a polynomial feature as follows \"PolynomialFeatures(degree=2)\", \n",
    "# what is the order of the polynomial?"
   ]
  },
  {
   "cell_type": "code",
   "execution_count": null,
   "metadata": {},
   "outputs": [],
   "source": [
    "# Q19 - radiobouton=3 : the results on your training data is not the best \n",
    "# indicator of how your model performs, you should use your test data to get a \n",
    "# beter idea\n",
    "# You have a linear model the average R^2 value on your training data is 0.5, \n",
    "# you perform a 100th order polynomial transform on your data then use these \n",
    "# values to train another model, your average R^2 is 0.99 which comment is \n",
    "# correct"
   ]
  },
  {
   "cell_type": "code",
   "execution_count": null,
   "metadata": {},
   "outputs": [],
   "source": [
    "# Q20 - radiobouton=1 : Nothing your model performs flawlessly on your test \n",
    "#                       data\n",
    "# You train a ridge regression model, you get a R^2 of 1 on your training data \n",
    "# and you get a R^2 of 0 on your validation data, what should you do"
   ]
  }
 ],
 "metadata": {
  "kernelspec": {
   "display_name": "Python 3",
   "language": "python",
   "name": "python3"
  },
  "language_info": {
   "codemirror_mode": {
    "name": "ipython",
    "version": 3
   },
   "file_extension": ".py",
   "mimetype": "text/x-python",
   "name": "python",
   "nbconvert_exporter": "python",
   "pygments_lexer": "ipython3",
   "version": "3.8.5"
  }
 },
 "nbformat": 4,
 "nbformat_minor": 4
}
