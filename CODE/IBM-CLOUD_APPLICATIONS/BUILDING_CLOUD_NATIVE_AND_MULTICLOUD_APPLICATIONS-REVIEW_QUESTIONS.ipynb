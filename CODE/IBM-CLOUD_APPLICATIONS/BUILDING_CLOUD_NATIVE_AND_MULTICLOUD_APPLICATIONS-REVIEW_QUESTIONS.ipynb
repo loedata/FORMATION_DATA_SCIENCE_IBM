{
 "cells": [
  {
   "cell_type": "markdown",
   "metadata": {},
   "source": [
    "# BUILDING CLOUD NATIVE AND MULTICLOUD APPLICATIONS - REVIEW QUESTIONS"
   ]
  },
  {
   "cell_type": "markdown",
   "metadata": {},
   "source": [
    "# Module 1 - Getting to the Cloud"
   ]
  },
  {
   "cell_type": "code",
   "execution_count": null,
   "metadata": {},
   "outputs": [],
   "source": [
    "# Q1 - \n",
    "\n",
    "# Which of the following does NOT describe a bare metal hypervisor?\n",
    "# Most secure type of hypervisor\n",
    "# Type 1 hypervisor\n",
    "# Type 2 hypervisor\n",
    "# Installed directly on top of the physical server"
   ]
  },
  {
   "cell_type": "code",
   "execution_count": null,
   "metadata": {},
   "outputs": [],
   "source": [
    "# Q2 - \n",
    "\n",
    "# By leveraging services in the cloud such as service routing, service \n",
    "# discovery and load balancing, you don't have to worry about those things at\n",
    "# the application level.\n",
    "# True\n",
    "# False"
   ]
  },
  {
   "cell_type": "code",
   "execution_count": null,
   "metadata": {},
   "outputs": [],
   "source": [
    "# Q3 - \n",
    "\n",
    "# A data lake is a centralized repository that allows you to store only \n",
    "# structured data at scale.\n",
    "# True\n",
    "# False"
   ]
  },
  {
   "cell_type": "code",
   "execution_count": null,
   "metadata": {},
   "outputs": [],
   "source": [
    "# Q4 - \n",
    "\n",
    "# Which of the following are NOT steps on the ladder to AI? Choose all that \n",
    "# are applicable.\n",
    "# Collecting data\n",
    "# Organizing data\n",
    "# Repeating data\n",
    "# Analyzing data\n",
    "# Infusing data"
   ]
  },
  {
   "cell_type": "code",
   "execution_count": null,
   "metadata": {},
   "outputs": [],
   "source": [
    "# Q5 - \n",
    "\n",
    "# Why might an enterprise choose to move its VMs to the cloud? Choose the best\n",
    "# answer.\n",
    "# Improve scalability\n",
    "# Reduce data center costs\n",
    "# Increase ease of management\n",
    "# All of the above"
   ]
  },
  {
   "cell_type": "markdown",
   "metadata": {},
   "source": [
    "# Module 2 - Application Modernization"
   ]
  },
  {
   "cell_type": "code",
   "execution_count": null,
   "metadata": {},
   "outputs": [],
   "source": [
    "# Q1 - \n",
    "\n",
    "# Which of the following are NOT benefit(s) of containers? Choose all that are \n",
    "# applicable.\n",
    "# Like VMs (virtual machines), containers virtualize your infrastructure\n",
    "# Each container runs its own operating system (OS)\n",
    "# Containers provide a standardized way to package and ship software\n",
    "# Each container is fully isolated and therefore secure"
   ]
  },
  {
   "cell_type": "code",
   "execution_count": null,
   "metadata": {},
   "outputs": [],
   "source": [
    "# Q2 - \n",
    "\n",
    "#The ideal situation is that everything that lives in the cloud SHOULD have a \n",
    "# cloud-native application design and approach, but non-cloud-native assets \n",
    "# CAN be deployed to the cloud.\n",
    "# True\n",
    "# False"
   ]
  },
  {
   "cell_type": "code",
   "execution_count": null,
   "metadata": {},
   "outputs": [],
   "source": [
    "# Q3 - \n",
    "\n",
    "# When working to improve application performance, which area(s) should you\n",
    "# examine? Choose all that are applicable.\n",
    "# The hardware the application is running on\n",
    "# The Operating System that is being used\n",
    "# The way the User Interface was developed\n",
    "# The database\n",
    "# The entirety of the application"
   ]
  },
  {
   "cell_type": "code",
   "execution_count": null,
   "metadata": {},
   "outputs": [],
   "source": [
    "# Q4 - \n",
    "\n",
    "# What is refactoring?\n",
    "# The proceess of retiring an application and replacing it with a new \n",
    "# cloud-native application\n",
    "# Lifting and shifting an application from an on-premises environment with \n",
    "# little or no modification\n",
    "# The process of restructuring existing computer code without changing the \n",
    "# external behavior"
   ]
  },
  {
   "cell_type": "code",
   "execution_count": null,
   "metadata": {},
   "outputs": [],
   "source": [
    "# Q5 - \n",
    "\n",
    "# Why would you need container orchestration?\n",
    "# To manage the lifecycles of containers\n",
    "# To control and automate tasks\n",
    "# To help with container deployment where you have a few containers to manage \n",
    "# and little traffic to balance\n",
    "# To manage provisioning and deployment of containers"
   ]
  },
  {
   "cell_type": "markdown",
   "metadata": {},
   "source": [
    "# Module 3 - Cloud-Native Practices"
   ]
  },
  {
   "cell_type": "code",
   "execution_count": null,
   "metadata": {},
   "outputs": [],
   "source": [
    "# Q1 - \n",
    "\n",
    "# Which of the following statement(s) do NOT describe the idea of DevOps?\n",
    "# Choose all that are applicable.\n",
    "# One size fits all\n",
    "# Combines the development team with the operations team\n",
    "# Code, build, deploy, manage, learn\n",
    "# DevOps is automation -- nothing more"
   ]
  },
  {
   "cell_type": "code",
   "execution_count": null,
   "metadata": {},
   "outputs": [],
   "source": [
    "# Q2 - \n",
    "\n",
    "# With continuous integration, there may be times when you do not have a \n",
    "# testable build.\n",
    "# True\n",
    "# False"
   ]
  },
  {
   "cell_type": "code",
   "execution_count": null,
   "metadata": {},
   "outputs": [],
   "source": [
    "# Q3 - \n",
    "\n",
    "# Automating tasks can help you with which of the following? Choose all that\n",
    "# are applicable.\n",
    "# Build\n",
    "# Test\n",
    "# Deploy\n",
    "# Manage\n",
    "# Healthcheck"
   ]
  },
  {
   "cell_type": "code",
   "execution_count": null,
   "metadata": {},
   "outputs": [],
   "source": [
    "# Q4 - \n",
    "\n",
    "# Which of the following apply to microservices? Choose all that are\n",
    "# appropriate.\n",
    "# A software development technique\n",
    "# A collection of loosely coupled services\n",
    "# Develop applications as a single unit\n",
    "# Use lightweight protocols"
   ]
  },
  {
   "cell_type": "code",
   "execution_count": null,
   "metadata": {},
   "outputs": [],
   "source": [
    "# Q5 - \n",
    "\n",
    "# Which of the following statements apply to Tekton?\n",
    "# Initially was the build component of Knative\n",
    "# Runs on Kubernetes\n",
    "# Configuration is made using YAML\n",
    "# Only available on the IBM Cloud"
   ]
  },
  {
   "cell_type": "markdown",
   "metadata": {},
   "source": [
    "# Module 4 - Multicloud Management"
   ]
  },
  {
   "cell_type": "code",
   "execution_count": null,
   "metadata": {},
   "outputs": [],
   "source": [
    "# Q1 - \n",
    "\n",
    "# Which of the following are NOT golden signals? Choose all that are\n",
    "# applicable.\n",
    "# Green, Yellow, Red\n",
    "# Code, Deploy, Run, Manage, Learn\n",
    "# Latency, Traffic, Errors, Saturation\n",
    "# None of the above"
   ]
  },
  {
   "cell_type": "code",
   "execution_count": null,
   "metadata": {},
   "outputs": [],
   "source": [
    "# Q2 - \n",
    "\n",
    "# In a hybrid-cloud environment, if the Kubernetes network security policy on \n",
    "# the public cloud is not set the same as the on-premises security policy in\n",
    "# the production environment, it still does not create a security problem that\n",
    "# affects the integrity of compliance.\n",
    "# True\n",
    "# False"
   ]
  },
  {
   "cell_type": "code",
   "execution_count": null,
   "metadata": {},
   "outputs": [],
   "source": [
    "# Q3 - \n",
    "\n",
    "# Where can you run an IBM Cloud Pak? Choose all that are applicable.\n",
    "# On premises\n",
    "# On public cloud\n",
    "# On private cloud\n",
    "# Anywhere\n",
    "# None of the above"
   ]
  },
  {
   "cell_type": "code",
   "execution_count": null,
   "metadata": {},
   "outputs": [],
   "source": [
    "# Q4 - \n",
    "\n",
    "# Which of the following do NOT apply to IBM Cloud Paks?\n",
    "# Run on top of Red Hat OpenShift\n",
    "# Can add to any VMWare virtual machine or container platform\n",
    "# ) Only available on the IBM Cloud\n",
    "# All of the above"
   ]
  },
  {
   "cell_type": "code",
   "execution_count": null,
   "metadata": {},
   "outputs": [],
   "source": [
    "# Q5 - \n",
    "\n",
    "# Which scenario(s) do NOT describe a multicloud environment?\n",
    "# I have database services deployed on premises which are securely connected\n",
    "# to IBM Cloud\n",
    "# I've deployed a cloud application that uses both IaaS and PaaS services\n",
    "# I use analytics services in IBM Cloud, but my data is generated by an\n",
    "# application in a different cloud\n",
    "# I've architected my application so that it uses OpenShift on IBM Cloud as\n",
    "# well as MongoDB DBaaS"
   ]
  }
 ],
 "metadata": {
  "kernelspec": {
   "display_name": "Python 3",
   "language": "python",
   "name": "python3"
  },
  "language_info": {
   "codemirror_mode": {
    "name": "ipython",
    "version": 3
   },
   "file_extension": ".py",
   "mimetype": "text/x-python",
   "name": "python",
   "nbconvert_exporter": "python",
   "pygments_lexer": "ipython3",
   "version": "3.8.5"
  }
 },
 "nbformat": 4,
 "nbformat_minor": 4
}
