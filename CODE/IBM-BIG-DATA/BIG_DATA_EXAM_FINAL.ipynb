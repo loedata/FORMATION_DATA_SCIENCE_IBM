{
 "cells": [
  {
   "cell_type": "markdown",
   "metadata": {},
   "source": [
    "# BIG DATA - EXAM FINAL"
   ]
  },
  {
   "cell_type": "code",
   "execution_count": null,
   "metadata": {},
   "outputs": [],
   "source": [
    "# Q1 - Recommendation Engines\n",
    "\n",
    "# In Module 1: What is a common use of big data that is used by companies like \n",
    "# Netflix, Spotify, Facebook and Amazon?\n",
    "# Recommendation Engines--------------- OK -----------------\n",
    "# Data Lakes\n",
    "# Clusters\n",
    "# The Cloud\n",
    "# Sensors"
   ]
  },
  {
   "cell_type": "code",
   "execution_count": null,
   "metadata": {},
   "outputs": [],
   "source": [
    "# Q2 - False?\n",
    "\n",
    "# In Module 2: Is one byte binary? True/False\n",
    "# False---------------- OK ----------------------\n",
    "# True"
   ]
  },
  {
   "cell_type": "code",
   "execution_count": null,
   "metadata": {},
   "outputs": [],
   "source": [
    "# Q3 - Cloud Computing\n",
    "\n",
    "# In Module 2: What has highly contributed to the launch of the Big Data era?\n",
    "# Clusters\n",
    "# Spark\n",
    "# Cloud Computing---------------------- OK ------------------\n",
    "# Zetabytes\n",
    "# Data Scientists"
   ]
  },
  {
   "cell_type": "code",
   "execution_count": null,
   "metadata": {},
   "outputs": [],
   "source": [
    "# Q4 - True\n",
    "\n",
    "# Module 3: A data scientist is a person who is qualified to derive insights \n",
    "# from data by using skills and experience from computer science, business or \n",
    "# science, and statistics. True/False\n",
    "# False\n",
    "# True----------------------- OK ------------------------"
   ]
  },
  {
   "cell_type": "code",
   "execution_count": null,
   "metadata": {},
   "outputs": [],
   "source": [
    "# Q5 - Hadoop Distributed File System\n",
    "\n",
    "# Module 3: ‘HDFS’ stands for ____________________?\n",
    "# Hadoop Data Fraud System\n",
    "# High Data File System\n",
    "# Hadoop Distributed File System------------------ OK -----------------\n",
    "# High Distribution Frequency System\n",
    "# High Definition Frequency Sensors"
   ]
  },
  {
   "cell_type": "code",
   "execution_count": null,
   "metadata": {},
   "outputs": [],
   "source": [
    "# Q6 - collected, retained, used, and disclosed\n",
    "\n",
    "# Module 3: Data privacy is a critical part of the big data era. Businesses\n",
    "# and individuals must give great thought to how data is \n",
    "# _____________________________.\n",
    "# collected, retained, used, and disclosed-------------- OK -----------\n",
    "# bought, sold, stored and analyzed\n",
    "# secured, sold, downloaded and uploaded\n",
    "# aggregated, compiled, saved and stored\n",
    "# stored, analyzed, read and written"
   ]
  },
  {
   "cell_type": "code",
   "execution_count": null,
   "metadata": {},
   "outputs": [],
   "source": [
    "# Q7 - Nodes\n",
    "\n",
    "# Module 5: In the Hadoop framework, a rack is a collection of ____________?\n",
    "# Yarn\n",
    "# Networks\n",
    "# Bits\n",
    "# Nodes--------------------------------- OK -------------------------\n",
    "# Distributed files"
   ]
  },
  {
   "cell_type": "code",
   "execution_count": null,
   "metadata": {},
   "outputs": [],
   "source": [
    "# Q8 - Data Lake\n",
    "\n",
    "# Module 5: What is a method of storing data to support the analysis of \n",
    "# originally disparate sources of data?\n",
    "# Spark\n",
    "# Data Warehouse\n",
    "# Yarn\n",
    "# Data Repository\n",
    "# Data Lake------------------------------ OK ------------------------"
   ]
  },
  {
   "cell_type": "code",
   "execution_count": null,
   "metadata": {},
   "outputs": [],
   "source": [
    "# Q9 - True\n",
    "\n",
    "# Module 5: The Hadoop framework is mostly written in the Java programming \n",
    "# language. True/False\n",
    "# False\n",
    "# True------------------------ OK ------------------------"
   ]
  },
  {
   "cell_type": "code",
   "execution_count": 1,
   "metadata": {},
   "outputs": [],
   "source": [
    "# Q10 - NoSQL\n",
    "\n",
    "# Module 5: What is the term referring to a database that must be processed by*\n",
    "# means other than just the SQL Query Language.\n",
    "# Spark\n",
    "# NoSQL--------------------- OK -------------------------\n",
    "# Python\n",
    "# SQL\n",
    "# Hadoop"
   ]
  }
 ],
 "metadata": {
  "kernelspec": {
   "display_name": "Python 3",
   "language": "python",
   "name": "python3"
  },
  "language_info": {
   "codemirror_mode": {
    "name": "ipython",
    "version": 3
   },
   "file_extension": ".py",
   "mimetype": "text/x-python",
   "name": "python",
   "nbconvert_exporter": "python",
   "pygments_lexer": "ipython3",
   "version": "3.8.5"
  }
 },
 "nbformat": 4,
 "nbformat_minor": 4
}
