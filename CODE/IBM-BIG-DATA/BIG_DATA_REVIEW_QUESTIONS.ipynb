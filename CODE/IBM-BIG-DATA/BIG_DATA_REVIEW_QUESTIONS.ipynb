{
 "cells": [
  {
   "cell_type": "markdown",
   "metadata": {},
   "source": [
    "# BIG DATA - REVIEW QUESTIONS"
   ]
  },
  {
   "cell_type": "markdown",
   "metadata": {},
   "source": [
    "# Module 1 - What is Big Data?"
   ]
  },
  {
   "cell_type": "code",
   "execution_count": null,
   "metadata": {},
   "outputs": [],
   "source": [
    "# Q1 - Scalable infrastructure\n",
    "\n",
    "# Name one of the drivers of Volume in the Big Data Era?\n",
    "# Scalable infrastructure ----------------- OK ---------------\n",
    "# An increase in cost to store data\n",
    "# Competitive advantage\n",
    "# FinTech\n",
    "# Research and development"
   ]
  },
  {
   "cell_type": "code",
   "execution_count": null,
   "metadata": {},
   "outputs": [],
   "source": [
    "# Q2 - Profits\n",
    "\n",
    "#  Value from Big Data can be _____________?\n",
    "# Profits------------------- OK ------------------------------\n",
    "# Veracity\n",
    "# Petabytes\n",
    "# Technical ability\n",
    "# Infrastructure"
   ]
  },
  {
   "cell_type": "code",
   "execution_count": null,
   "metadata": {},
   "outputs": [],
   "source": [
    "# Q3 - 10 million \n",
    "\n",
    "# n the video, 2.5 Quintillion Bytes of data are equivalent to how many blue ray DVDs?\n",
    "# 1 Billion\n",
    "# 10 million--------------------- OK -----------------------------\n",
    "# 100 million\n",
    "# 5 million\n",
    "# 1 Trillion"
   ]
  },
  {
   "cell_type": "markdown",
   "metadata": {},
   "source": [
    "# Module 2 - Beyond the Hype"
   ]
  },
  {
   "cell_type": "code",
   "execution_count": null,
   "metadata": {},
   "outputs": [],
   "source": [
    "# Q1 - 1024\n",
    "\n",
    "# How many petabytes make up an Exabyte\n",
    "# 32\n",
    "# 2020\n",
    "# 64\n",
    "# 1024---------------- OK --------------\n",
    "# 8"
   ]
  },
  {
   "cell_type": "code",
   "execution_count": null,
   "metadata": {},
   "outputs": [],
   "source": [
    "# Q2 - JSON files\n",
    "\n",
    "#  What is an example of a source of Semi-Structured Big data?\n",
    "# Cameras files\n",
    "# Relational databases\n",
    "# Satellite files\n",
    "# Spreadsheet file\n",
    "# JSON files----------------- OK -------------------"
   ]
  },
  {
   "cell_type": "code",
   "execution_count": null,
   "metadata": {},
   "outputs": [],
   "source": [
    "# Q3 - 2020 \n",
    "\n",
    "# When is it estimated that the data we create and copy will reach around 35 \n",
    "# zettabytes?\n",
    "# We have already surpassed this mark\n",
    "# 2050\n",
    "# 2030\n",
    "# 2040\n",
    "# 2020---------------- OK ----------------------------"
   ]
  },
  {
   "cell_type": "markdown",
   "metadata": {},
   "source": [
    "# Module 3 - Big Data and Data Science"
   ]
  },
  {
   "cell_type": "code",
   "execution_count": null,
   "metadata": {},
   "outputs": [],
   "source": [
    "# Q1 - Data Science\n",
    "\n",
    "# What is the process of cleaning and analyzing data to derive insights and\n",
    "# value from it?\n",
    "# Machine Learning\n",
    "# Exploratory Research\n",
    "# Data Science----------------- OK ----------------------\n",
    "# Predictive Modeling\n",
    "# Decision Trees"
   ]
  },
  {
   "cell_type": "code",
   "execution_count": null,
   "metadata": {},
   "outputs": [],
   "source": [
    "# Q2 - Polaris\n",
    "\n",
    "# What is the search engine used by Walmart?\n",
    "# JSON\n",
    "# HBase\n",
    "# ZooKeeper\n",
    "# Polaris----------------- OK --------------\n",
    "# Poisson"
   ]
  },
  {
   "cell_type": "code",
   "execution_count": null,
   "metadata": {},
   "outputs": [],
   "source": [
    "# Q3 - Temperature on a map\n",
    "\n",
    "# An example of visualizing Big Data is___________?\n",
    "# Hadoop\n",
    "# Integration\n",
    "# Agile Governance\n",
    "# Temperature on a map----------------- OK -------------------\n",
    "# Closing your eyes and imagining it"
   ]
  },
  {
   "cell_type": "markdown",
   "metadata": {},
   "source": [
    "# Module 4 - Big Data Use Cases"
   ]
  },
  {
   "cell_type": "code",
   "execution_count": null,
   "metadata": {},
   "outputs": [],
   "source": [
    "# Q1 - Enhanced 360-degree view\n",
    "\n",
    "# What is the term used to describe an holistic approach that takes into \n",
    "# account all available and meaningful information about a customer to drive \n",
    "# better engagement, revenue and long term loyalty?\n",
    "# Enhanced 360-degree view--------------- OK -------------------\n",
    "# Big Data Exploration\n",
    "# End to End\n",
    "# Operations Analysis\n",
    "# Customer Retention"
   ]
  },
  {
   "cell_type": "code",
   "execution_count": null,
   "metadata": {},
   "outputs": [],
   "source": [
    "# Q2 - Analyzing data in-motion and at rest\n",
    "\n",
    "# What can help organizations to find new associations or uncover patterns\n",
    "# and facts to significantly improve intelligence, security and law \n",
    "# enforcement?\n",
    "# Using local servers\n",
    "# Analyzing data in-motion and at rest------------- OK ---------------\n",
    "# Satellite data\n",
    "# GPS coordinates\n",
    "# Using XML"
   ]
  },
  {
   "cell_type": "code",
   "execution_count": null,
   "metadata": {},
   "outputs": [],
   "source": [
    "# Q3 - Machine Data\n",
    "\n",
    "# In Operations Analysis, we focus on what type of data?\n",
    "# Location Data\n",
    "# Machine Data----------------- OK -------------------------\n",
    "# Binary Data\n",
    "# Social Media Data\n",
    "# Structured Data"
   ]
  },
  {
   "cell_type": "markdown",
   "metadata": {},
   "source": [
    "# Module 5 - Processing Big Data"
   ]
  },
  {
   "cell_type": "code",
   "execution_count": null,
   "metadata": {},
   "outputs": [],
   "source": [
    "# Q1 - Data Lakes\n",
    "\n",
    "# What is a method of storing data to support the analysis of originally disparate sources of data?\n",
    "# Data Lakes--------------------- OK -------------------\n",
    "# Data Mining\n",
    "# Predictive Analytics\n",
    "# Data Analytics\n",
    "# Deep Learning"
   ]
  },
  {
   "cell_type": "code",
   "execution_count": null,
   "metadata": {},
   "outputs": [],
   "source": [
    "# Q2 - True\n",
    "\n",
    "# Data Warehouses provide online analytic processing: True/False\n",
    "# False\n",
    "# True---------------------- OK --------------------------"
   ]
  },
  {
   "cell_type": "code",
   "execution_count": null,
   "metadata": {},
   "outputs": [],
   "source": [
    "# Q3 - Online Analytical Processing\n",
    "\n",
    "# What does ‘OLAP’ stand for?\n",
    "# Online Analytical Prediction\n",
    "# Online Analytical Platform\n",
    "# Online Analytical Processing-------------- OK -----------------\n",
    "# Online Advanced Prediction\n",
    "# Online Advanced Programming"
   ]
  }
 ],
 "metadata": {
  "kernelspec": {
   "display_name": "Python 3",
   "language": "python",
   "name": "python3"
  },
  "language_info": {
   "codemirror_mode": {
    "name": "ipython",
    "version": 3
   },
   "file_extension": ".py",
   "mimetype": "text/x-python",
   "name": "python",
   "nbconvert_exporter": "python",
   "pygments_lexer": "ipython3",
   "version": "3.8.5"
  }
 },
 "nbformat": 4,
 "nbformat_minor": 4
}
