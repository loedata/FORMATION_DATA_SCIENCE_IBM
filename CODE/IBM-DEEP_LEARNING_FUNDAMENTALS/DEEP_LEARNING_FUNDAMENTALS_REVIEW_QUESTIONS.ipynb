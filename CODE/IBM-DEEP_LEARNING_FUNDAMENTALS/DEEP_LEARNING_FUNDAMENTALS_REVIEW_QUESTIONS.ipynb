{
 "cells": [
  {
   "cell_type": "markdown",
   "metadata": {},
   "source": [
    "# DEEP LEARNING FUNDAMENTALS - REVIEW QUESTIONS"
   ]
  },
  {
   "cell_type": "markdown",
   "metadata": {},
   "source": [
    "# Module 1: Introduction to Deep Learning²"
   ]
  },
  {
   "cell_type": "code",
   "execution_count": null,
   "metadata": {},
   "outputs": [],
   "source": [
    "# Q1 - All of the above\n",
    "\n",
    "# Select the reason(s) for using a Deep Neural Network\n",
    "# Some patterns are very complex and can't be deciphered precisely by \n",
    "# alternate means\n",
    "# Deep Nets are great at recognizing patterns and using them as building \n",
    "# blocks in deciphering inputs\n",
    "# We finally have the technology - GPUs - to accelerate the training process\n",
    "# by several folds of magnitude\n",
    "# All of the above----------------- OK ----------------------"
   ]
  },
  {
   "cell_type": "code",
   "execution_count": null,
   "metadata": {},
   "outputs": [],
   "source": [
    "# Q2 - All of above.\n",
    "\n",
    "# What is TRUE about the functions of a Multi Layer Perceptron?\n",
    "# The first neural nets that were born out of the need to address the\n",
    "# inaccuracy of an early classifier, the perceptron.\n",
    "# It predicts which group a given set of inputs falls into.\n",
    "# It generates a score that determines the confidence level of the prediction.\n",
    "# All of above.---------------------- OK ----------------------"
   ]
  },
  {
   "cell_type": "code",
   "execution_count": null,
   "metadata": {},
   "outputs": [],
   "source": [
    "# Q3 -  All of above.\n",
    "\n",
    "# Why is the vanishing gradient a problem?\n",
    "# Training is quick if the gradient is large and slow if its small\n",
    "# With backprop, the gradient becomes smaller as it works back through the\n",
    "# net\n",
    "# The gradient is calculated multiplying two numbers between 0 and 1\n",
    "# All of above.----------------------- OK -------------------------"
   ]
  },
  {
   "cell_type": "markdown",
   "metadata": {},
   "source": [
    "# Module 2: Deep Learning Models"
   ]
  },
  {
   "cell_type": "code",
   "execution_count": null,
   "metadata": {},
   "outputs": [],
   "source": [
    "#  Q1 - Autoencoder or Restricted Boltzmann Machines\n",
    "\n",
    "# For Unsupervised Learning, which of the following deep nets would you choose?\n",
    "# Autoencoder or Restricted Boltzmann Machines--------- OK ---------------\n",
    "# Deep Belief Nets\n",
    "# Convolutional Nets\n",
    "# Recurrent Nets"
   ]
  },
  {
   "cell_type": "code",
   "execution_count": null,
   "metadata": {},
   "outputs": [],
   "source": [
    "#  Q2 - False\n",
    "\n",
    "# True or False: The RELU activation has no effect on back-propagation and \n",
    "# the vanishing gradient\n",
    "# True\n",
    "# False------------------- OK ---------------------------"
   ]
  },
  {
   "cell_type": "code",
   "execution_count": null,
   "metadata": {},
   "outputs": [],
   "source": [
    "# Q3 - False\n",
    "\n",
    "# True or False: Convolutional Nets are the right model when dealing with data\n",
    "# that changes over time because of their built-in feedback loop, allowing \n",
    "# them to serve as a forecasting engine.\n",
    "# True\n",
    "# False---------------------------- OK ---------------------------"
   ]
  },
  {
   "cell_type": "markdown",
   "metadata": {},
   "source": [
    "# Module 3: Additional Deep Learning Models"
   ]
  },
  {
   "cell_type": "code",
   "execution_count": null,
   "metadata": {},
   "outputs": [],
   "source": [
    "# Q1 - All of the above. \n",
    "\n",
    "# Which of the following are use cases of Deep nets?\n",
    "# Sentiment Analysis of text data.\n",
    "# Offering personalized ads based on user activity history.\n",
    "# Flagging a transaction as fraudulent.\n",
    "# Analyze and segment customers based on digital activity and footprint.\n",
    "# Using satellite feeds and sensor data to detect changes in environmental \n",
    "# conditions.\n",
    "# All of the above.------------------- OK -------------------------"
   ]
  },
  {
   "cell_type": "code",
   "execution_count": null,
   "metadata": {},
   "outputs": [],
   "source": [
    "# Q2 - Image classification and tagging\n",
    "#      Face Detection\n",
    "#      Video Recognition\n",
    "\n",
    "# Which of the following are use cases of machine vision. Select all that \n",
    "# apply.\n",
    "# Image classification and tagging--------------- OK -------------------\n",
    "# Sentiment Analysis\n",
    "# Face Detection--------------------------------- OK -------------------\n",
    "# Video Recognition------------------------------ OK -------------------\n",
    "# Speech Recognition"
   ]
  },
  {
   "cell_type": "code",
   "execution_count": null,
   "metadata": {},
   "outputs": [],
   "source": [
    "# Q3 - If there is an unknown hierarchy inherent in the input features\n",
    "\n",
    "# Which of the following is a good application of an RNTN?\n",
    "# If the patterns change through time\n",
    "# For general classification problems\n",
    "# If there is an unknown hierarchy inherent in the input features---- OK ----\n",
    "# For Supervised Fine-tuning\n",
    "# To determine the relative importance in the input features"
   ]
  },
  {
   "cell_type": "markdown",
   "metadata": {},
   "source": [
    "# Module 4: Deep Learning Platforms & Libraries"
   ]
  },
  {
   "cell_type": "code",
   "execution_count": null,
   "metadata": {},
   "outputs": [],
   "source": [
    "# Q1 - Deriving the optimal hyper-parameter configuration \n",
    "\n",
    "# Which of the following is not an aspect of a deep net platform?\n",
    "# Choice of deep net models \n",
    "# Ability to integrate data from multiple sources \n",
    "# Manage deep net models from the UI \n",
    "# Under the hood performance enhancements to allow for fast training and\n",
    "# execution \n",
    "# Deriving the optimal hyper-parameter configuration -------- OK ---------"
   ]
  },
  {
   "cell_type": "code",
   "execution_count": null,
   "metadata": {},
   "outputs": [],
   "source": [
    "# Q2 - All of above.\n",
    "\n",
    "# What are the different aspects of a Deep Learning Library?\n",
    "# They are a set of pre-built functions and modules that you can call through \n",
    "# your own programs\n",
    "# Usually maintained by high-performance teams and are regularly updated\n",
    "# Most are open source and have a large community that contribute to the code \n",
    "# base\n",
    "# All of above.---------------- OK ----------------------"
   ]
  },
  {
   "cell_type": "code",
   "execution_count": null,
   "metadata": {},
   "outputs": [],
   "source": [
    "# Q3 - False\n",
    "\n",
    "# True or False: Theano, Caffe, and TensorFlow are examples of deep learning\n",
    "# platforms.\n",
    "# True\n",
    "# False------------------- OK ------------------------------"
   ]
  }
 ],
 "metadata": {
  "kernelspec": {
   "display_name": "Python 3",
   "language": "python",
   "name": "python3"
  },
  "language_info": {
   "codemirror_mode": {
    "name": "ipython",
    "version": 3
   },
   "file_extension": ".py",
   "mimetype": "text/x-python",
   "name": "python",
   "nbconvert_exporter": "python",
   "pygments_lexer": "ipython3",
   "version": "3.8.5"
  }
 },
 "nbformat": 4,
 "nbformat_minor": 4
}
