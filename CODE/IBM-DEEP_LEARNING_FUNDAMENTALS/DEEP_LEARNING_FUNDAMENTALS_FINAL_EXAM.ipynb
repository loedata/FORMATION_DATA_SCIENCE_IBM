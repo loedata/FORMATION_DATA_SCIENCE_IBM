{
 "cells": [
  {
   "cell_type": "markdown",
   "metadata": {},
   "source": [
    "# DEEP LEARNING FUNDAMENTALS - FINAL EXAM"
   ]
  },
  {
   "cell_type": "code",
   "execution_count": null,
   "metadata": {},
   "outputs": [],
   "source": [
    "# Q1 - Deep Belief Nets\n",
    "#      Convolutional Nets\n",
    "#      Recurrent Nets\n",
    "\n",
    "# For supervised learning, which of the following deep nets would you choose?\n",
    "# Autoencoder\n",
    "# Deep Belief Nets---------------------------- OK --------------\n",
    "# Convolutional Nets-------------------------- OK --------------\n",
    "# Restricted Boltzmann Machines\n",
    "# Recurrent Nets------------------------------ OK --------------"
   ]
  },
  {
   "cell_type": "code",
   "execution_count": null,
   "metadata": {},
   "outputs": [],
   "source": [
    "# Q2 - All of above.\n",
    "\n",
    "# Which of the following is true with respect to the training process of a deep\n",
    "# net?\n",
    "# The Cost is the difference between the net's predicted and actual outputs.\n",
    "# The training process utilizes gradients which measure the rate at which the \n",
    "# weights and biases change with respect to the cost.\n",
    "# The objective of the training process is to make the cost as low as possible.\n",
    "# The training process utilizes a technique called back-propagation.\n",
    "# All of above.------------------- OK --------------------------"
   ]
  },
  {
   "cell_type": "code",
   "execution_count": null,
   "metadata": {},
   "outputs": [],
   "source": [
    "# Q3 - True\n",
    "\n",
    "# True or False: With backprop, the early layers train slower than the later \n",
    "# ones, making the early layers incapable of accurately identifying the pattern\n",
    "# building blocks needed to decipher the full pattern.\n",
    "# True------------------ OK ----------------------------\n",
    "# False"
   ]
  },
  {
   "cell_type": "code",
   "execution_count": null,
   "metadata": {},
   "outputs": [],
   "source": [
    "# Q4 - Deep Belief Nets\n",
    "#      Convolutional Nets\n",
    "\n",
    "# For image recognition, which of the following deep nets would you choose? \n",
    "# Select all that apply.\n",
    "# Autoencoder\n",
    "# Deep Belief Nets----------------- OK --------------------\n",
    "# Convolutional Nets--------------- OK --------------------\n",
    "# Restricted Boltzmann Machines\n",
    "# Recurrent Nets"
   ]
  },
  {
   "cell_type": "code",
   "execution_count": null,
   "metadata": {},
   "outputs": [],
   "source": [
    "# Q5 - TOUS SAUF\n",
    "#      It quickly moves through solution states - set of weights and biases - \n",
    "#      going from one to another based on a reward.\n",
    "\n",
    "# How does the Deep Belief Network (DBN) solve the vanishing gradient? Select \n",
    "# all that apply.\n",
    "# OK It uses a stack of RBMs to determine the initial weights and biases, where\n",
    "#    the output of any RBM forms the input to the next RBM.\n",
    "\n",
    "# OK It uses a small labelled data set to associate patterns learned by the \n",
    "#    RBMs to classes.\n",
    "\n",
    "# OK It utilizes supervised fine-tuning, resulting in tweaks in weights and s\n",
    "#    biase and a slight improvement in accuracy.\n",
    "\n",
    "# It quickly moves through solution states - set of weights and biases - going\n",
    "# from one to another based on a reward.\n",
    "\n",
    "# OK The complete process - RBMs for pre-training and supervised fine-tuning - \n",
    "#    results in a very accurate net which trains in an acceptable time."
   ]
  },
  {
   "cell_type": "code",
   "execution_count": null,
   "metadata": {},
   "outputs": [],
   "source": [
    "# Q6 - True\n",
    "\n",
    "# True or False: To train, a DBN combines two Learning methods - supervised and unsupervised.\n",
    "# True---------------------- OK ------------------------------ \n",
    "# False"
   ]
  },
  {
   "cell_type": "code",
   "execution_count": null,
   "metadata": {},
   "outputs": [],
   "source": [
    "# Q7 - Object Recognition in an Image\n",
    "\n",
    "# Which of the following is the most popular use of a Convolutional Net?\n",
    "# Image Recognition\n",
    "# Object Recognition in an Image---------------- OK ---------------\n",
    "# Time Series Forecasting\n",
    "# Supervised Fine Tuning\n",
    "# General classification"
   ]
  },
  {
   "cell_type": "code",
   "execution_count": null,
   "metadata": {},
   "outputs": [],
   "source": [
    "# Q8 - The RBM is part of the first attempt at beating the vanishing gradient  \n",
    "#      and uses unlabelled data.\n",
    "#      Its purpose is to re-create inputs and in doing so has to make  \n",
    "#      decisions about which input features are more important.\n",
    "#      It stores the relative importance of the features as weights and \n",
    "#      biases. \n",
    "\n",
    "# Which of the following are True about a RBM? Select all that apply.\n",
    "# OK The RBM is part of the first attempt at beating the vanishing gradient  \n",
    "#    and uses unlabelled data.\n",
    "# It improves its own accuracy through self-correction.\n",
    "# OK Its purpose is to re-create inputs and in doing so has to make decisions \n",
    "#    about which input features are more important.\n",
    "# OK It stores the relative importance of the features as weights and biases.\n",
    "# It predicts which group a given set of inputs falls into."
   ]
  },
  {
   "cell_type": "code",
   "execution_count": null,
   "metadata": {},
   "outputs": [],
   "source": [
    "# Q9 - FC layers are usually found at the end.\n",
    "#      A typical CNN implementation has multiple repetitions of CONV, RELU and \n",
    "#      POOL  layers, with sub-repetitions.  \n",
    "\n",
    "# Which of the following statements are true about the architecture of a CNN? \n",
    "# Select all that apply.\n",
    "# A CNN can only have two types of layers: CONV and RELU.\n",
    "# A RELU layer has to always be followed by a POOL layer.\n",
    "# OK FC layers are usually found at the end.\n",
    "# A CONV layer has a theoretical maximum number of filters.\n",
    "# OK A typical CNN implementation has multiple repetitions of CONV, RELU and \n",
    "#    POOL layers, with sub-repetitions."
   ]
  },
  {
   "cell_type": "code",
   "execution_count": null,
   "metadata": {},
   "outputs": [],
   "source": [
    "# Q10 - False\n",
    "\n",
    "# True or False: By definition, the classifier in the nodes of an MLP cannot be\n",
    "# anything other than the Perceptron.\n",
    "# True\n",
    "# False------------------- OK -------------------------"
   ]
  },
  {
   "cell_type": "code",
   "execution_count": null,
   "metadata": {},
   "outputs": [],
   "source": [
    "# Q11 - Recurrent Nets feed the output of any time step back in as input for \n",
    "#       the next step.\n",
    "#       Recurrent Nets are used for time series forecasting.\n",
    "#       Recurrent Nets can output a sequence of values.\n",
    "\n",
    "# Which of the following are differences between a Recurrent Net and a \n",
    "# Feedforward Net? Select all that apply.\n",
    "\n",
    "# OK Recurrent Nets feed the output of any time step back in as input for the \n",
    "#    next step.\n",
    "\n",
    "# OK Recurrent Nets are used for time series forecasting.\n",
    "\n",
    "# OK Recurrent Nets can output a sequence of values.\n",
    "\n",
    "# Recurrent Nets are trained using back-propagation.\n",
    "\n",
    "# The nodes in a recurrent nets have a classifier that activate and produce a\n",
    "# score."
   ]
  },
  {
   "cell_type": "code",
   "execution_count": null,
   "metadata": {},
   "outputs": [],
   "source": [
    "# Q12 - Since RNNs use backprop, the vanishing gradient is a problem.\n",
    "#       The vanishing gradient can potentially lead to decay of information \n",
    "#       time.\n",
    "#       The most popular technique to address the vanishing gradient is the   \n",
    "#       use of gates.\n",
    "\n",
    "# Which of the following statements are true about training a Recurrent Net? \n",
    "# Select all that apply.\n",
    "\n",
    "# OK Since RNNs use backprop, the vanishing gradient is a problem.\n",
    "\n",
    "# The number of time steps used for training has no bearing on the severity of \n",
    "# the vanishing gradient problem.\n",
    "\n",
    "# OK The vanishing gradient can potentially lead to decay of information \n",
    "#    time.\n",
    "\n",
    "# OK The most popular technique to address the vanishing gradient is the use  \n",
    "#    of gates.\n",
    "\n",
    "# The only technique to address the vanishing gradient is the use of gates."
   ]
  },
  {
   "cell_type": "code",
   "execution_count": null,
   "metadata": {},
   "outputs": [],
   "source": [
    "# Q13 - True\n",
    "\n",
    "# True or False: Deep Autoencoders are used for dimensionality reduction.\n",
    "# True------------------------ OK -----------------------------------\n",
    "# False"
   ]
  },
  {
   "cell_type": "code",
   "execution_count": null,
   "metadata": {},
   "outputs": [],
   "source": [
    "# Q14 - Its purpose is to re-create inputs and in doing so has to make \n",
    "#       decisions about which input features are more important.\n",
    "#       A Restricted Boltzmann Machine is a type of Autoencoders.\n",
    "#       It stores the relative importance of the features as weights and \n",
    "#       biases.\n",
    "\n",
    "# Which of the following are true about Autoencoders? Select all that apply.\n",
    "\n",
    "# It improves its own accuracy through self-correction.\n",
    "\n",
    "# OK Its purpose is to re-create inputs and in doing so has to make decisions\n",
    "#    about which input features are more important.\n",
    "\n",
    "# OK A Restricted Boltzmann Machine is a type of Autoencoders.\n",
    "\n",
    "# OK It stores the relative importance of the features as weights and biases.\n",
    "\n",
    "# It predicts which group a given set of inputs falls into."
   ]
  },
  {
   "cell_type": "code",
   "execution_count": null,
   "metadata": {},
   "outputs": [],
   "source": [
    "# Q15 - False\n",
    "\n",
    "# True or False: Given they are mainly about machine vision, Convolutional\n",
    "# Nets don't really find a home in the field of medicine.\n",
    "# True\n",
    "# False---------------------------- OK ---------------------------"
   ]
  }
 ],
 "metadata": {
  "kernelspec": {
   "display_name": "Python 3",
   "language": "python",
   "name": "python3"
  },
  "language_info": {
   "codemirror_mode": {
    "name": "ipython",
    "version": 3
   },
   "file_extension": ".py",
   "mimetype": "text/x-python",
   "name": "python",
   "nbconvert_exporter": "python",
   "pygments_lexer": "ipython3",
   "version": "3.8.5"
  }
 },
 "nbformat": 4,
 "nbformat_minor": 4
}
