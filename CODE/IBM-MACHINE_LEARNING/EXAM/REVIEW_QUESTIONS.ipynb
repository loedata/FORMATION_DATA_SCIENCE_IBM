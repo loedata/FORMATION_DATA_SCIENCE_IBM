{
 "cells": [
  {
   "cell_type": "markdown",
   "metadata": {},
   "source": [
    "# MACHINE LEARNING - REVIEW QUESTIONS"
   ]
  },
  {
   "cell_type": "markdown",
   "metadata": {},
   "source": [
    "# MODULE 1 - Machine Learning"
   ]
  },
  {
   "cell_type": "code",
   "execution_count": null,
   "metadata": {},
   "outputs": [],
   "source": [
    "# Q1 - 1 : True\n",
    "\n",
    "# Machine Learning uses algorithms that can learn from data without relying on \n",
    "# explicitely programmed methods.\n",
    "# 1. True \n",
    "# 2. False"
   ]
  },
  {
   "cell_type": "code",
   "execution_count": null,
   "metadata": {},
   "outputs": [],
   "source": [
    "# Q2 - 5 : Classification and Regression\n",
    "\n",
    "# Which are the two types of Supervised learning techniques?\n",
    "# 1. Classification and Clustering\n",
    "# 2. Classification and K-Means\n",
    "# 3. Regression and Clustering\n",
    "# 4. Regression and Partitioning\n",
    "# 5. Classification and Regression"
   ]
  },
  {
   "cell_type": "code",
   "execution_count": null,
   "metadata": {},
   "outputs": [],
   "source": [
    "# Q3 - 2 : A collection of algorithms and tools for machine learning.\n",
    "\n",
    "# Which of the following statements best describes the Python scikit library?\n",
    "# 1. A library for scientific and high-performance computation.\n",
    "# 2. A collection of algorithms and tools for machine learning.\n",
    "# 3. A popular plotting package that provides 2D plotting as well as 3D \n",
    "#    plotting.\n",
    "# 4. A library that provides high-performance, easy to use data structures.\n",
    "# 5. A collection of numerical algorithms and domain-specific toolboxes."
   ]
  },
  {
   "cell_type": "markdown",
   "metadata": {},
   "source": [
    "# MODULE 2 - Regression"
   ]
  },
  {
   "cell_type": "code",
   "execution_count": null,
   "metadata": {},
   "outputs": [],
   "source": [
    "# Q1 - 1 : True\n",
    "\n",
    "# Train and Test on the Same Dataset might have a high training accuracy, \n",
    "# but its out-of-sample accuracy can be low.\n",
    "# 1. True\n",
    "# 2. False"
   ]
  },
  {
   "cell_type": "code",
   "execution_count": null,
   "metadata": {},
   "outputs": [],
   "source": [
    "# Q2 - 1 : Confusion matrix\n",
    "\n",
    "# Which of the following matrices can be used to show the results of model \n",
    "# accuracy evaluation or the model’s ability to correctly predict or separate \n",
    "# the classes?\n",
    "# 1. Confusion matrix\n",
    "# 2. Evaluation matrix\n",
    "# 3. Accuracy matrix\n",
    "# 4. Error matrix\n",
    "# 5. Identity matrix"
   ]
  },
  {
   "cell_type": "code",
   "execution_count": null,
   "metadata": {},
   "outputs": [],
   "source": [
    "# Q3 - 1 : When we would like to identify the strength of the effect that the \n",
    "#          independent variables have on a dependent variable.\n",
    "\n",
    "# When we should use Multiple Linear Regression?\n",
    "# 1. When we would like to identify the strength of the effect that the \n",
    "#    independent variables have on a dependent variable.\n",
    "# 2. When there are multiple dependent variables."
   ]
  },
  {
   "cell_type": "markdown",
   "metadata": {},
   "source": [
    "# MODULE 3 - Classification"
   ]
  },
  {
   "cell_type": "code",
   "execution_count": null,
   "metadata": {},
   "outputs": [],
   "source": [
    "# Q1 - 1 : A very high value of K (ex. K = 100) produces an overly generalised \n",
    "#          model, while a very low value of k (ex. k = 1) produces a highly \n",
    "#          complex model.\n",
    "\n",
    "# In K-Nearest Neighbors, which of the following is true:\n",
    "# 1. A very high value of K (ex. K = 100) produces an overly generalised model, \n",
    "#    while a very low value of k (ex. k = 1) produces a highly complex model.\n",
    "# 2. A very high value of K (ex. K = 100) produces a model that is better than \n",
    "#    a very low value of K (ex. K = 1)\n",
    "# 3. A very high value of k (ex. k = 100) produces a highly complex model, \n",
    "#    while a very low value of K (ex. K = 1) produces an overly generalized \n",
    "#    model."
   ]
  },
  {
   "cell_type": "code",
   "execution_count": null,
   "metadata": {},
   "outputs": [],
   "source": [
    "# Q2 - 1 : True\n",
    "\n",
    "# A classifier with lower log loss has better accuracy.\n",
    "# 1. True\n",
    "# 2. False"
   ]
  },
  {
   "cell_type": "code",
   "execution_count": null,
   "metadata": {},
   "outputs": [],
   "source": [
    "# Q3 - 1 : True\n",
    "\n",
    "# When building a decision tree, we want to split the nodes in a way that \n",
    "# decreases entropy and increases information gain.\n",
    "# 1. True\n",
    "# 2. False"
   ]
  },
  {
   "cell_type": "markdown",
   "metadata": {},
   "source": [
    "# MODULE 4 - Clustering"
   ]
  },
  {
   "cell_type": "code",
   "execution_count": null,
   "metadata": {},
   "outputs": [],
   "source": [
    "# Q1 - 3 :  As k-means is an iterative algorithm, it guarantees that it will \n",
    "#           always converge to the global optimum.\n",
    "\n",
    "# Which one is NOT TRUE about k-means clustering??\n",
    "# 1. k-means divides the data into non-overlapping clusters without any \n",
    "#    cluster-internal structure.\n",
    "# 2. The objective of k-means, is to form clusters in such a way that similar \n",
    "#    samples go into a cluster, and dissimilar samples fall into different \n",
    "#    clusters.\n",
    "# 3. As k-means is an iterative algorithm, it guarantees that it will always \n",
    "#    converge to the global optimum."
   ]
  },
  {
   "cell_type": "code",
   "execution_count": null,
   "metadata": {},
   "outputs": [],
   "source": [
    "# Q2 - 2 : False\n",
    "\n",
    "# Customer Segmentation is a supervised way of clustering data, based on the \n",
    "# similarity of customers to each other.\n",
    "# 1. True\n",
    "# 2. False"
   ]
  },
  {
   "cell_type": "code",
   "execution_count": null,
   "metadata": {},
   "outputs": [],
   "source": [
    "# Q3 - 1 : We can randomly choose some observations out of the data set and use \n",
    "#          these observations as the initial means. \n",
    "\n",
    "# How is a center point (centroid) picked for each cluster in k-means?\n",
    "# 1. We can randomly choose some observations out of the data set and use \n",
    "#    these observations as the initial means.\n",
    "# 2. We can select the centroid through correlation analysis."
   ]
  },
  {
   "cell_type": "markdown",
   "metadata": {},
   "source": [
    "# MODULE 5 - Recommander Systems"
   ]
  },
  {
   "cell_type": "code",
   "execution_count": null,
   "metadata": {},
   "outputs": [],
   "source": [
    "# Q1 - 1 : True\n",
    "\n",
    "# Collaborative filtering is based on relationships between products and people’s rating patterns.\n",
    "# 1. True\n",
    "# 2. False"
   ]
  },
  {
   "cell_type": "code",
   "execution_count": null,
   "metadata": {},
   "outputs": [],
   "source": [
    "# Q2 - 1 : Content-based recommendation system tries to recommend items to the  \n",
    "#          users based on their profile.\n",
    "\n",
    "# Which one is TRUE about Content-based recommendation systems?\n",
    "# 1. Content-based recommendation system tries to recommend items to the users \n",
    "#    based on their profile.\n",
    "# 2. In content-based approach, the recommendation process is based on  \n",
    "#    similarity of users.\n",
    "# 3. In content-based recommender systems, similarity of users should be \n",
    "#    measured based on the similarity of the actions of users."
   ]
  },
  {
   "cell_type": "code",
   "execution_count": null,
   "metadata": {},
   "outputs": [],
   "source": [
    "# Q3 - 2 : In user-based approach, the recommendation is based on users of the same \n",
    "#          neighborhood, with whom he/she shares common preferences.\n",
    "\n",
    "# Which one is correct about user-based and item-based collaborative filtering?\n",
    "# 1. In item-based approach, the recommendation is based on profile of a user \n",
    "#    that shows interest of the user on specific item\n",
    "# 2. In user-based approach, the recommendation is based on users of the same \n",
    "#    neighborhood, with whom he/she shares common preferences."
   ]
  }
 ],
 "metadata": {
  "kernelspec": {
   "display_name": "Python 3",
   "language": "python",
   "name": "python3"
  },
  "language_info": {
   "codemirror_mode": {
    "name": "ipython",
    "version": 3
   },
   "file_extension": ".py",
   "mimetype": "text/x-python",
   "name": "python",
   "nbconvert_exporter": "python",
   "pygments_lexer": "ipython3",
   "version": "3.8.5"
  }
 },
 "nbformat": 4,
 "nbformat_minor": 4
}
