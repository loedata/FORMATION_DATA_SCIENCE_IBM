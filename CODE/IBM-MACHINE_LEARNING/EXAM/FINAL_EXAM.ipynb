{
 "cells": [
  {
   "cell_type": "markdown",
   "metadata": {},
   "source": [
    "# MACHINE LEARNING - FINAL EXAM"
   ]
  },
  {
   "cell_type": "code",
   "execution_count": null,
   "metadata": {},
   "outputs": [],
   "source": [
    "# Q1 - 1 : True\n",
    "\n",
    "# You can define Jaccard as the size of the intersection divided by the size \n",
    "# of the union of two label sets.\n",
    "# 1. True\n",
    "# 2. False"
   ]
  },
  {
   "cell_type": "code",
   "execution_count": null,
   "metadata": {},
   "outputs": [],
   "source": [
    "# Q2 - 2 : False\n",
    "\n",
    "# When building a decision tree, we want to split the nodes in a way that \n",
    "# increases entropy and decreases information gain.\n",
    "# 1. True\n",
    "# 2. False"
   ]
  },
  {
   "cell_type": "code",
   "execution_count": null,
   "metadata": {},
   "outputs": [],
   "source": [
    "# Q3 - 1, 2 et 5\n",
    "\n",
    "# Which of the following statements are true? (Select all that apply.)\n",
    "# 1. K needs to be initialized in K-Nearest Neighbor. OK\n",
    "# 2. Supervised learning works on labelled data. OK\n",
    "# 3. A high value of K in KNN creates a model that is over-fit\n",
    "# 4. KNN takes a bunch of unlabelled points and uses them to predict unknown\n",
    "#    points.\n",
    "# 5. Unsupervised learning works on unlabelled data. OK"
   ]
  },
  {
   "cell_type": "code",
   "execution_count": null,
   "metadata": {},
   "outputs": [],
   "source": [
    "# Q4 - 1 : True\n",
    "\n",
    "# To calculate a model’s accuracy using the test set, you pass the test set to\n",
    "# your model to predict the class labels, and then compare the predicted values\n",
    "# with actual values.\n",
    "# 1. True\n",
    "# 2. False"
   ]
  },
  {
   "cell_type": "code",
   "execution_count": null,
   "metadata": {},
   "outputs": [],
   "source": [
    "# Q5 - 4 : The amount of information disorder in the data.\n",
    "\n",
    "# Which is the definition of entropy?\n",
    "# 1. The purity of each node in a decition tree.\n",
    "# 2. Information collected that can increase the level of certainty in a \n",
    "#    particular prediction.\n",
    "# 3. The information that is used to randomly select a subset of data.\n",
    "# 4. The amount of information disorder in the data."
   ]
  },
  {
   "cell_type": "code",
   "execution_count": null,
   "metadata": {},
   "outputs": [],
   "source": [
    "# Q6 - 1 : Average linkage is the average distance of each point in one cluster to \n",
    "#          every point in another cluster\n",
    "\n",
    "# Which of the following is true about hierarchical linkages?\n",
    "# 1. Average linkage is the average distance of each point in one cluster to \n",
    "#    every point in another cluster\n",
    "# 2. Complete linkage is the shortest distance between a point in two clusters\n",
    "# 3. Centroid linkage is the distance between two randomly generated centroids\n",
    "#    in two clusters\n",
    "# 4. Single linkage is the distance between any points in two clusters"
   ]
  },
  {
   "cell_type": "code",
   "execution_count": null,
   "metadata": {},
   "outputs": [],
   "source": [
    "# Q7 - 1 : True\n",
    "\n",
    "# The goal of regression is to build a model to accurately predict the \n",
    "# continues value of a dependent variable for an unknown case.\n",
    "# 1. True\n",
    "# 2. False"
   ]
  },
  {
   "cell_type": "code",
   "execution_count": null,
   "metadata": {},
   "outputs": [],
   "source": [
    "# Q8 - 1 et 2\n",
    "\n",
    "# Which of the following statements are true about linear regression? \n",
    "# (Select all that apply)\n",
    "# 1. With linear regression, you can fit a line through the data. OK\n",
    "# 2. y=a+b_x1 is the equation for a straight line, which can be used to \n",
    "#    predict the continuous value y. OK\n",
    "# 3. In y=θ^T.X, θ is the feature set and X is the “weight vector” or \n",
    "#    “confidences of the equation”, with both of these terms used \n",
    "#    interchangeably."
   ]
  },
  {
   "cell_type": "code",
   "execution_count": null,
   "metadata": {},
   "outputs": [],
   "source": [
    "# Q9 - 1 : True\n",
    "\n",
    "# The Sigmoid function is the main part of logistic regression, where Sigmoid \n",
    "# of 𝜃^𝑇.𝑋, gives us the probability of a point belonging to a class, \n",
    "# instead of the value of y directly.\n",
    "# 1. True\n",
    "# 2. False"
   ]
  },
  {
   "cell_type": "code",
   "execution_count": null,
   "metadata": {},
   "outputs": [],
   "source": [
    "# Q10 - 1 : Less tests (evaluation approaches)\n",
    "\n",
    "# In comparison to supervised learning, unsupervised learning has:\n",
    "# 1. Less tests (evaluation approaches)\n",
    "# 2. More models\n",
    "# 3. A better controlled environment\n",
    "# 4. More tests (evaluation approaches), but less models"
   ]
  },
  {
   "cell_type": "code",
   "execution_count": null,
   "metadata": {},
   "outputs": [],
   "source": [
    "# Q11 - 1 : True\n",
    "\n",
    "# The points that are classified by Density-Based Clustering and do not belong\n",
    "# to any cluster, are outliers.\n",
    "# 1. True\n",
    "# 2. False"
   ]
  },
  {
   "cell_type": "code",
   "execution_count": null,
   "metadata": {},
   "outputs": [],
   "source": [
    "# Q12 - 4 : It is used for finding outliers \n",
    "\n",
    "# Which of the following is false about Simple Linear Regression?\n",
    "# 1. It does not require tuning parameters\n",
    "# 2. It is highly interpretable\n",
    "# 3. It is fast\n",
    "# 4. It is used for finding outliers"
   ]
  },
  {
   "cell_type": "code",
   "execution_count": null,
   "metadata": {},
   "outputs": [],
   "source": [
    "# Q13 - 1 : Machine Learning is the branch of AI that covers the statistical \n",
    "#           and learning part of artificial intelligence.\n",
    "\n",
    "# Which one of the following statements is the most accurate?\n",
    "# 1. Machine Learning is the branch of AI that covers the statistical and\n",
    "#    learning part of artificial intelligence.\n",
    "# 2. Deep Learning is a branch of Artificial Intelligence where computers \n",
    "#    learn by being explicitely programmed.\n",
    "# 3. Artificial Intelligence is a branch of Machine Learning that covers the \n",
    "#    statistical part of Deep Learning.\n",
    "# 4. Artificial Intelligence is the branch of Deep Learning that allows us to \n",
    "#    create models."
   ]
  },
  {
   "cell_type": "code",
   "execution_count": null,
   "metadata": {},
   "outputs": [],
   "source": [
    "# Q14 -1, 2 et 3 \n",
    "\n",
    "# Which of the following are types of supervised learning?\n",
    "# 1. Classification OK\n",
    "# 2. Regression OK\n",
    "# 3. KNN OK\n",
    "# 4. K-Means\n",
    "# 5. Clustering"
   ]
  },
  {
   "cell_type": "code",
   "execution_count": null,
   "metadata": {},
   "outputs": [],
   "source": [
    "# Q15 - 2 : False\n",
    "\n",
    "# A Bottom-Up version of hierarchical clustering is known as Divisive \n",
    "# clustering. It is a more popular method than the Agglomerative method.\n",
    "# 1. True\n",
    "# 2. False"
   ]
  },
  {
   "cell_type": "code",
   "execution_count": null,
   "metadata": {},
   "outputs": [],
   "source": [
    "# Q16 - 1 et 3\n",
    "\n",
    "# Select all the true statements related to Hierarchical clustering and K-Means.\n",
    "# 1. Hierarchical clustering does not require the number of clusters to be \n",
    "#    specified. OK\n",
    "# 2. Hierarchical clustering always generates different clusters, whereas \n",
    "#    k-Means returns the same clusters each time it is run.\n",
    "# 3. K-Means is more efficient than Hierarchical clustering for large \n",
    "#    datasets. OK"
   ]
  },
  {
   "cell_type": "code",
   "execution_count": null,
   "metadata": {},
   "outputs": [],
   "source": [
    "# Q17 - 1 : Content-based recommendation system tries to recommend items to \n",
    "#           the users based on their profile built upon their preferences and taste.\n",
    "\n",
    "# What is a content-based recommendation system?\n",
    "# 1. Content-based recommendation system tries to recommend items to the users\n",
    "#    based on their profile built upon their preferences and taste.\n",
    "# 2. Content-based recommendation system tries to recommend items based on \n",
    "#    similarity among items.\n",
    "# 3. Content-based recommendation system tries to recommend items based on the\n",
    "#    similarity of users when buying, watching, or enjoying something."
   ]
  },
  {
   "cell_type": "code",
   "execution_count": null,
   "metadata": {},
   "outputs": [],
   "source": [
    "# Q18 - 1. True :\n",
    "\n",
    "# Before running Agglomerative clustering, you need to compute a \n",
    "# distance/proximity matrix, which is an n by n table of all distances between\n",
    "# each data point in each cluster of your dataset.\n",
    "# 1. True\n",
    "# 2. False"
   ]
  },
  {
   "cell_type": "code",
   "execution_count": null,
   "metadata": {},
   "outputs": [],
   "source": [
    "# Q19 - 1, 2 et 4\n",
    "\n",
    "# Which of the following statements are true about DBSCAN? (Select all that \n",
    "# apply)\n",
    "# 1. DBSCAN can be used when examining spatial data. OK\n",
    "# 2. DBSCAN can be applied to tasks with arbitrary shaped clusters, or clusters \n",
    "#    within clusters. OK\n",
    "# 3. DBSCAN is a hierarchical algorithm that finds core and border points.\n",
    "# 4. DBSCAN can find any arbitrary shaped cluster without getting affected by \n",
    "#    noise. OK"
   ]
  },
  {
   "cell_type": "code",
   "execution_count": null,
   "metadata": {},
   "outputs": [],
   "source": [
    "# Q20 - 2 : False\n",
    "\n",
    "# In recommender systems, \"cold start\" happens when you have a large dataset \n",
    "# of users who have rated only a limited number of items.\n",
    "# 1. True\n",
    "# 2. False"
   ]
  }
 ],
 "metadata": {
  "kernelspec": {
   "display_name": "Python 3",
   "language": "python",
   "name": "python3"
  },
  "language_info": {
   "codemirror_mode": {
    "name": "ipython",
    "version": 3
   },
   "file_extension": ".py",
   "mimetype": "text/x-python",
   "name": "python",
   "nbconvert_exporter": "python",
   "pygments_lexer": "ipython3",
   "version": "3.8.5"
  }
 },
 "nbformat": 4,
 "nbformat_minor": 4
}
