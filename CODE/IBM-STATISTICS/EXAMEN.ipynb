{
 "cells": [
  {
   "cell_type": "markdown",
   "metadata": {},
   "source": [
    "# EXAMEN : STATISTICS"
   ]
  },
  {
   "cell_type": "code",
   "execution_count": null,
   "metadata": {},
   "outputs": [],
   "source": [
    "#  Q1 - 4 : It’s the data about data\n",
    "\n",
    "# What is meta data?\n",
    "# 1. Data about metal fatigue\n",
    "# 2. The metabolism data in a clinical trial\n",
    "# 3. The data about metamorphism\n",
    "# 4. It’s the data about data"
   ]
  },
  {
   "cell_type": "code",
   "execution_count": 1,
   "metadata": {},
   "outputs": [],
   "source": [
    "# Q2 - 3 : The number of big basketball players in NBA (National Basketball \n",
    "#            Association)\n",
    "\n",
    "# Which of the following is not an example of big data?\n",
    "# 1. Number of photographs uploaded to the internet every day\n",
    "# 2. The emails sent daily from your email provider\n",
    "# 3. The number of big basketball players in NBA (National Basketball\n",
    "#    Association)\n",
    "# 4. Weekly data about individual credit card transactions registered for your \n",
    "#    local credit card company"
   ]
  },
  {
   "cell_type": "code",
   "execution_count": null,
   "metadata": {},
   "outputs": [],
   "source": [
    "# Q3 - 3 : Tables as rows and columns\n",
    "\n",
    "# SPSS is ideally suited to analyze data stored in:\n",
    "# 1. Books as words and paragraphs\n",
    "# 2. Digital video files of Hollywood movies\n",
    "# 3. Tables as rows and columns\n",
    "# 4. Digital audio files of music records"
   ]
  },
  {
   "cell_type": "code",
   "execution_count": null,
   "metadata": {},
   "outputs": [],
   "source": [
    "# Q4 - 2 : Syntax (script) based analysis\n",
    "\n",
    "# Reproducibility in statistical analysis requires one to use statistical software that supports:\n",
    "# 1. Free usage for analysis\n",
    "# 2. Syntax (script) based analysis\n",
    "# 3. Tabular output of results\n",
    "# 4. A point and click environment"
   ]
  },
  {
   "cell_type": "code",
   "execution_count": null,
   "metadata": {},
   "outputs": [],
   "source": [
    "# Q5 - 4 : Mode of travel to work\n",
    "\n",
    "# Which of the following is an example of categorical data?\n",
    "# 1. Number of fire hydrants in a city\n",
    "# 2. Number of children at a kindergarten\n",
    "# 3. Length of the river Nile\n",
    "# 4. Mode of travel to work"
   ]
  },
  {
   "cell_type": "code",
   "execution_count": null,
   "metadata": {},
   "outputs": [],
   "source": [
    "# Q6 - 2 : Number of trees in a park\n",
    "\n",
    "# Which of the following is not an example of ordinal data?\n",
    "# 1. Ranking of athletes in an Olympic competition\n",
    "# 2. Number of trees in a park\n",
    "# 3. Level of happiness on a scale of 1 to 5\n",
    "# 4. Street numbers"
   ]
  },
  {
   "cell_type": "code",
   "execution_count": null,
   "metadata": {},
   "outputs": [],
   "source": [
    "# Q7 - 4 : Weight\n",
    "\n",
    "# Which of the following is an example of interval data?\n",
    "# 1. The ethnicity of a person\n",
    "# 2. \"None\", \"Some\", \"Frequent\" - representing the frequency of exercise\n",
    "# 3. First, second and third rankings in a sports competition\n",
    "# 4. Weight"
   ]
  },
  {
   "cell_type": "code",
   "execution_count": null,
   "metadata": {},
   "outputs": [],
   "source": [
    "# Q8 - 1 : All students enrolled in the course\n",
    "\n",
    "# For a survey of student satisfaction in a course, the population comprises:\n",
    "# 1. All students enrolled in the course\n",
    "# 2. All male students registered in the department\n",
    "# 3. All A+ students enrolled in the course\n",
    "# 4. All students registered at the university"
   ]
  },
  {
   "cell_type": "code",
   "execution_count": null,
   "metadata": {},
   "outputs": [],
   "source": [
    "# Q9 - 3 : Ratio data\n",
    "\n",
    "# A mean is meaningful for the following type of data\n",
    "# 1. Audio data\n",
    "# 2. Ordinal data\n",
    "# 3. Ratio data\n",
    "# 4. Categorical data"
   ]
  },
  {
   "cell_type": "code",
   "execution_count": null,
   "metadata": {},
   "outputs": [],
   "source": [
    "# Q10 - 1 : Half of the observations are above the median and the other half \n",
    "#           below it\n",
    "\n",
    "# Median represents a value in the data set where:\n",
    "# 1. Half of the observations are above the median and the other half below it\n",
    "# 2. Most observations are negative\n",
    "# 3. Half of the observations are known and the other half not known\n",
    "# 4. Most observations are positive"
   ]
  },
  {
   "cell_type": "code",
   "execution_count": null,
   "metadata": {},
   "outputs": [],
   "source": [
    "# Q11 - 4 : High variance\n",
    "\n",
    "# If the standard deviation of a variable is larger than the mean, \n",
    "# the variable depicts:\n",
    "# 1. Fluidity\n",
    "# 2. Low variance\n",
    "# 3. Smoothness\n",
    "# 4. High variance"
   ]
  },
  {
   "cell_type": "code",
   "execution_count": null,
   "metadata": {},
   "outputs": [],
   "source": [
    "# Q12 - 3 : Distributed\n",
    "\n",
    "# A histogram is a graphical display of how a variable is\n",
    "# 1. Observed\n",
    "# 2. Displayed\n",
    "# 3. Distributed\n",
    "# 4. Recorded"
   ]
  },
  {
   "cell_type": "code",
   "execution_count": null,
   "metadata": {},
   "outputs": [],
   "source": [
    "# Q13 - 1 : Proportions\n",
    "\n",
    "# The following type of computation is suited for categorical data:\n",
    "# 1. Proportions\n",
    "# 2. Standard deviations\n",
    "# 3. Histogram\n",
    "# 4. Averages"
   ]
  },
  {
   "cell_type": "code",
   "execution_count": null,
   "metadata": {},
   "outputs": [],
   "source": [
    "# Q14 - 2 : A crosstabulation\n",
    "\n",
    "# The relationship between two categorical variables can be captured by:\n",
    "# 1. Standard deviation\n",
    "# 2. A crosstabulation\n",
    "# 3. A bar chart\n",
    "# 4. A histogram"
   ]
  },
  {
   "cell_type": "code",
   "execution_count": null,
   "metadata": {},
   "outputs": [],
   "source": [
    "# Q15 - 1 : 1/36\n",
    "\n",
    "# The probability of getting a 2 by rolling TWO six-sided dice (with sides labeled as 1, 2, 3, 4, 5, 6) is\n",
    "# 1. 1/36\n",
    "# 2. 1/18\n",
    "# 3. 2\n",
    "# 4. 2/36"
   ]
  },
  {
   "cell_type": "code",
   "execution_count": null,
   "metadata": {},
   "outputs": [],
   "source": [
    "# Q16 - 3 : A Chi-square test\n",
    "\n",
    "# What is the best way to determine the significance of relationship between two categorical variables?\n",
    "# 1. A regression model\n",
    "# 2. A Pearson Correlation test\n",
    "# 3. A Chi-square test\n",
    "# 4. A t-test"
   ]
  },
  {
   "cell_type": "code",
   "execution_count": null,
   "metadata": {},
   "outputs": [],
   "source": [
    "# Q17 - 3 : An upward sloping curve\n",
    "\n",
    "# If two continuous variables are positively correlated, their scatter plot will depict:\n",
    "# 1. A flat line\n",
    "# 2. A downward sloping curve\n",
    "# 3. An upward sloping curve\n",
    "# 4. None of the above"
   ]
  },
  {
   "cell_type": "code",
   "execution_count": null,
   "metadata": {},
   "outputs": [],
   "source": [
    "# Q18 - 2 : A Pearson Correlation test\n",
    "\n",
    "# What is the best way to determine the significance of relationship between \n",
    "# two continuous variables?\n",
    "# 1. A regression model\n",
    "# 2. A Pearson Correlation test\n",
    "# 3. A Chi-square test\n",
    "# 4. A t-test"
   ]
  },
  {
   "cell_type": "code",
   "execution_count": null,
   "metadata": {},
   "outputs": [],
   "source": [
    "# Q19 - 1 : A self-explanatory variable title\n",
    "\n",
    "# A good chart should not be missing the following:\n",
    "# 1. A self-explanatory variable title\n",
    "# 2. Thick borders\n",
    "# 3. A dark background colour\n",
    "# 4. Bright colours"
   ]
  },
  {
   "cell_type": "code",
   "execution_count": null,
   "metadata": {},
   "outputs": [],
   "source": [
    "# Q20 - 1 : Use self-explanatory variables\n",
    "\n",
    "# What is the best practice to display axes labels?\n",
    "# 1. Use self-explanatory variables\n",
    "# 2. Use variable names\n",
    "# 3. Use bold font to highlight labels\n",
    "# 4. Don’t use any labels"
   ]
  }
 ],
 "metadata": {
  "kernelspec": {
   "display_name": "Python 3",
   "language": "python",
   "name": "python3"
  },
  "language_info": {
   "codemirror_mode": {
    "name": "ipython",
    "version": 3
   },
   "file_extension": ".py",
   "mimetype": "text/x-python",
   "name": "python",
   "nbconvert_exporter": "python",
   "pygments_lexer": "ipython3",
   "version": "3.8.5"
  }
 },
 "nbformat": 4,
 "nbformat_minor": 4
}
