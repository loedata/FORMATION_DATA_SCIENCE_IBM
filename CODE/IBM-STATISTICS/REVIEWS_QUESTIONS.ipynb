{
 "cells": [
  {
   "cell_type": "markdown",
   "metadata": {},
   "source": [
    "# MODULE 1 - WELCOME TO STATISTICS"
   ]
  },
  {
   "cell_type": "code",
   "execution_count": null,
   "metadata": {},
   "outputs": [],
   "source": [
    "# Q1 - 1 : The sweet smell of success\n",
    "\n",
    "# Which one of the following is not an example of statistics?\n",
    "# 1. The sweet smell of success correct\n",
    "# 2. Monthly housing prices in a city\n",
    "# 3. Traffic noise at a busy intersection\n",
    "# 4. Annual unemployment rate in a country"
   ]
  },
  {
   "cell_type": "code",
   "execution_count": null,
   "metadata": {},
   "outputs": [],
   "source": [
    "# Q2 - 2 : Conducting a poll of a random sample of the voting age population\n",
    "\n",
    "# Which of the following statements is true? One can estimate the votes for a presidential candidate in a forthcoming election by:\n",
    "# 1. Asking your barber\n",
    "# 2. Conducting a poll of a random sample of the voting age population correct\n",
    "# 3. Asking your favourite university professor about who is going to win\n",
    "# 4. Asking the cab drivers in a city of their vote preference"
   ]
  },
  {
   "cell_type": "code",
   "execution_count": null,
   "metadata": {},
   "outputs": [],
   "source": [
    "# Q3 - 1 : An organization chart\n",
    "\n",
    "# Which of the following is not a type of data visualization? (Pick the most appropriate answer)\n",
    "# An organization chart correct\n",
    "# A pie chart\n",
    "# A time series plot\n",
    "# A bar chart"
   ]
  },
  {
   "cell_type": "markdown",
   "metadata": {},
   "source": [
    "# MODULE 2 - DESCRIPTIVE STATISTICS"
   ]
  },
  {
   "cell_type": "code",
   "execution_count": null,
   "metadata": {},
   "outputs": [],
   "source": [
    "# Q1 - 3 : Weekly data on average temperature\n",
    "\n",
    "# Which of the following is not a cross-sectional data set?\n",
    "# 1. Monthly survey of consumer confidence\n",
    "# 2. National Census conducted every 5 or 10 years incorrect\n",
    "# 3. Weekly data on average temperature\n",
    "# 4. A survey of student satisfaction conducted at the end of the course"
   ]
  },
  {
   "cell_type": "code",
   "execution_count": null,
   "metadata": {},
   "outputs": [],
   "source": [
    "# Q2 -  4 : Annual average housing price in New York correct\n",
    "\n",
    "# Which of the following is an example of time series data?\n",
    "# 1. Number of dolphins in the Pacific Ocean\n",
    "# 2. Average batting average of a baseball player\n",
    "# 3. Number of trees in Jardin du Luxemburg in Paris\n",
    "# 4. Annual average housing price in New York correct"
   ]
  },
  {
   "cell_type": "code",
   "execution_count": null,
   "metadata": {},
   "outputs": [],
   "source": [
    "# Q3 - 1 : Vital signs recorded for a new born baby correct\n",
    "\n",
    "# Which of the following is an example of multivariate data?\n",
    "# 1. Vital signs recorded for a new born baby correct\n",
    "# 2. Number of songs played in a day by your favourite radio station\n",
    "# 3. Daily temperature recorded by a monitoring station in Antarctica\n",
    "# 4. Number of words spoken by President Donald Trump in his inaugural speech"
   ]
  },
  {
   "cell_type": "markdown",
   "metadata": {},
   "source": [
    "# MODULE 3 - ADVANCED DESCRIPTIVE STATISTICS"
   ]
  },
  {
   "cell_type": "code",
   "execution_count": null,
   "metadata": {},
   "outputs": [],
   "source": [
    "# Q1 - 4 : A bar chart correct\n",
    "\n",
    "# What is a suitable way to display the average income earned by men and women in a city?\n",
    "# 1. A scatter plot\n",
    "# 2. A pie chart\n",
    "# 3. A histogram\n",
    "# 4. A bar chart correct"
   ]
  },
  {
   "cell_type": "code",
   "execution_count": null,
   "metadata": {},
   "outputs": [],
   "source": [
    "# Q2 - 1 : A scatter plot \n",
    "\n",
    "# What is a suitable way to display relationship between two continuous variables?\n",
    "# 1. A scatter plot \n",
    "# 2. A pie chart\n",
    "# 3. A histogram\n",
    "# 4. A bar chart"
   ]
  },
  {
   "cell_type": "code",
   "execution_count": null,
   "metadata": {},
   "outputs": [],
   "source": [
    "# Q3 - 3. A box plot\n",
    "\n",
    "# What’s the best way to display median and outliers?\n",
    "# 1. A bubble chart\n",
    "# 2. A time series plot\n",
    "# 3. A box plot \n",
    "# 4. A scatter plot"
   ]
  },
  {
   "cell_type": "markdown",
   "metadata": {},
   "source": [
    "# MODULE 4 - VIZUALISATION"
   ]
  },
  {
   "cell_type": "code",
   "execution_count": null,
   "metadata": {},
   "outputs": [],
   "source": [
    "# Q1 - 4 : A line plot\n",
    "\n",
    "# What is the best way to display daily temperature for a city?\n",
    "# 1. A histogram\n",
    "# 2. A pie chart\n",
    "# 3. A Box plot\n",
    "# 4. A line plot"
   ]
  },
  {
   "cell_type": "code",
   "execution_count": null,
   "metadata": {},
   "outputs": [],
   "source": [
    "# Q2 - 1 : Use two axes to display the lines\n",
    "\n",
    "# What extra step is needed to display two related time series variables that differ greatly in magnitude?\n",
    "# 1. Use two axes to display the lines\n",
    "# 2. Plot them by colouring the lines with different colours\n",
    "# 3. Plot the lines with different thickness\n",
    "# 4. Plot them separately in two charts"
   ]
  },
  {
   "cell_type": "code",
   "execution_count": null,
   "metadata": {},
   "outputs": [],
   "source": [
    "# Q3 - 2 : A pie chart\n",
    "\n",
    "# When the sum of two or more categories equals 100, what chart type is ideally suited for displaying data?\n",
    "# 1. A line chart\n",
    "# 2.A pie chart\n",
    "# 3. A box plot\n",
    "# 4. A histogram"
   ]
  },
  {
   "cell_type": "markdown",
   "metadata": {},
   "source": [
    "# MODULE 5 - “From Start to Finish: Beauty Pays Data”"
   ]
  },
  {
   "cell_type": "code",
   "execution_count": null,
   "metadata": {},
   "outputs": [],
   "source": [
    "# Q1 - 2 : Weighting the data with the appropriate variable\n",
    "\n",
    "# When using sample data with weights, it is important to compute statistics by:\n",
    "# 1. Filtering the data with the weight variable\n",
    "# 2. Weighting the data with the appropriate variable\n",
    "# 3. Ignoring the weights\n",
    "# 4. None of the above"
   ]
  },
  {
   "cell_type": "code",
   "execution_count": null,
   "metadata": {},
   "outputs": [],
   "source": [
    "# Q2 - 3 - Remove duplicates before running analysis\n",
    "\n",
    "# When multiple observations are reported for each respondent in the data set, to compute statistics for variables about the respondents, one must:\n",
    "# 1. Ignore the presence of duplicates and compute statistics as usual\n",
    "# 2. Weight data by duplicates\n",
    "# 3. Remove duplicates before running analysis\n",
    "# 4. None of the above"
   ]
  },
  {
   "cell_type": "code",
   "execution_count": null,
   "metadata": {},
   "outputs": [],
   "source": [
    "# Q3 - 1 : Generate and record syntax for every command executed for the analysis\n",
    "\n",
    "# To be able to trace one’s steps, one must:\n",
    "# 1. Generate and record syntax for every command executed for the analysis\n",
    "# 2. Note steps taken for the analyses in a notebook\n",
    "# 3. Use mouse for point and click to undertake the analysis\n",
    "# 4. None of the above"
   ]
  },
  {
   "cell_type": "code",
   "execution_count": null,
   "metadata": {},
   "outputs": [],
   "source": []
  }
 ],
 "metadata": {
  "kernelspec": {
   "display_name": "Python 3",
   "language": "python",
   "name": "python3"
  },
  "language_info": {
   "codemirror_mode": {
    "name": "ipython",
    "version": 3
   },
   "file_extension": ".py",
   "mimetype": "text/x-python",
   "name": "python",
   "nbconvert_exporter": "python",
   "pygments_lexer": "ipython3",
   "version": "3.8.5"
  }
 },
 "nbformat": 4,
 "nbformat_minor": 4
}
