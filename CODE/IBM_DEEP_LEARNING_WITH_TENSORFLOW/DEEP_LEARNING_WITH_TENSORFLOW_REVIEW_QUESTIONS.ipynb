{
 "cells": [
  {
   "cell_type": "markdown",
   "metadata": {},
   "source": [
    "# DEEP LEARNING WITH TENSORFLOW - REVIEW QUESTIONS"
   ]
  },
  {
   "cell_type": "markdown",
   "metadata": {},
   "source": [
    "# Module 1 - Introduction to TensorFlow"
   ]
  },
  {
   "cell_type": "code",
   "execution_count": null,
   "metadata": {},
   "outputs": [],
   "source": [
    "# Q1 - TensorFlow is not proper for Machine Learning Problems\n",
    "\n",
    "# Which statement about TensorFlow is FALSE?\n",
    "# TensorFlow is well suitable for Deep Learning Problems\n",
    "# TensorFlow is not proper for Machine Learning Problems---------- OK ------\n",
    "# TensorFlow has a C/C++ backend as well as Python modules\n",
    "# TensorFlow is an open source library\n",
    "# All of the above"
   ]
  },
  {
   "cell_type": "code",
   "execution_count": null,
   "metadata": {},
   "outputs": [],
   "source": [
    "#  Q2 - A representation of data dependencies between operations\n",
    "\n",
    "# What is a Data Flow Graph?\n",
    "# A representation of data dependencies between operations------- OK -------\n",
    "# A cartesian (x,y) chart\n",
    "# A graphics user interface\n",
    "# A flowchart describing an algorithm   \n",
    "# None of the above "
   ]
  },
  {
   "cell_type": "code",
   "execution_count": null,
   "metadata": {},
   "outputs": [],
   "source": [
    "#  Q3 - sin()\n",
    "\n",
    "# Which function is NOT used as an Activation Function?\n",
    "# sigmoid()\n",
    "# softplus()\n",
    "# sin()-------------------- OK ----------------------\n",
    "# tanh()\n",
    "# relu()"
   ]
  },
  {
   "cell_type": "code",
   "execution_count": null,
   "metadata": {},
   "outputs": [],
   "source": [
    "#  Q4 - runs on CPU and GPU\n",
    "\n",
    "# Which statement about TensorFlow is TRUE?\n",
    "# runs on FPGA\n",
    "# runs on CPU only\n",
    "# runs on CPU and GPU------------------------ OK ----------------------\n",
    "# runs on GPU only"
   ]
  },
  {
   "cell_type": "code",
   "execution_count": null,
   "metadata": {},
   "outputs": [],
   "source": [
    "#  Q5 - All of the above\n",
    "\n",
    "# Why TensorFlow is proper library for Deep Learning?\n",
    "# It will benefit from TensorFlow’s auto-differentiation and suite of \n",
    "# first-rate optimizers.\n",
    "# Provides helpful tools to assemble subgraphs common in neural networks and \n",
    "# deep learning\n",
    "# TensorFlow has extensive built-in support for deep learning\n",
    "# All of the above------------------ OK ---------------------"
   ]
  },
  {
   "cell_type": "markdown",
   "metadata": {},
   "source": [
    "# Module 2 - Convolutional Networks"
   ]
  },
  {
   "cell_type": "code",
   "execution_count": null,
   "metadata": {},
   "outputs": [],
   "source": [
    "#  Q1 - All of the above\n",
    "\n",
    "# What can be achieved with \"Convolution\" operation on Images?\n",
    "# Noise Filtering\n",
    "# Image Smoothing\n",
    "# Image Blurring\n",
    "# Edge Detection\n",
    "# All of the above------------------ OK ------------------------------"
   ]
  },
  {
   "cell_type": "code",
   "execution_count": null,
   "metadata": {},
   "outputs": [],
   "source": [
    "#  Q2 - Placeholder\n",
    "\n",
    "# For convolution, it is better to store Images in TensorFlow Graph as:\n",
    "# Placeholder----------------------- OK ------------------------\n",
    "# CSV file\n",
    "# Numpy array\n",
    "# Variable\n",
    "# None of the above"
   ]
  },
  {
   "cell_type": "code",
   "execution_count": null,
   "metadata": {},
   "outputs": [],
   "source": [
    "#  Q3 - CNN can be applied on ANY 2D and 3D array of data.\n",
    "\n",
    "# Which of the following statements is TRUE about Convolution Neural Networks\n",
    "# (CNN)?\n",
    "# CNN can be applied Only on Image and Text data. \n",
    "# CNN can be applied on ANY 2D and 3D array of data.------- OK ---------\n",
    "# CNN can be applied Only on Text and speech data.\n",
    "# CNN can be applied Only on Image data.\n",
    "# All of the above"
   ]
  },
  {
   "cell_type": "code",
   "execution_count": null,
   "metadata": {},
   "outputs": [],
   "source": [
    "#  Q4 - All of the above\n",
    "\n",
    "# Which of the following Layers can be part of Convolution Neural Networks \n",
    "# (CNN)\n",
    "# Dropout\n",
    "# Softmax\n",
    "# Maxpooling\n",
    "# Relu\n",
    "# All of the above------------------- OK -------------------------"
   ]
  },
  {
   "cell_type": "code",
   "execution_count": 1,
   "metadata": {},
   "outputs": [],
   "source": [
    "#  Q5 - Handle Non-Linearity in the Network\n",
    "\n",
    "# Objective of Activation Function is to:\n",
    "# Increase the Size of Network\n",
    "# Handle Non-Linearity in the Network--------------- OK ------------------\n",
    "# Handle Linearity in the Network\n",
    "# Reduce the Size of Network\n",
    "# None of the above"
   ]
  },
  {
   "cell_type": "markdown",
   "metadata": {},
   "source": [
    "# Module 3 - Recurrent Neural Network"
   ]
  },
  {
   "cell_type": "code",
   "execution_count": null,
   "metadata": {},
   "outputs": [],
   "source": [
    "#  Q1 - A Neural Network that can recurs to itself\n",
    "\n",
    "# What is a Recurrent Neural Network?\n",
    "# A Neural Network that can recurs to itself----------- OK ----------------\n",
    "# An infinite layered Neural Network\n",
    "# A special kind of Neural Network to predict weather\n",
    "# A markovian model"
   ]
  },
  {
   "cell_type": "code",
   "execution_count": null,
   "metadata": {},
   "outputs": [],
   "source": [
    "#  Q2 - RNNs are VERY suitable for sequential data\n",
    "\n",
    "# What is TRUE about RNNs?\n",
    "# RNNs are VERY suitable for sequential data------------- OK --------------\n",
    "# RNNs are NOT suitable for sequential data\n",
    "# RNNs are ONLY suitable for sequential data\n",
    "# All of the above"
   ]
  },
  {
   "cell_type": "code",
   "execution_count": null,
   "metadata": {},
   "outputs": [],
   "source": [
    "#  Q3 - All of the above\n",
    "\n",
    "# What application(s) is (are) suitable for RNNs?\n",
    "# Estimate temperatures from weather Data\n",
    "# Natural Language Processing\n",
    "# Video context retriever\n",
    "# Speech Recognition\n",
    "# All of the above----------------- OK ----------------------"
   ]
  },
  {
   "cell_type": "code",
   "execution_count": null,
   "metadata": {},
   "outputs": [],
   "source": [
    "#  Q4 - All of the above\n",
    "\n",
    "# Why RNNs are susceptible to issues with their gradients?\n",
    "# Numerical computation of gradients can drive into instabilities\n",
    "# Gradients can quickly drop and stabilize at near zero\n",
    "# Propagation of errors due to the recurrent characteristic\n",
    "# Gradients can grow exponentially\n",
    "# All of the above----------------- OK -------------------"
   ]
  },
  {
   "cell_type": "code",
   "execution_count": null,
   "metadata": {},
   "outputs": [],
   "source": [
    "#  Q5 - Long Short Term Memory\n",
    "\n",
    "# What LSTM Stands for?\n",
    "# Last State Threshold Model\n",
    "# Limit Sinusoidal Term Memory\n",
    "# Long Short Term Memory----------------- OK ----------------------\n",
    "# Least Squares Topological Minimization\n",
    "# None of the above"
   ]
  },
  {
   "cell_type": "markdown",
   "metadata": {},
   "source": [
    "# Module 4 - Restricted Boltzmann Machines (RBM)"
   ]
  },
  {
   "cell_type": "code",
   "execution_count": null,
   "metadata": {},
   "outputs": [],
   "source": [
    "#  Q1 - All of the above\n",
    "\n",
    "# What things we can do with unsupervised learning?\n",
    "# Data dimensionality reduction\n",
    "# Object recognition\n",
    "# Feature extraction\n",
    "# Pattern recognition\n",
    "# All of the above-------------------- OK --------------------------"
   ]
  },
  {
   "cell_type": "code",
   "execution_count": null,
   "metadata": {},
   "outputs": [],
   "source": [
    "#  Q2 - 2\n",
    "\n",
    "# How many layers has a RBM (Restricted Boltzmann Machine)?\n",
    "# Infinte\n",
    "# 4\n",
    "# 2--------------------- OK -------------------------------\n",
    "# 3\n",
    "# All of the above"
   ]
  },
  {
   "cell_type": "code",
   "execution_count": null,
   "metadata": {},
   "outputs": [],
   "source": [
    "#  Q3 - Both can regenerate input data-\n",
    "\n",
    "# How RBM compares to PCA?\n",
    "# RBM cannot reduce dimensionality\n",
    "# PCA cannot generate original data\n",
    "# PCA is another type of Neural Network\n",
    "# Both can regenerate input data------------- OK --------------------\n",
    "# All of the above"
   ]
  },
  {
   "cell_type": "code",
   "execution_count": null,
   "metadata": {},
   "outputs": [],
   "source": [
    "#  Q4 - All of the above\n",
    "\n",
    "# Select the True statement about Restricted means in RBM?\n",
    "# It is a Boltzmann machine, but with no connections between nodes in the same\n",
    "# layer\n",
    "# Each node in the first layer has a bias.\n",
    "# The RBM reconstructs data by making several forward and backward passes\n",
    "# between the visible and hidden layers.\n",
    "# At the hidden layer's nodes, X is multiplied by a W (weight matrix) and \n",
    "# added to h_bias.\n",
    "# All of the above---------------------- OK ---------------------"
   ]
  },
  {
   "cell_type": "code",
   "execution_count": null,
   "metadata": {},
   "outputs": [],
   "source": [
    "#  Q5 - All of the above\n",
    "\n",
    "# Select the TRUE statement about RBM:\n",
    "# The objective function is to maximize the likelihood of our data being drawn \n",
    "# from the reconstructed data distribution\n",
    "# The Negative phase of RBM decreases the probability of samples generated by\n",
    "# the model.\n",
    "# Contrastive Divergence (CD) is used to approximate the negative phase of RBM.\n",
    "# The Positive phase of RBM increases the probability of training data.\n",
    "# All of the above------------------ OK ------------------------"
   ]
  },
  {
   "cell_type": "markdown",
   "metadata": {},
   "source": [
    "# Module 5 - Autoencoders"
   ]
  },
  {
   "cell_type": "code",
   "execution_count": null,
   "metadata": {},
   "outputs": [],
   "source": [
    "#  Q1 - Diabolo Networks\n",
    "\n",
    "# Autoencoders are also known as:\n",
    "# LSTM Networks \n",
    "# Diabolo Networks-------------- OK -------------------\n",
    "# Deep Belief Network\n",
    "# Siamese networks\n",
    "# None of the above"
   ]
  },
  {
   "cell_type": "code",
   "execution_count": null,
   "metadata": {},
   "outputs": [],
   "source": [
    "#  Q2 - Time series prediction\n",
    "\n",
    "# Which of the following problems cannot be solved by Autoencoders:\n",
    "# Dimensionality Reduction\n",
    "# Time series prediction------------------- OK ------------------\n",
    "# Image Reconstruction\n",
    "# Emotion Detection\n",
    "# All of the above"
   ]
  },
  {
   "cell_type": "code",
   "execution_count": null,
   "metadata": {},
   "outputs": [],
   "source": [
    "#  Q3 - All of the Above-\n",
    "\n",
    "# What is TRUE about Autoencoders:\n",
    "# Help to reduce Curse of DImensionality\n",
    "# Are Shallow Neural Networks\n",
    "# Used to Learn Most important Features in Data\n",
    "# Used for Unsupervised Learning\n",
    "# All of the Above------------------- OK --------------------"
   ]
  },
  {
   "cell_type": "code",
   "execution_count": null,
   "metadata": {},
   "outputs": [],
   "source": [
    "#  Q4 - A Neural Network that is trained to attempt to copy its input to its \n",
    "#       output\n",
    "\n",
    "# What are Autoencoders:\n",
    "# A Neural Network that is designed to replace Non-Linear Regression\n",
    "\n",
    "# A Neural Network that is trained to attempt to copy its input to its output\n",
    "# --------------------- OK ------------------\n",
    "\n",
    "# A Neural Network that learns all the weights by using labeled Data\n",
    "# A Neural Network Where different layer inputs are controled by gates\n",
    "# All of the Above"
   ]
  },
  {
   "cell_type": "code",
   "execution_count": null,
   "metadata": {},
   "outputs": [],
   "source": [
    "#  Q5 - Autoencoder with Multiple Hidden Layers\n",
    "\n",
    "# What is a Deep Autoencoder:\n",
    "# Autoencoder with Multiple Hidden Layers------------- OK -------------\n",
    "# Autoencoder with multiple input and output layers\n",
    "# Autoencoder stacked with Deep Belief Network \n",
    "# Autoencoder stacked with\n",
    "# None of the Above"
   ]
  }
 ],
 "metadata": {
  "kernelspec": {
   "display_name": "Python 3",
   "language": "python",
   "name": "python3"
  },
  "language_info": {
   "codemirror_mode": {
    "name": "ipython",
    "version": 3
   },
   "file_extension": ".py",
   "mimetype": "text/x-python",
   "name": "python",
   "nbconvert_exporter": "python",
   "pygments_lexer": "ipython3",
   "version": "3.8.5"
  }
 },
 "nbformat": 4,
 "nbformat_minor": 4
}
