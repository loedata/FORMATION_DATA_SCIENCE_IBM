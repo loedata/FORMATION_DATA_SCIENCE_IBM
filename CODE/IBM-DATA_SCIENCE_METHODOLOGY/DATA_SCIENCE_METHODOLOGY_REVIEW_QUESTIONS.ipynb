{
 "cells": [
  {
   "cell_type": "markdown",
   "metadata": {},
   "source": [
    "# DATA SCIENCE METHODOLOGY - REVIEW QUESTIONS"
   ]
  },
  {
   "cell_type": "markdown",
   "metadata": {},
   "source": [
    "# Module 1 - From Problem to Approach"
   ]
  },
  {
   "cell_type": "code",
   "execution_count": null,
   "metadata": {},
   "outputs": [],
   "source": [
    "# Q1 - A methodology is a system of methods used in a particular area of study \n",
    "#      or activity\n",
    "\n",
    "# Select the correct statement.\n",
    "# A methodology is an application for a computer program.\n",
    "# A methodology is a set of instructions.\n",
    "# A methodology is a system of methods used in a particular area of study or\n",
    "# activity.-------------------- OK --------------------------\n",
    "# All of the above statements are correct."
   ]
  },
  {
   "cell_type": "code",
   "execution_count": null,
   "metadata": {},
   "outputs": [],
   "source": [
    "# Q2 - The data science methodology described in this course is outlined by \n",
    "#      John Rollins from IBM.\n",
    "\n",
    "# Select the correct statement.\n",
    "# The data science methodology described in this course is only used by \n",
    "# certified data scientists.\n",
    "# The data science methodology described in this course is outlined by John \n",
    "# Rollins from IBM.------------------ OK ---------------------------\n",
    "# The data science methodology described in this course is limited to IBM.\n",
    "# None of the above statements are correct."
   ]
  },
  {
   "cell_type": "code",
   "execution_count": null,
   "metadata": {},
   "outputs": [],
   "source": [
    "# Q3 - The first stage of the data science methodology is business \n",
    "#      understanding.\n",
    "\n",
    "# Select the correct statement.\n",
    "# The first stage of the data science methodology is data understanding.\n",
    "# The first stage of the data science methodology is modeling.\n",
    "\n",
    "# The first stage of the data science methodology is business understanding.\n",
    "# ------------------- OK ---------------------------------\n",
    "\n",
    "# The first stage of the data science methodology is data collection."
   ]
  },
  {
   "cell_type": "markdown",
   "metadata": {},
   "source": [
    "# Module 2 - From Requirements to Collection"
   ]
  },
  {
   "cell_type": "code",
   "execution_count": null,
   "metadata": {},
   "outputs": [],
   "source": [
    "# Q1 - If a problem is a dish, then data is an ingredient.\n",
    "\n",
    "# Select the correct statement.\n",
    "# If a problem is a dish, then data is an answer.\n",
    "# If a problem is a dish, then data is an ingredient.---------- OK ---------\n",
    "# If a problem is a dish, then data is a list of information.\n",
    "# None of the above statements are correct."
   ]
  },
  {
   "cell_type": "code",
   "execution_count": null,
   "metadata": {},
   "outputs": [],
   "source": [
    "# Q2 - A data requirement is the initial set of ingredients.\n",
    "\n",
    "# Select the correct statement.\n",
    "# A data requirement is never refined.\n",
    "# A data requirement is set in stone.\n",
    "# A data requirement is the initial set of ingredients.------- OK ----------\n",
    "# None of the above statements are correct."
   ]
  },
  {
   "cell_type": "code",
   "execution_count": null,
   "metadata": {},
   "outputs": [],
   "source": [
    "# Q3 - All of the above.\n",
    "\n",
    "# Select the correct statement.\n",
    "# Data scientists determine how to prepare the data.\n",
    "# Data scientists identify the data that is required for data modeling.\n",
    "# Data scientists determine how to collect the data.\n",
    "# All of the above.------------------------- OK --------------------------"
   ]
  },
  {
   "cell_type": "markdown",
   "metadata": {},
   "source": [
    "# Module 3 - From Understanding to Preparation"
   ]
  },
  {
   "cell_type": "code",
   "execution_count": null,
   "metadata": {},
   "outputs": [],
   "source": [
    "# Q1 - All of the above statements are correct.\n",
    "\n",
    "# Select the correct statement about data preparation.\n",
    "# Data preparation involves properly formatting the data.\n",
    "# Data preparation involves correcting invalid values and addressing outliers.\n",
    "# Data preparation involves removing duplicate data.\n",
    "# Data preparation involves addressing missing values.\n",
    "# All of the above statements are correct.------------- OK ---------------"
   ]
  },
  {
   "cell_type": "code",
   "execution_count": null,
   "metadata": {},
   "outputs": [],
   "source": [
    "# Q2 - Data understanding encompasses all activities related to constructing \n",
    "#      the dataset.\n",
    "\n",
    "# Select the correct statement about data understanding.\n",
    "# Data understanding encompasses removing redundant data.\n",
    "# Data understanding encompasses all activities related to constructing the\n",
    "# dataset.------------------- OK -----------------------\n",
    "# Data understanding encompasses sorting the data.\n",
    "# All of the above statements about data understanding are correct."
   ]
  },
  {
   "cell_type": "code",
   "execution_count": null,
   "metadata": {},
   "outputs": [],
   "source": [
    "# Q3 - All of the above statements are correct.\n",
    "\n",
    "# Select the correct statement about what data scientists and database \n",
    "# administrators (DBAs) do during data preparation.\n",
    "# During data preparation, data scientists and DBAs identify missing data.\n",
    "# During data preparation, data scientists and DBAs determine the timing of \n",
    "# events.\n",
    "# During data preparation, data scientists and DBAs aggregate the data and \n",
    "# merge them from different sources.\n",
    "# During data preparation, data scientists and DBAs define the variables to be \n",
    "# used in the model.\n",
    "# All of the above statements are correct.------------ OK ----------------"
   ]
  },
  {
   "cell_type": "markdown",
   "metadata": {},
   "source": [
    "# Module 4 - From Modeling to Evaluation"
   ]
  },
  {
   "cell_type": "code",
   "execution_count": null,
   "metadata": {},
   "outputs": [],
   "source": [
    "# Q1 - A training set is used for predictive modeling. \n",
    "\n",
    "# Select the correct statement.\n",
    "# A training set is used for data visualization.\n",
    "# A training set is used for predictive modeling.---------- OK -------------\n",
    "# A training set is used for statistical analysis.\n",
    "# A training set is used for descriptive modeling.\n",
    "# None of the above statements are correct."
   ]
  },
  {
   "cell_type": "code",
   "execution_count": null,
   "metadata": {},
   "outputs": [],
   "source": [
    "# Q2 - False\n",
    "\n",
    "# A statistician calls a false-negative, a type I error, and a false-positive, \n",
    "# a type II error.\n",
    "# True\n",
    "# False-------------------- OK -------------------------"
   ]
  },
  {
   "cell_type": "code",
   "execution_count": null,
   "metadata": {},
   "outputs": [],
   "source": [
    "# Q3 - All of the above statements are correct.\n",
    "\n",
    "# Select the correct statement about model evaluation.\n",
    "# Model evaluation can include statistical significance testing.\n",
    "# Model evaluation includes ensuring that the data are properly handled and\n",
    "# interpreted.\n",
    "# Model evaluation includes ensuring the model is designed as intended.\n",
    "# Model evaluation includes ensuring that the model is working as intended.\n",
    "# All of the above statements are correct.-------------- OK ----------------"
   ]
  },
  {
   "cell_type": "markdown",
   "metadata": {},
   "source": [
    "# Module 5 - From Deployment to Feedback"
   ]
  },
  {
   "cell_type": "code",
   "execution_count": null,
   "metadata": {},
   "outputs": [],
   "source": [
    "# Q1 - True\n",
    "\n",
    "# The final stages of the data science methodology are an iterative cycle\n",
    "# between modelling, evaluation, deployment, and feedback.\n",
    "# True---------------------- OK ------------------------\n",
    "# False"
   ]
  },
  {
   "cell_type": "code",
   "execution_count": null,
   "metadata": {},
   "outputs": [],
   "source": [
    "# Q2 - Assessing the model before getting deployed.\n",
    "\n",
    "# What is model evaluation used for?\n",
    "# Assessing the model after getting deployed.\n",
    "# Assessing the model before getting deployed.----------- OK ------------\n",
    "# Determining if the model is good for other uses.\n",
    "# All of the above.\n",
    "# None of the above."
   ]
  },
  {
   "cell_type": "code",
   "execution_count": null,
   "metadata": {},
   "outputs": [],
   "source": [
    "# Q3 - Feedback is essential to the long term viability of the model.\n",
    "\n",
    "# Select the correct statement about the feedback stage of the data science \n",
    "# methodology.\n",
    "# Feedback is essential to the long term viability of the model.---- OK -----\n",
    "# Feedback is not helpful and gets in the way.\n",
    "# Feedback is not required once launched.\n",
    "# None of the above statements are correct."
   ]
  }
 ],
 "metadata": {
  "kernelspec": {
   "display_name": "Python 3",
   "language": "python",
   "name": "python3"
  },
  "language_info": {
   "codemirror_mode": {
    "name": "ipython",
    "version": 3
   },
   "file_extension": ".py",
   "mimetype": "text/x-python",
   "name": "python",
   "nbconvert_exporter": "python",
   "pygments_lexer": "ipython3",
   "version": "3.8.5"
  }
 },
 "nbformat": 4,
 "nbformat_minor": 4
}
