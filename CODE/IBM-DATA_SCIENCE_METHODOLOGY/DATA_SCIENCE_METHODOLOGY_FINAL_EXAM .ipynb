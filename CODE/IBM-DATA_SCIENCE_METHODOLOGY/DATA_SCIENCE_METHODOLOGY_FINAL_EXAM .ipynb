{
 "cells": [
  {
   "cell_type": "markdown",
   "metadata": {},
   "source": [
    "# DATA SCIENCE METHODOLOGY - FINAL EXAM"
   ]
  },
  {
   "cell_type": "code",
   "execution_count": null,
   "metadata": {},
   "outputs": [],
   "source": [
    "# Q1 - Data science methodology provides the data scientist with a framework \n",
    "#      for how to proceed to obtain answers.\n",
    "\n",
    "# Select the correct sentence about the data science methodology explained in \n",
    "# the course.\n",
    "# Data science methodology is not an iterative process – one does not go back \n",
    "# and forth between methodological steps.\n",
    "# Data science methodology is a specific strategy that guides processes and \n",
    "# activities relating to data science only for text analytics.\n",
    "# Data science methodology always starts with data collection.\n",
    "# Data science methodology provides the data scientist with a framework for \n",
    "# how to proceed to obtain answers.------------ OK -------------------\n",
    "# Data science methodology depends on a specific set of technologies or tools."
   ]
  },
  {
   "cell_type": "code",
   "execution_count": null,
   "metadata": {},
   "outputs": [],
   "source": [
    "# Q2 - All of the above.\n",
    "\n",
    "# Business understanding is important in the data science methodology stage. \n",
    "# Why?\n",
    "# Because it shapes the rest of the methodological steps.\n",
    "# Because it clearly defines the problem and the needs from a business\n",
    "# perspective.\n",
    "# Because it ensures that the work generates the intended solution.\n",
    "# Because it involves domain expertise.\n",
    "# All of the above.---------------------- OK -----------------------"
   ]
  },
  {
   "cell_type": "code",
   "execution_count": null,
   "metadata": {},
   "outputs": [],
   "source": [
    "# Q3 - Analytic approach\n",
    "\n",
    "# A data scientist determines that building a recommender system is the \n",
    "# solution for a particular business problem at hand. What stage of the data s\n",
    "# cience methodology does this represent?\n",
    "# Modeling\n",
    "# Deployment\n",
    "# Model evaluation\n",
    "# Analytic approach------------------------ OK -------------------------\n",
    "# Data understanding"
   ]
  },
  {
   "cell_type": "code",
   "execution_count": null,
   "metadata": {},
   "outputs": [],
   "source": [
    "# Q4 - It is a highly iterative process and it never ends.\n",
    "\n",
    "# Which of the following represent the two important characteristics of the\n",
    "# data science methodology?\n",
    "# It is a highly iterative process and immediately ends when the model is\n",
    "# deployed.\n",
    "# It is not an iterative process and it never ends.\n",
    "# It has no endpoint because data collection occurs before identifying the \n",
    "# data requirements.\n",
    "# It immediately ends when the model is deployed because no feedback is \n",
    "# required.\n",
    "# It is a highly iterative process and it never ends.--------- OK ---------"
   ]
  },
  {
   "cell_type": "code",
   "execution_count": null,
   "metadata": {},
   "outputs": [],
   "source": [
    "# Q5 - They use descriptive statistics and data visualization techniques.\n",
    "\n",
    "# What do data scientists typically use for exploratory analysis of data and\n",
    "# to get acquainted with them?\n",
    "# They use support vector machines and neural networks as feature extraction\n",
    "# techniques.\n",
    "# They begin with regression, classification, or clustering.\n",
    "# They use deep learning.\n",
    "# They use descriptive statistics and data visualization techniques.--- OK ---\n",
    "# All of the above."
   ]
  },
  {
   "cell_type": "code",
   "execution_count": null,
   "metadata": {},
   "outputs": [],
   "source": [
    "# Q6 - Data preparation involves dealing with missing improperly coded data  \n",
    "#      and can include using text analysis to structure unstructured or \n",
    "#      semi-structuredtext data \n",
    "\n",
    "# Select the correct statement about data preparation.\n",
    "# Data preparation cannot be accelerated through automation.\n",
    "# Data preparation involves dealing with missing improperly coded data and \n",
    "# can include using text analysis to structure unstructured or semi-structured\n",
    "# text data.------------------ OK ---------------------------\n",
    "# Data preparation is typically the least time-consuming methodological step.\n",
    "# All of the above.\n",
    "# None of the above."
   ]
  },
  {
   "cell_type": "code",
   "execution_count": null,
   "metadata": {},
   "outputs": [],
   "source": [
    "# Q7 - Modeling may require testing multiple algorithms and parameters.\n",
    "\n",
    "# Which statement best describes the modeling stage of the data science \n",
    "# methodology.\n",
    "# Modeling is followed by the analytic approach stage.\n",
    "# Modeling may require testing multiple algorithms and parameters.---- OK------\n",
    "# Modeling is always based on predictive models.\n",
    "# Modeling always uses training and test sets.\n",
    "# All of the above."
   ]
  },
  {
   "cell_type": "code",
   "execution_count": null,
   "metadata": {},
   "outputs": [],
   "source": [
    "# Q8 - All of the above.\n",
    "\n",
    "# Which of the following statements best describe the model evaluation stage \n",
    "# of the data science methodology?\n",
    "# Model evaluation may entail statistical significance tests, particularly \n",
    "# when additional proof is necessary to justify some of the emerging \n",
    "# recommendations.\n",
    "# Model evaluation is important because it examines how well the model performs\n",
    "# in the context of the business problem.\n",
    "# Model evaluation entails computing graphs and/or various diagnostic measures\n",
    "# such as a confusion matrix.\n",
    "# Model evaluation is done using a test set if the model is a predictive one.\n",
    "# All of the above.-------------------- OK ----------------------"
   ]
  },
  {
   "cell_type": "code",
   "execution_count": null,
   "metadata": {},
   "outputs": [],
   "source": [
    "# Q9 - It represents the beginning of an iterative process that includes ,\n",
    "#      feedback model refinement and redeployment and requires the input of \n",
    "#      additional groups, such as marketing personnel and business owners.\n",
    "\n",
    "# What does deploying a model into production represent?\n",
    "# It represents the end of the iterative process that includes feedback, model\n",
    "# refinement, and redeployment.\n",
    "# It represents the beginning of an iterative process that includes feedback,\n",
    "# model refinement and redeployment and requires the input of additional \n",
    "# groups, such as marketing personnel and business owners.----- OK -------\n",
    "# It represents the final data science product.\n",
    "# None of the above."
   ]
  },
  {
   "cell_type": "code",
   "execution_count": null,
   "metadata": {},
   "outputs": [],
   "source": [
    "# Q10 - Even though John only submitted one solution, it might be a good one. \n",
    "#       However, John needed feedback on his model from the hospital to \n",
    "#       confirm that his model was able to address the problem appropriately \n",
    "#       and sufficiently.\n",
    "\n",
    "# A data scientist, John, was asked to help reduce readmission rates at a local\n",
    "# hospital. After some time, John provided a model that predicted which \n",
    "# patientswere more likely to be readmitted to the hospital and declared that \n",
    "# his work was done. Which of the following best describes this scenario?\n",
    "\n",
    "# John only provided one model as a solution and he should have provided \n",
    "# multiple models.\n",
    "\n",
    "# The scenario is already optimal.\n",
    "\n",
    "# Even though John only submitted one solution, it might be a good one. \n",
    "# However, John needed feedback on his model from the hospital to confirm that \n",
    "# his model was able to address the problem appropriately and sufficiently.\n",
    "# ---------------------------- OK ------------------------------------\n",
    "\n",
    "# John’s mistake is that he lied in the analytic approach step of the data \n",
    "# science methodology.\n",
    "\n",
    "# John still needed to collect more data."
   ]
  },
  {
   "cell_type": "code",
   "execution_count": null,
   "metadata": {},
   "outputs": [],
   "source": [
    "# Q11 - All of the above.\n",
    "\n",
    "# A car company asked a data scientist to determine what type of customers are\n",
    "# more likely to purchase their vehicles. However, the data comes from several\n",
    "# sources and is in a relatively “raw format”. What kind of processing can the\n",
    "# data scientist perform on the data to prepare it for modeling?\n",
    "\n",
    "# Feature engineering.\n",
    "# Transforming the data into more useful variables.\n",
    "# Combining the data from the various sources.\n",
    "# Addressing missing/invalid values.\n",
    "# All of the above.------------------ OK ----------------------"
   ]
  },
  {
   "cell_type": "code",
   "execution_count": null,
   "metadata": {},
   "outputs": [],
   "source": [
    "# Q12 - Data preparation and Modeling.\n",
    "\n",
    "# High-performance, massively parallel systems can be used to facilitate the\n",
    "# following methodological steps.\n",
    "# Data preparation and Modeling.-------------------- OK -----------------\n",
    "# Modeling only.\n",
    "# Deployment.\n",
    "# Business understanding.\n",
    "# All of the above."
   ]
  },
  {
   "cell_type": "code",
   "execution_count": null,
   "metadata": {},
   "outputs": [],
   "source": [
    "# Q13 - “Top-down” approach – first defining a business problem then analyzing \n",
    "#       the data to find a solution. “Bottom-up” approach – starting with the \n",
    "#       data, and then coming up with a business problem based on the data.\n",
    "\n",
    "# Data scientists may use either a “top-down” approach or a “bottom-up” \n",
    "# approach to data science. These two approaches refer to:\n",
    "\n",
    "# “Top-down” approach – the data, when sorted, is modeled from the “top” of \n",
    "# the data towards the “bottom”. “Bottom-up” approach – the data is modeled \n",
    "# fromthe “bottom” of the data to the “top”.\n",
    "\n",
    "# \"Top-down” approach – models are fit before the data is explored.  \n",
    "# “Bottom-up” approach – data is explored, and then a model is fit.\n",
    "\n",
    "# “Top-down” approach – first defining a business problem then analyzing the \n",
    "# data to find a solution. “Bottom-up” approach – starting with the data, and \n",
    "# then coming up with a business problem based on the data.\n",
    "# -------------------------- OK ---------------------------\n",
    "\n",
    "# “Top-down” approach – using massively parallel, warehouses with huge data\n",
    "# volumes as the data source. “Bottom-up” approach – using a sample of small\n",
    "# data before using large data.\n",
    "\n",
    "# All of the above."
   ]
  },
  {
   "cell_type": "code",
   "execution_count": null,
   "metadata": {},
   "outputs": [],
   "source": [
    "# Q14 - Data sampling.\n",
    "\n",
    "# The following are all examples of rapidly evolving technologies that affect\n",
    "# data science methodology EXCEPT for?\n",
    "# Data sampling.---------------- OK -------------------\n",
    "# Automation.\n",
    "# Text analysis. FAUX\n",
    "# Platform growth.\n",
    "# In-database analytics."
   ]
  },
  {
   "cell_type": "code",
   "execution_count": null,
   "metadata": {},
   "outputs": [],
   "source": [
    "# Q15 - \n",
    "\n",
    "# Data understanding involves all of the following EXCEPT for?\n",
    "# Discovering initial insights about the data.\n",
    "# Visualizing the data.\n",
    "# Assessing data quality.\n",
    "# Understanding the content of the data.\n",
    "\n",
    "# Gathering and analyzing feedback for assessment of the model’s performance.\n",
    "# -------------------- OK ----------------------"
   ]
  },
  {
   "cell_type": "code",
   "execution_count": null,
   "metadata": {},
   "outputs": [],
   "source": [
    "# Q16 - Model evaluation.\n",
    "\n",
    "# For predictive models, a test set, which is similar to – but independent of \n",
    "# – the training set, is used to determine how well the model predicts\n",
    "# outcomes. This is an example of what step in the methodology?\n",
    "# Data preparation.\n",
    "# Deployment.\n",
    "# Analytic approach.\n",
    "# Model evaluation.------------------ OK ------------------------\n",
    "# Data requirements."
   ]
  },
  {
   "cell_type": "code",
   "execution_count": null,
   "metadata": {},
   "outputs": [],
   "source": [
    "# Q17 - text; text\n",
    "\n",
    "# “When ______ data is available (such as customer call center logs or \n",
    "# physicians’ notes in unstructured or semi-structured format), _______ \n",
    "# analytics can be useful in deriving new structured variables to enrich the \n",
    "# set predictors and improve model accuracy.” Which of the following most \n",
    "# appropriately fills in the blanks?\n",
    "# text; text-------------------- OK -----------------------------\n",
    "# market; statistical\n",
    "# big; digital\n",
    "# highly structured; text\n",
    "# text; predictive"
   ]
  },
  {
   "cell_type": "code",
   "execution_count": null,
   "metadata": {},
   "outputs": [],
   "source": [
    "# Q18 - False\n",
    "\n",
    "# Typically in a predictive model, the training set and the test set are very \n",
    "# different and independent, such as having a different set of variables or \n",
    "# structure.\n",
    "# True\n",
    "# False----------------------- OK --------------------------"
   ]
  },
  {
   "cell_type": "code",
   "execution_count": null,
   "metadata": {},
   "outputs": [],
   "source": [
    "# Q19 - True\n",
    "\n",
    "# Data scientists may frequently return to a previous stage to make \n",
    "# adjustments,as they learn more about the data and the modeling.\n",
    "# True----------------------------- OK ---------------------\n",
    "# False"
   ]
  },
  {
   "cell_type": "code",
   "execution_count": null,
   "metadata": {},
   "outputs": [],
   "source": [
    "# Q20 - All of the above.\n",
    "\n",
    "# Why should data scientists maintain continuous communication with business \n",
    "# sponsors throughout a project?\n",
    "# So that business sponsors can provide domain expertise.\n",
    "# So that business sponsors can ensure the work remains on track to generate \n",
    "# the intended solution.\n",
    "# So that business sponsors can review intermediate findings.\n",
    "# All of the above.----------------- OK -----------------------------\n",
    "# None of the above."
   ]
  }
 ],
 "metadata": {
  "kernelspec": {
   "display_name": "Python 3",
   "language": "python",
   "name": "python3"
  },
  "language_info": {
   "codemirror_mode": {
    "name": "ipython",
    "version": 3
   },
   "file_extension": ".py",
   "mimetype": "text/x-python",
   "name": "python",
   "nbconvert_exporter": "python",
   "pygments_lexer": "ipython3",
   "version": "3.8.5"
  }
 },
 "nbformat": 4,
 "nbformat_minor": 4
}
