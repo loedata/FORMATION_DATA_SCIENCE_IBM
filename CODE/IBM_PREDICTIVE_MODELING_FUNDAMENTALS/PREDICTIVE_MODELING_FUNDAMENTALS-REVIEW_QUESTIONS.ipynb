{
 "cells": [
  {
   "cell_type": "markdown",
   "metadata": {},
   "source": [
    "# PREDICTIVE MODELING FUNDAMENTALS - REVIEW QUESTIONS"
   ]
  },
  {
   "cell_type": "markdown",
   "metadata": {},
   "source": [
    "# Module 1: Introduction to Data Mining"
   ]
  },
  {
   "cell_type": "code",
   "execution_count": null,
   "metadata": {},
   "outputs": [],
   "source": [
    "# Q1 - \n",
    "\n",
    "# Which of the following applications would require the use of data mining?\n",
    "# Select all that apply.\n",
    "# Predicting the outcome of flipping a fair coin\n",
    "# Determining which products in a store are likely to be purchased together\n",
    "# Predicting future stock prices using historical records\n",
    "# Determining the total number of products sold by a store\n",
    "# Sorting a student database by gender"
   ]
  },
  {
   "cell_type": "code",
   "execution_count": null,
   "metadata": {},
   "outputs": [],
   "source": [
    "# Q2 - \n",
    "\n",
    "# Which of the following is NOT a section of the Modeler Interface?\n",
    "# Nodes\n",
    "# Stream Canvas\n",
    "# Stream, Outputs, and Model Manager\n",
    "# Palettes\n",
    "# All of the above are sections of the Modeler Interface"
   ]
  },
  {
   "cell_type": "code",
   "execution_count": null,
   "metadata": {},
   "outputs": [],
   "source": [
    "# Q3 - \n",
    "\n",
    "# Which of the following is NOT a part of the Cross-Industry Process for Data \n",
    "# Mining?\n",
    "# Data Preparation\n",
    "# Business Understanding\n",
    "# Evaluation\n",
    "# Data Storage\n",
    "# Modeling"
   ]
  },
  {
   "cell_type": "markdown",
   "metadata": {},
   "source": [
    "# Module 2: The Data Mining Process"
   ]
  },
  {
   "cell_type": "code",
   "execution_count": null,
   "metadata": {},
   "outputs": [],
   "source": [
    "# Q1 - \n",
    "\n",
    "# Which phase of the data mining process focuses on understanding the project \n",
    "# requirements and objectives?\n",
    "# Data Preparation\n",
    "# Data Understanding\n",
    "# Business Understanding\n",
    "# Data Exploration\n",
    "# Data Preprocessing"
   ]
  },
  {
   "cell_type": "code",
   "execution_count": null,
   "metadata": {},
   "outputs": [],
   "source": [
    "# Q2 - \n",
    "\n",
    "# Which Data Preprocessing task focuses on removing outliers and filling in\n",
    "# missing values?\n",
    "# Data Transformation\n",
    "# Data Reduction\n",
    "# Data Integration\n",
    "# Data Cleaning\n",
    "# None of the above"
   ]
  },
  {
   "cell_type": "code",
   "execution_count": null,
   "metadata": {},
   "outputs": [],
   "source": [
    "# Q3 - \n",
    "\n",
    "# The IBM SPSS Modeler supports which data type?\n",
    "# Categorical\n",
    "# Nominal\n",
    "# Continuous\n",
    "# Ordinal\n",
    "# All of the above\n",
    "# unanswered"
   ]
  },
  {
   "cell_type": "markdown",
   "metadata": {},
   "source": [
    "# Module 3: Modeling Techniques"
   ]
  },
  {
   "cell_type": "code",
   "execution_count": null,
   "metadata": {},
   "outputs": [],
   "source": [
    "# Q1 - \n",
    "\n",
    "# Which of the following methods are commonly used for supervised learning \n",
    "# tasks? Select all that apply.\n",
    "# Neural Networks\n",
    "# Decision Trees\n",
    "# K-Means\n",
    "# CARMA\n",
    "# Regression"
   ]
  },
  {
   "cell_type": "code",
   "execution_count": null,
   "metadata": {},
   "outputs": [],
   "source": [
    "# Q2 - \n",
    "\n",
    "# Classification is a subset of supervised learning that focuses on modeling\n",
    "# continuous variables. True or false?\n",
    "# True\n",
    "# False"
   ]
  },
  {
   "cell_type": "code",
   "execution_count": null,
   "metadata": {},
   "outputs": [],
   "source": [
    "# Q3 - \n",
    "\n",
    "# Which of the following algorithms is NOT supported by the SPSS Modeler?\n",
    "# CARMA\n",
    "# Logistic Regression\n",
    "# Apriori\n",
    "# K-Means\n",
    "# All of the above algorithms are supported"
   ]
  },
  {
   "cell_type": "markdown",
   "metadata": {},
   "source": [
    "# Module 4: Model Evaluation"
   ]
  },
  {
   "cell_type": "code",
   "execution_count": null,
   "metadata": {},
   "outputs": [],
   "source": [
    "# Q1 - \n",
    "\n",
    "# What is the term for a negative data point that is incorrectly classified as\n",
    "# positive?\n",
    "# False Positive\n",
    "# True Positive\n",
    "# True Negative\n",
    "# False Negative\n",
    "# None of the above"
   ]
  },
  {
   "cell_type": "code",
   "execution_count": null,
   "metadata": {},
   "outputs": [],
   "source": [
    "# Q2 - \n",
    "\n",
    "# Which of the following is NOT a cost-sensitive performance metric?\n",
    "# Sensitivity\n",
    "# Specificity\n",
    "# Precision\n",
    "# Accuracy\n",
    "# All of the above metrics are cost-sensitive"
   ]
  },
  {
   "cell_type": "code",
   "execution_count": null,
   "metadata": {},
   "outputs": [],
   "source": [
    "# Q3 - \n",
    "\n",
    "# What is the formula for the precision metric?\n",
    "# (True Positive) / (True Positive + False Negative)\n",
    "# (False Positive) / (True Negative + True Positive)\n",
    "# (True Positive) / (True Positive + False Positive)\n",
    "# (True Negative) / (True Negative + False Positive)\n",
    "# (False Positive) / (True Positive + False Positive)"
   ]
  },
  {
   "cell_type": "markdown",
   "metadata": {},
   "source": [
    "# Module 5: Deployment on IBM Bluemix"
   ]
  },
  {
   "cell_type": "code",
   "execution_count": null,
   "metadata": {},
   "outputs": [],
   "source": [
    "# Q1 - \n",
    "\n",
    "# In general, the testing dataset should be significantly larger than the \n",
    "# training dataset. True or false?\n",
    "# True\n",
    "# False"
   ]
  },
  {
   "cell_type": "code",
   "execution_count": null,
   "metadata": {},
   "outputs": [],
   "source": [
    "# Q2 - \n",
    "\n",
    "# Which of the following is NOT a model deployment solution?\n",
    "# SPSS Solution Publisher\n",
    "# IBM Collaboration and Deployment Services\n",
    "# CRISP-DM\n",
    "# Bluemix\n",
    "# All of the above are model deployment solutions"
   ]
  },
  {
   "cell_type": "code",
   "execution_count": null,
   "metadata": {},
   "outputs": [],
   "source": [
    "# Q3 - \n",
    "\n",
    "# Which of the following statements are true of IBM Bluemix? Select all that\n",
    "# apply.\n",
    "# Bluemix generally takes about a week to deploy an app\n",
    "# Bluemix is supported by a growing community\n",
    "# Bluemix is closed-source\n",
    "# Bluemix provides a self-service application-hosting environment\n",
    "# Bluemix provides built-in load-balancing capabilities"
   ]
  }
 ],
 "metadata": {
  "kernelspec": {
   "display_name": "Python 3",
   "language": "python",
   "name": "python3"
  },
  "language_info": {
   "codemirror_mode": {
    "name": "ipython",
    "version": 3
   },
   "file_extension": ".py",
   "mimetype": "text/x-python",
   "name": "python",
   "nbconvert_exporter": "python",
   "pygments_lexer": "ipython3",
   "version": "3.8.5"
  }
 },
 "nbformat": 4,
 "nbformat_minor": 4
}
