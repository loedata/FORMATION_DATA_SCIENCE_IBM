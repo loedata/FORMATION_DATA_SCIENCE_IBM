{
 "cells": [
  {
   "cell_type": "markdown",
   "metadata": {},
   "source": [
    "# DATA PRIVACY FUNDAMENTALS - REVIEW QUESTIONS"
   ]
  },
  {
   "cell_type": "markdown",
   "metadata": {},
   "source": [
    "# Module 1: Student loans data breach (Canada)"
   ]
  },
  {
   "cell_type": "code",
   "execution_count": null,
   "metadata": {},
   "outputs": [],
   "source": [
    "# Q1 - Personal Information Protection and Electronic Documents Act\n",
    "\n",
    "# What does PIPEDA stand for?\n",
    "# Personal Incidents of Privacy for Electronic Documents Act\n",
    "# Personal Information Protection and Electronic Documents Act---- OK ----\n",
    "# Privacy Information of Protections of Electronic Documents Act\n",
    "# Privacy Institute of Protections of Electronic Documents Act\n",
    "# Privacy Initiative for Protection of Electronic Data Act"
   ]
  },
  {
   "cell_type": "code",
   "execution_count": null,
   "metadata": {},
   "outputs": [],
   "source": [
    "# Q2 - The Privacy Act\n",
    "\n",
    "# Which data privacy federal law does the case study incident fall under in \n",
    "# Canada?\n",
    "# The Private Citizens Act\n",
    "# The Privacy Act-------------- OK ----------------------\n",
    "# The Personal Information Protection and Electronic Data Act (PIPEDA)\n",
    "# The Personal Information Protection and Electronic Documents Act (PIPEDA)\n",
    "# The Personal Internet Protection and Electronic Documents Act (PIPEDA)"
   ]
  },
  {
   "cell_type": "code",
   "execution_count": null,
   "metadata": {},
   "outputs": [],
   "source": [
    "# Q3 - To protect against an accidental loss or deletion of the files during a \n",
    "#      data migration\n",
    "\n",
    "# In the case study, why did the ESDC’s Canada Student Loans Program (CSLP)\n",
    "# employee make a backup copy of the program information stored in the central\n",
    "# computer?\n",
    "# He/she knew someone in the data set and wanted to see the value of their \n",
    "# loans\n",
    "# To sell the data on the dark web\n",
    "# To view the data at home\n",
    "# To keep the data for personal use after he/she resigned from the organization\n",
    "# To protect against an accidental loss or deletion of the files during a data \n",
    "# migration------------------ OK ----------------------------- "
   ]
  },
  {
   "cell_type": "markdown",
   "metadata": {},
   "source": [
    "# Module 2: Target Corp. (USA)"
   ]
  },
  {
   "cell_type": "code",
   "execution_count": null,
   "metadata": {},
   "outputs": [],
   "source": [
    "# Q1 - True\n",
    "\n",
    "# Under The Personal Information Protection and Electronic Documents Act, \n",
    "# PIPEDA, is credit card information considered ‘personal information’?\n",
    "# False\n",
    "# True-------------------- OK -----------------------"
   ]
  },
  {
   "cell_type": "code",
   "execution_count": null,
   "metadata": {},
   "outputs": [],
   "source": [
    "# Q2 - True\n",
    "\n",
    "# Are bricks and mortar physical stores covered under the Personal Information\n",
    "# Protection and Electronic Documents Act, PIPEDA?\n",
    "# False\n",
    "# True-------------------- OK -----------------------"
   ]
  },
  {
   "cell_type": "code",
   "execution_count": null,
   "metadata": {},
   "outputs": [],
   "source": [
    "# Q3 - True \n",
    "\n",
    "# Is an online commercial business that sells jewelry online and has a maximum \n",
    "# of 99 employees covered under the Personal Information Protection and \n",
    "# Electronic Documents Act, PIPEDA?\n",
    "# False\n",
    "# True-------------------- OK -----------------------"
   ]
  },
  {
   "cell_type": "markdown",
   "metadata": {},
   "source": [
    "# Module 3: Think W3 (UK)"
   ]
  },
  {
   "cell_type": "code",
   "execution_count": null,
   "metadata": {},
   "outputs": [],
   "source": [
    "# Q1 - In the most expedient time possible\n",
    "\n",
    "# According to General Business Law § 899-aa in the Doritex Corp. case, when\n",
    "# should a company notify affected individuals and various government agencies\n",
    "# of a data breach?\n",
    "# In the most expedient time possible------------- OK ------------------\n",
    "# Within 7 days of the breach\n",
    "# Within 5 business days of the breach\n",
    "# Within 30 days of the breach\n",
    "# At the end of the financial year"
   ]
  },
  {
   "cell_type": "code",
   "execution_count": null,
   "metadata": {},
   "outputs": [],
   "source": [
    "# Q2 - Seventh principle - Appropriate technical and organisational measures \n",
    "#      shall be taken against unauthorised or unlawful processing of personal \n",
    "#      data and against accidental loss or destruction of, or damage to, \n",
    "#      personal data.\n",
    "\n",
    "# Which of the 8 data protection principles did Think W3 UK infringe in the \n",
    "# Case Study?\n",
    "# First Principle - Personal data shall be processed fairly and lawfully and,\n",
    "# in particular, shall not be processed unless at least one of the conditions\n",
    "# in Schedule 2 is met and in the case of sensitive personal data, at least  \n",
    "# one of the conditions set out in Schedule 3 or either of the two Statutory\n",
    "# Instruments below is met.\n",
    "\n",
    "# Third principle - Personal data shall be adequate, relevant and not \n",
    "# excessive in relation to the purpose or purposes for which they are \n",
    "# processed.\n",
    "\n",
    "# Fourth principle - Personal data shall be accurate and, where necessary, \n",
    "# kept up to date.\n",
    "\n",
    "# Seventh principle - Appropriate technical and organisational measures shall\n",
    "# be taken against unauthorised or unlawful processing of personal data and\n",
    "# against accidental loss or destruction of, or damage to, personal data.\n",
    "# ------------------ OK -------------------\n",
    "\n",
    "# Eighth principle - Personal data shall not be transferred to a country or \n",
    "# territory outside the European Economic Area, unless that country or\n",
    "# territory ensures an adequate level of protection for the rights and \n",
    "# freedoms of data subjects in relation to the processing of personal data."
   ]
  },
  {
   "cell_type": "code",
   "execution_count": null,
   "metadata": {},
   "outputs": [],
   "source": [
    "# Q3 - Proactive not reactive\n",
    "\n",
    "# Which of the following statements is one of the 7 guiding principles of \n",
    "# Privacy by Design\n",
    "# The 80/20 Rule, 20% of the team see 80% of the data\n",
    "# Data access by pay grade\n",
    "# Soft copy before hard copy\n",
    "# Reduce waste\n",
    "# Proactive not reactive------------------ OK ---------------------"
   ]
  },
  {
   "cell_type": "markdown",
   "metadata": {},
   "source": [
    "# Module 4: Home Depot (USA)"
   ]
  },
  {
   "cell_type": "code",
   "execution_count": null,
   "metadata": {},
   "outputs": [],
   "source": [
    "# Q1 - Self-checkout system\n",
    "\n",
    "# Hackers deployed custom-built malware on which Home Depot system?\n",
    "# Alarm system\n",
    "# Surveillance system\n",
    "# Self-checkout system-------------------- OK ---------------------\n",
    "# Loyalty card system\n",
    "# Company Intranet"
   ]
  },
  {
   "cell_type": "code",
   "execution_count": null,
   "metadata": {},
   "outputs": [],
   "source": [
    "# Q2 - Limit the number of password attempts in a short period\n",
    "\n",
    "# What can companies do to prevent hacks?\n",
    "# Limit the number of password attempts in a short period------- OK ---------\n",
    "# Increase the number of users on the platform\n",
    "# Pay lawyers to litigate any attempts at hacking\n",
    "# Host the apps and websites on international servers\n",
    "# Encourage employees to save their passwords in a ‘Passwords’ folder on the \n",
    "# company network"
   ]
  },
  {
   "cell_type": "code",
   "execution_count": null,
   "metadata": {},
   "outputs": [],
   "source": [
    "# Q3 - N3wG.UUnniiV3r5iiTeeG.yyorK\n",
    "\n",
    "# From what you learnt in the ‘Tips for strong passwords’ section, which of\n",
    "# these is considered a strong password?\n",
    "# 123123\n",
    "# Passw0rd1\n",
    "# N3wG.UUnniiV3r5iiTeeG.yyorK------------------ OK ---------------------\n",
    "# QWERTY\n",
    "# Mohammed123"
   ]
  },
  {
   "cell_type": "code",
   "execution_count": null,
   "metadata": {},
   "outputs": [],
   "source": [
    "# Q4 - A vendor’s username and password\n",
    "\n",
    "# How did hackers access the Home Depot network?\n",
    "# A vendor’s username and password------------------ OK --------------------\n",
    "# A vendor’s USB stick\n",
    "# An open wifi network\n",
    "# A card cloning machine\n",
    "# A vendor’s mobile phone"
   ]
  },
  {
   "cell_type": "markdown",
   "metadata": {},
   "source": [
    "# Module 5: Analyzing Hacked Passwords in R"
   ]
  },
  {
   "cell_type": "code",
   "execution_count": null,
   "metadata": {},
   "outputs": [],
   "source": [
    "# Q1 - Another family member's name\n",
    "\n",
    "# Which of these is on the list of 'worst password ideas'?\n",
    "# Medical procedures\n",
    "# Another family member's name----------------- OK ------------------------\n",
    "# Made up words\n",
    "# Phrase combinations\n",
    "# Phrases in another language"
   ]
  },
  {
   "cell_type": "code",
   "execution_count": null,
   "metadata": {},
   "outputs": [],
   "source": [
    "# Q2 - 7\n",
    "\n",
    "# In the lab exercise, how many passwords had the number sequence '123' in \n",
    "# them?\n",
    "# 14\n",
    "# 4\n",
    "# 10\n",
    "# 16\n",
    "# 7------------------------- OK ------------------------"
   ]
  },
  {
   "cell_type": "code",
   "execution_count": null,
   "metadata": {},
   "outputs": [],
   "source": [
    "# Q3 - including backups\n",
    "\n",
    "# In the '10 Privacy Tips of Companies' list, on completion of projects, all \n",
    "# materials relating to a project should be deleted, __________________\n",
    "# including backups.--------------------- OK -----------------------\n",
    "# excluding backups."
   ]
  }
 ],
 "metadata": {
  "kernelspec": {
   "display_name": "Python 3",
   "language": "python",
   "name": "python3"
  },
  "language_info": {
   "codemirror_mode": {
    "name": "ipython",
    "version": 3
   },
   "file_extension": ".py",
   "mimetype": "text/x-python",
   "name": "python",
   "nbconvert_exporter": "python",
   "pygments_lexer": "ipython3",
   "version": "3.8.5"
  }
 },
 "nbformat": 4,
 "nbformat_minor": 4
}
