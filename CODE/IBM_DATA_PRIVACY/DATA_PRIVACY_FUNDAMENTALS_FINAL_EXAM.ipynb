{
 "cells": [
  {
   "cell_type": "markdown",
   "metadata": {},
   "source": [
    "# DATA PRIVACY FUNDAMENTALS -FINAL EXAM"
   ]
  },
  {
   "cell_type": "code",
   "execution_count": null,
   "metadata": {},
   "outputs": [],
   "source": [
    "# Q1 - Because the update broke portions of the website\n",
    "\n",
    "# Why did OneStopParking put off the website update?\n",
    "# Because the update broke portions of the website--------- OK ----------\n",
    "# Because the website was programmed to do automatic updates\n",
    "# Because no one received the notification about an update\n",
    "# Because the web administrator was on maternity leave\n",
    "# Because no one knew how to do the update"
   ]
  },
  {
   "cell_type": "code",
   "execution_count": null,
   "metadata": {},
   "outputs": [],
   "source": [
    "# Q2 - False\n",
    "\n",
    "# True or false? OneStopParking was able to determine exatly which customers\n",
    "# were affected by the breach:\n",
    "# True\n",
    "# False------------------- OK ---------------------"
   ]
  },
  {
   "cell_type": "code",
   "execution_count": null,
   "metadata": {},
   "outputs": [],
   "source": [
    "# Q3 - 6 days\n",
    "\n",
    "# How many days after OneStopParking learned about the breach did they remedy \n",
    "# the situation?\n",
    "# 6 days--------------------- OK ------------------\n",
    "# 21 days\n",
    "# 15 days\n",
    "# 17 days\n",
    "# 3 days"
   ]
  },
  {
   "cell_type": "code",
   "execution_count": null,
   "metadata": {},
   "outputs": [],
   "source": [
    "# Q4 - just19\n",
    "\n",
    "# Based on the R code you used in Module 5, which of the options below could \n",
    "# be Justin's password?\n",
    "# just19--------------------------- OK ----------------------\n",
    "# Justi199\n",
    "# 19justi\n",
    "# just1n199\n",
    "# justin 1990"
   ]
  },
  {
   "cell_type": "code",
   "execution_count": null,
   "metadata": {},
   "outputs": [],
   "source": [
    "# Q5 - the database system prompts administrators to change the password \n",
    "#      regularly\n",
    "\n",
    "# Based on what you have learnt in this course, which of the following options\n",
    "# is a good Privacy by Design feature in a database system?\n",
    "# the database system auto saves passwords in the browser\n",
    "# the database system allows multiple attempts after an incorrect password\n",
    "# entry\n",
    "# the database system include historical personal customer data that no one \n",
    "# uses\n",
    "\n",
    "# the database system prompts administrators to change the password regularly\n",
    "# -------------------- OK -----------------------\n",
    "\n",
    "# the database system lets administrators recycle passwords"
   ]
  },
  {
   "cell_type": "code",
   "execution_count": 2,
   "metadata": {},
   "outputs": [],
   "source": [
    "# Q6 - No - The request seems unethical and you should report Justin for his \n",
    "#      irresponsible password practices.\n",
    "\n",
    "# The company privacy policy clearly states that password problems of this \n",
    "# nature should be reported to the IT Director immediately. Should you help \n",
    "# Justin with his password problem?\n",
    "# Yes - The request seems reasonable as long as you guess the correct password\n",
    "# in under 5 attempts.\n",
    "# No - The request seems unethical and you should advise Justin to report his \n",
    "# password problem.\n",
    "# No - The request seems unethical and you should not get involved.\n",
    "# No - The request seems unethical and you should report Justin for his \n",
    "# irresponsible password practices.----------------- OK ----------------\n",
    "# Yes - You have the skills to help Justin with his password problem, you \n",
    "# should offer your assistance without question."
   ]
  }
 ],
 "metadata": {
  "kernelspec": {
   "display_name": "Python 3",
   "language": "python",
   "name": "python3"
  },
  "language_info": {
   "codemirror_mode": {
    "name": "ipython",
    "version": 3
   },
   "file_extension": ".py",
   "mimetype": "text/x-python",
   "name": "python",
   "nbconvert_exporter": "python",
   "pygments_lexer": "ipython3",
   "version": "3.8.5"
  }
 },
 "nbformat": 4,
 "nbformat_minor": 4
}
