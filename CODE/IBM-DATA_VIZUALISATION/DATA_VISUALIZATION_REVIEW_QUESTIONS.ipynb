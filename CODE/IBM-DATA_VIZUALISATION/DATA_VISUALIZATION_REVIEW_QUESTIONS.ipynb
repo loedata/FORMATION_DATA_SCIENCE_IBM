{
 "cells": [
  {
   "cell_type": "markdown",
   "metadata": {},
   "source": [
    "# Data Visualization with Python - REVIEW QUESTIONS"
   ]
  },
  {
   "cell_type": "markdown",
   "metadata": {},
   "source": [
    "# Introduction to Visualization Tools"
   ]
  },
  {
   "cell_type": "code",
   "execution_count": null,
   "metadata": {},
   "outputs": [],
   "source": [
    "# Q1 - Backend Layer, Artist Layer, and Scripting Layer.\n",
    "\n",
    "# What are the layers that make up the Matplotlib architecture?\n",
    "# FigureCanvas Layer, Renderer Layer, and Artist Layer.\n",
    "# Backend_Bases Layer, Artist Layer, Scripting Layer.\n",
    "# Backend Layer, Artist Layer, and Scripting Layer.------- OK --------\n",
    "# Backend Layer, FigureCanvas Layer, Renderer Layer, Artist Layer, and \n",
    "# Scripting Layer.\n",
    "# Figure Layer, Artist Layer, and Scripting Layer."
   ]
  },
  {
   "cell_type": "code",
   "execution_count": null,
   "metadata": {},
   "outputs": [],
   "source": [
    "# Q2 - False\n",
    "\n",
    "# Using the inline backend, you can modify a figure after it is rendered.\n",
    "# False------------------- OK ----------------------\n",
    "# True"
   ]
  },
  {
   "cell_type": "code",
   "execution_count": null,
   "metadata": {},
   "outputs": [],
   "source": [
    "# Q3 - %matplotlib inline et %matplotlib notebook\n",
    "\n",
    "# Which of the following are examples of Matplotlib magic functions? Choose \n",
    "# all that apply.\n",
    "# %matplotlib inline------------------ OK ------------------------\n",
    "# #matplotlib notebook\n",
    "# $matplotlib outline\n",
    "# %matplotlib notebook------------------ OK ----------------------\n",
    "# #matplotlib inline"
   ]
  },
  {
   "cell_type": "markdown",
   "metadata": {},
   "source": [
    "# Basic Visualization Tools"
   ]
  },
  {
   "cell_type": "code",
   "execution_count": null,
   "metadata": {},
   "outputs": [],
   "source": [
    "# Q1 - True\n",
    "\n",
    "# Area plots are stacked by default.\n",
    "# False\n",
    "# True--------------- OK -------------------"
   ]
  },
  {
   "cell_type": "code",
   "execution_count": null,
   "metadata": {},
   "outputs": [],
   "source": [
    "# Q2 - count, bin_edges = np.histogram(series_data)\n",
    "#      series_data.plot(kind='hist', xticks = bin_edges)\n",
    "\n",
    "# Given a pandas series, series_data, which of the following will create a\n",
    "# histogram of series_data and align the bin edges with the horizontal tick \n",
    "# marks?\n",
    "\n",
    "# count, bin_edges = np.histogram(series_data)\n",
    "# series_data.plot(kind='hist', xticks = count, bin_edges)\n",
    "\n",
    "# count, bin_edges = np.histogram(series_data)\n",
    "# series_data.plot(kind='hist', xticks = count)\n",
    "\n",
    "# count, bin_edges = np.histogram(series_data)------------- OK --------------\n",
    "# series_data.plot(kind='hist', xticks = bin_edges)\n",
    "\n",
    "# series_data.plot(kind='hist')\n",
    "\n",
    "# count, bin_edges = np.histogram(series_data)\n",
    "# series_data.plot(type='hist', xticks = bin_edges)"
   ]
  },
  {
   "cell_type": "code",
   "execution_count": null,
   "metadata": {},
   "outputs": [],
   "source": [
    "# Q3 - question.plot(kind='barh')\n",
    "\n",
    "# Given a pandas dataframe, question, which of the following will create a \n",
    "# horizontal barchart of the data in question?\n",
    "# question.plot(type='bar', rot=90)\n",
    "# question.plot(kind='bar', orientation='horizontal')\n",
    "# question.plot(kind='barh')----------------- OK ------------------------\n",
    "# question.plot(kind='bar')\n",
    "# question.plot(kind='bar', type='horizontal')"
   ]
  },
  {
   "cell_type": "markdown",
   "metadata": {},
   "source": [
    "# Specialized Visualization Tools"
   ]
  },
  {
   "cell_type": "code",
   "execution_count": null,
   "metadata": {},
   "outputs": [],
   "source": [
    "# Q1 - False\n",
    "\n",
    "# Pie charts are less confusing than bar charts and should be your first \n",
    "# attempt when creating a visual.\n",
    "# False----------------- OK --------------------\n",
    "# True"
   ]
  },
  {
   "cell_type": "code",
   "execution_count": null,
   "metadata": {},
   "outputs": [],
   "source": [
    "# Q2 - A = Median, B = Third Quartile, C = First Quartile, D = Inter Quartile Range,\n",
    "#      E = Minimum, and F = Outliers\n",
    "\n",
    "# What do the letters in the box plot above represent?\n",
    "# A = Mean, B = Upper Mean Quartile, C = Lower Mean Quartile, \n",
    "# D = Inter Quartile Range, E = Minimum, and F = Outliers\n",
    "\n",
    "# A = Mean, B = Third Quartile, C = First Quartile, D = Inter Quartile Range,\n",
    "# E = Minimum, and F = Outliers\n",
    "\n",
    "# A = Median, B = Third Quartile, C = First Quartile, D = Inter Quartile Range,\n",
    "# E = Minimum, and F = Outliers------------ OK -----------------------\n",
    "\n",
    "# A = Median, B = Third Quartile, C = Mean, D = Inter Quartile Range, \n",
    "# E = Lower Quartile, and F = Outliers\n",
    "\n",
    "# A = Mean, B = Third Quartile, C = First Quartile, D = Inter Quartile Range,\n",
    "# E = Minimum, and F = Maximum"
   ]
  },
  {
   "cell_type": "code",
   "execution_count": null,
   "metadata": {},
   "outputs": [],
   "source": [
    "# Q3 - Function = plot, and Parameter = kind, with value = \"box\"\n",
    "\n",
    "# What is the correct combination of function and parameter to create a box \n",
    "# plot in Matplotlib?\n",
    "# Function = box, and Parameter = type, with value = \"plot\"\n",
    "# Function = boxplot, and Parameter = type, with value = \"plot\"\n",
    "# Function = plot, and Parameter = type, with value = \"box\"\n",
    "# Function = plot, and Parameter = kind, with value = \"boxplot\"\n",
    "# Function = plot, and Parameter = kind, with value = \"box\"----- OK -------"
   ]
  },
  {
   "cell_type": "markdown",
   "metadata": {},
   "source": [
    "# Advanced Visualization Tools"
   ]
  },
  {
   "attachments": {
    "image.png": {
     "image/png": "[encoded data removed]"
    }
   },
   "cell_type": "markdown",
   "metadata": {},
   "source": [
    "![image.png](attachment:image.png)"
   ]
  },
  {
   "cell_type": "code",
   "execution_count": null,
   "metadata": {},
   "outputs": [],
   "source": [
    "# Q1 - import seaborn as sns\n",
    "#      ax = sns.regplot(x=\"year\", y=\"total\", data=data_dataframe, \n",
    "#      color=\"green\", marker=\"+\")\n",
    "\n",
    "# Which of the choices below will create the following regression line plot, \n",
    "# given a pandas dataframe, data_dataframe?\n",
    "\n",
    "# import seaborn as sns\n",
    "# ax = sns.regplot(x=\"year\", y=\"total\", data=data_dataframe, color=\"green\")\n",
    "\n",
    "# data_dataframe.plot(kind=\"regression\", color=\"green\", marker=\"+\")\n",
    "\n",
    "# import seaborn as sns\n",
    "# ax = sns.regplot(x=\"year\", y=\"total\", data=data_dataframe, color=\"green\",\n",
    "# marker=\"+\")--------------------- OK -----------------------------\n",
    "\n",
    "# data_dataframe.plot(kind=\"regplot\", color=\"green\", marker=\"+\")\n",
    "\n",
    "# import seaborn as sns\n",
    "# ax = sns.regplot(x=\"total\", y=\"year\", data=data_dataframe, color=\"green\")"
   ]
  },
  {
   "cell_type": "code",
   "execution_count": null,
   "metadata": {},
   "outputs": [],
   "source": [
    "# Q2 - False\n",
    "\n",
    "# In Python, creating a waffle chart is straightforward since we can easily \n",
    "# create one using the scripting layer of Matplotlib.\n",
    "# False--------------------- OK ------------------------\n",
    "# True"
   ]
  },
  {
   "cell_type": "code",
   "execution_count": null,
   "metadata": {},
   "outputs": [],
   "source": [
    "# Q3 - \n",
    "\n",
    "# A word cloud (choose all that apply)---------------- OK -----------------\n",
    "# is a depiction of the frequency of different words in some textual data.\n",
    "\n",
    "# is a depiction of the frequency of the stopwords, such as a, the, and, in \n",
    "# some textual data.\n",
    "\n",
    "# is a depiction of the meaningful words in some textual data, where the more \n",
    "# a specific word appears in the text, the bigger and bolder it appears in the \n",
    "# word cloud.---------------------- OK -----------------------------\n",
    "\n",
    "# can be generated in Python using the word_cloud library that was developed \n",
    "# by Andreas Mueller.----------------- OK ----------------------------\n",
    "\n",
    "# can be easily created using Matplotlib using the scripting layer."
   ]
  },
  {
   "cell_type": "markdown",
   "metadata": {},
   "source": [
    "# Creating Maps and Visualizing Geospatial Data"
   ]
  },
  {
   "cell_type": "code",
   "execution_count": null,
   "metadata": {},
   "outputs": [],
   "source": [
    "# Q1 - Stamen Toner\n",
    "\n",
    "# What tile style of Folium maps is usefule for data mashups and exploring \n",
    "# river meanders and coastal zones?\n",
    "# OpenStreetMap \n",
    "# Mapbox Bright\n",
    "# Stamen Toner------------------ OK -----------------------\n",
    "# Stamen Terrain\n",
    "# River and Coastal"
   ]
  },
  {
   "cell_type": "code",
   "execution_count": null,
   "metadata": {},
   "outputs": [],
   "source": [
    "# Q2 - False \n",
    "\n",
    "# You cluster markers superimposed onto a map in Folium using a feature group\n",
    "# object.\n",
    "# False------------------------ OK --------------------------\n",
    "# True"
   ]
  },
  {
   "cell_type": "code",
   "execution_count": null,
   "metadata": {},
   "outputs": [],
   "source": [
    "# Q3 -  folium.Map(location=[40.4637, -3.7492], zoom_start=6, \n",
    "# tiles='Stamen Terrain')\n",
    "\n",
    "# If you are interested in generating a map of Spain to visualize its hill \n",
    "# shading and natural vegetation, which of the following lines of code will \n",
    "# create the right map for you?\n",
    "# folium.Map(location=[40.4637, 3.7492], zoom_start=6, tiles='Stamen Toner')\n",
    "# folium.Map(location=[40.4637, 3.7492], zoom_start=6, tiles='Stamen Terrain')\n",
    "# folium.Map(location=[40.4637, -3.7492], zoom_start=6, tiles='Stamen Terrain')\n",
    "# ------------------------ OK --------------------------------------------\n",
    "# folium.Map(location=[-40.4637, -3.7492], zoom_start=6, \n",
    "# tiles='Stamen Terrain')\n",
    "# folium.Map(location=[40.4637, 3.7492], zoom_start=6)"
   ]
  }
 ],
 "metadata": {
  "kernelspec": {
   "display_name": "Python 3",
   "language": "python",
   "name": "python3"
  },
  "language_info": {
   "codemirror_mode": {
    "name": "ipython",
    "version": 3
   },
   "file_extension": ".py",
   "mimetype": "text/x-python",
   "name": "python",
   "nbconvert_exporter": "python",
   "pygments_lexer": "ipython3",
   "version": "3.8.5"
  }
 },
 "nbformat": 4,
 "nbformat_minor": 4
}
